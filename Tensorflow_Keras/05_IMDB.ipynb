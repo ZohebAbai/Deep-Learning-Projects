{
 "cells": [
  {
   "cell_type": "code",
   "execution_count": 1,
   "metadata": {},
   "outputs": [],
   "source": [
    "import numpy as np\n",
    "import tensorflow as tf\n",
    "\n",
    "#the argument num_words=10000 keeps the top 10,000 most frequently occurring words in the training data. \n",
    "(train_data, train_labels), (test_data, test_labels) = tf.keras.datasets.imdb.load_data(num_words=10000)"
   ]
  },
  {
   "cell_type": "code",
   "execution_count": 2,
   "metadata": {},
   "outputs": [
    {
     "name": "stdout",
     "output_type": "stream",
     "text": [
      "25000\n",
      "25000\n"
     ]
    }
   ],
   "source": [
    "# Size of dataset\n",
    "print(len(train_data))\n",
    "print(len(train_labels))"
   ]
  },
  {
   "cell_type": "markdown",
   "metadata": {},
   "source": [
    "## Explore the data"
   ]
  },
  {
   "cell_type": "markdown",
   "metadata": {},
   "source": [
    "The dataset comes preprocessed: each example is an array of integers representing the words of the movie review. The text of reviews have been converted to integers, where each integer represents a specific word in a dictionary. \n",
    "Each label is an integer value of either 0 or 1, where 0 is a negative review, and 1 is a positive review."
   ]
  },
  {
   "cell_type": "code",
   "execution_count": 3,
   "metadata": {},
   "outputs": [
    {
     "name": "stdout",
     "output_type": "stream",
     "text": [
      "[1, 14, 22, 16, 43, 530, 973, 1622, 1385, 65, 458, 4468, 66, 3941, 4, 173, 36, 256, 5, 25, 100, 43, 838, 112, 50, 670, 2, 9, 35, 480, 284, 5, 150, 4, 172, 112, 167, 2, 336, 385, 39, 4, 172, 4536, 1111, 17, 546, 38, 13, 447, 4, 192, 50, 16, 6, 147, 2025, 19, 14, 22, 4, 1920, 4613, 469, 4, 22, 71, 87, 12, 16, 43, 530, 38, 76, 15, 13, 1247, 4, 22, 17, 515, 17, 12, 16, 626, 18, 2, 5, 62, 386, 12, 8, 316, 8, 106, 5, 4, 2223, 5244, 16, 480, 66, 3785, 33, 4, 130, 12, 16, 38, 619, 5, 25, 124, 51, 36, 135, 48, 25, 1415, 33, 6, 22, 12, 215, 28, 77, 52, 5, 14, 407, 16, 82, 2, 8, 4, 107, 117, 5952, 15, 256, 4, 2, 7, 3766, 5, 723, 36, 71, 43, 530, 476, 26, 400, 317, 46, 7, 4, 2, 1029, 13, 104, 88, 4, 381, 15, 297, 98, 32, 2071, 56, 26, 141, 6, 194, 7486, 18, 4, 226, 22, 21, 134, 476, 26, 480, 5, 144, 30, 5535, 18, 51, 36, 28, 224, 92, 25, 104, 4, 226, 65, 16, 38, 1334, 88, 12, 16, 283, 5, 16, 4472, 113, 103, 32, 15, 16, 5345, 19, 178, 32]\n",
      "1\n"
     ]
    }
   ],
   "source": [
    "print(train_data[0])\n",
    "print(train_labels[0])"
   ]
  },
  {
   "cell_type": "markdown",
   "metadata": {},
   "source": [
    "Movie reviews may be different lengths. The below code shows the number of words in the first and second reviews. Since inputs to a neural network must be the same length, we'll need to resolve this later."
   ]
  },
  {
   "cell_type": "code",
   "execution_count": 4,
   "metadata": {},
   "outputs": [
    {
     "data": {
      "text/plain": [
       "(218, 189)"
      ]
     },
     "execution_count": 4,
     "metadata": {},
     "output_type": "execute_result"
    }
   ],
   "source": [
    "len(train_data[0]), len(train_data[1])"
   ]
  },
  {
   "cell_type": "markdown",
   "metadata": {},
   "source": [
    "### Decoding the integer sequences back into sequences"
   ]
  },
  {
   "cell_type": "code",
   "execution_count": 5,
   "metadata": {},
   "outputs": [],
   "source": [
    "#word_index is a dictionary mapping words to an integer index\n",
    "word_index = tf.keras.datasets.imdb.get_word_index()\n",
    "\n",
    "# Our indices are offset by 3, \n",
    "#because 0,1 and 2 are reversed indices for \"padding\", \"start of sequence\", and \"unknown\".\n",
    "word_index = {k:(v+3) for k,v in word_index.items()}\n",
    "word_index[\"<PAD>\"] = 0\n",
    "word_index[\"<START>\"] = 1\n",
    "word_index[\"<UNK>\"] = 2  \n",
    "word_index[\"<UNUSED>\"] = 3\n",
    "\n",
    "#We reverse it, mapping integer indices to words\n",
    "reverse_word_index = dict([(value, key) for (key, value) in word_index.items()])\n",
    "\n",
    "# Decode the review\n",
    "def decoded_review(text):\n",
    "    return ' '.join([reverse_word_index.get(i, '?') for i in text])"
   ]
  },
  {
   "cell_type": "code",
   "execution_count": 6,
   "metadata": {},
   "outputs": [
    {
     "data": {
      "text/plain": [
       "\"<START> this film was just brilliant casting location scenery story direction everyone's really suited the part they played and you could just imagine being there robert <UNK> is an amazing actor and now the same being director <UNK> father came from the same scottish island as myself so i loved the fact there was a real connection with this film the witty remarks throughout the film were great it was just brilliant so much that i bought the film as soon as it was released for <UNK> and would recommend it to everyone to watch and the fly fishing was amazing really cried at the end it was so sad and you know what they say if you cry at a film it must have been good and this definitely was also <UNK> to the two little boy's that played the <UNK> of norman and paul they were just brilliant children are often left out of the <UNK> list i think because the stars that play them all grown up are such a big profile for the whole film but these children are amazing and should be praised for what they have done don't you think the whole story was so lovely because it was true and was someone's life after all that was shared with us all\""
      ]
     },
     "execution_count": 6,
     "metadata": {},
     "output_type": "execute_result"
    }
   ],
   "source": [
    "decoded_review(train_data[0])"
   ]
  },
  {
   "cell_type": "markdown",
   "metadata": {},
   "source": [
    "### Prepare the Data"
   ]
  },
  {
   "cell_type": "markdown",
   "metadata": {},
   "source": [
    "The reviews (the arrays of integers) must be converted to tensors before fed into the neural network. This conversion can be done a couple of ways:\n",
    "\n",
    "* Convert the arrays into vectors of 0s and 1s indicating word occurrence, similar to a one-hot encoding. For example, the sequence [3, 5] would become a 10,000-dimensional vector that is all zeros except for indices 3 and 5, which are ones. Then, make this the first layer in our network—a Dense layer—that can handle floating point vector data. This approach is memory intensive, though, requiring a num_words * num_reviews size matrix.\n",
    "\n",
    "* Alternatively, we can pad the arrays so they all have the same length, then create an integer tensor of shape max_length * num_reviews. We can use an embedding layer capable of handling this shape as the first layer in our network.\n",
    "\n",
    "Here we shall use the second approach.\n",
    "\n",
    "Since the movie reviews must be the same length, we will use the pad_sequences function to standardize the lengths:"
   ]
  },
  {
   "cell_type": "code",
   "execution_count": 7,
   "metadata": {},
   "outputs": [],
   "source": [
    "from tensorflow.keras.preprocessing.sequence import pad_sequences\n",
    "X_train = pad_sequences(train_data, value=word_index[\"<PAD>\"],\n",
    "                        padding='post',maxlen=256)\n",
    "\n",
    "X_test = pad_sequences(test_data,value=word_index[\"<PAD>\"],\n",
    "                       padding='post', maxlen=256)"
   ]
  },
  {
   "cell_type": "markdown",
   "metadata": {},
   "source": [
    "Let's look at the length of the examples now:"
   ]
  },
  {
   "cell_type": "code",
   "execution_count": 8,
   "metadata": {},
   "outputs": [
    {
     "data": {
      "text/plain": [
       "(256, 256)"
      ]
     },
     "execution_count": 8,
     "metadata": {},
     "output_type": "execute_result"
    }
   ],
   "source": [
    "len(X_train[0]), len(X_test[1])"
   ]
  },
  {
   "cell_type": "markdown",
   "metadata": {},
   "source": [
    "And inspect the (now padded) first review:"
   ]
  },
  {
   "cell_type": "code",
   "execution_count": 9,
   "metadata": {},
   "outputs": [
    {
     "name": "stdout",
     "output_type": "stream",
     "text": [
      "[   1   14   22   16   43  530  973 1622 1385   65  458 4468   66 3941\n",
      "    4  173   36  256    5   25  100   43  838  112   50  670    2    9\n",
      "   35  480  284    5  150    4  172  112  167    2  336  385   39    4\n",
      "  172 4536 1111   17  546   38   13  447    4  192   50   16    6  147\n",
      " 2025   19   14   22    4 1920 4613  469    4   22   71   87   12   16\n",
      "   43  530   38   76   15   13 1247    4   22   17  515   17   12   16\n",
      "  626   18    2    5   62  386   12    8  316    8  106    5    4 2223\n",
      " 5244   16  480   66 3785   33    4  130   12   16   38  619    5   25\n",
      "  124   51   36  135   48   25 1415   33    6   22   12  215   28   77\n",
      "   52    5   14  407   16   82    2    8    4  107  117 5952   15  256\n",
      "    4    2    7 3766    5  723   36   71   43  530  476   26  400  317\n",
      "   46    7    4    2 1029   13  104   88    4  381   15  297   98   32\n",
      " 2071   56   26  141    6  194 7486   18    4  226   22   21  134  476\n",
      "   26  480    5  144   30 5535   18   51   36   28  224   92   25  104\n",
      "    4  226   65   16   38 1334   88   12   16  283    5   16 4472  113\n",
      "  103   32   15   16 5345   19  178   32    0    0    0    0    0    0\n",
      "    0    0    0    0    0    0    0    0    0    0    0    0    0    0\n",
      "    0    0    0    0    0    0    0    0    0    0    0    0    0    0\n",
      "    0    0    0    0]\n"
     ]
    }
   ],
   "source": [
    "print(X_train[0])"
   ]
  },
  {
   "cell_type": "markdown",
   "metadata": {},
   "source": [
    "### Model Training\n",
    "\n",
    "The first layer is an Embedding layer. This layer takes the integer-encoded vocabulary and looks up the embedding vector for each word-index. These vectors are learned as the model trains. The vectors add a dimension to the output array. The resulting dimensions are: (batch, sequence, embedding). Next, a GlobalAveragePooling1D layer returns a fixed-length output vector for each example by averaging over the sequence dimension. This allows the model to handle input of variable length, in the simplest way possible."
   ]
  },
  {
   "cell_type": "code",
   "execution_count": 11,
   "metadata": {},
   "outputs": [
    {
     "name": "stderr",
     "output_type": "stream",
     "text": [
      "WARNING: Logging before flag parsing goes to stderr.\n",
      "W0830 14:32:57.433762 4805039552 deprecation.py:506] From /Users/zohebabai/anaconda/envs/TensorflowProjects/lib/python3.6/site-packages/tensorflow/python/keras/initializers.py:119: calling RandomUniform.__init__ (from tensorflow.python.ops.init_ops) with dtype is deprecated and will be removed in a future version.\n",
      "Instructions for updating:\n",
      "Call initializer instance with the dtype argument instead of passing it to the constructor\n",
      "W0830 14:32:57.504918 4805039552 deprecation.py:506] From /Users/zohebabai/anaconda/envs/TensorflowProjects/lib/python3.6/site-packages/tensorflow/python/ops/init_ops.py:1251: calling VarianceScaling.__init__ (from tensorflow.python.ops.init_ops) with dtype is deprecated and will be removed in a future version.\n",
      "Instructions for updating:\n",
      "Call initializer instance with the dtype argument instead of passing it to the constructor\n",
      "W0830 14:32:57.672773 4805039552 deprecation.py:323] From /Users/zohebabai/anaconda/envs/TensorflowProjects/lib/python3.6/site-packages/tensorflow/python/ops/nn_impl.py:180: add_dispatch_support.<locals>.wrapper (from tensorflow.python.ops.array_ops) is deprecated and will be removed in a future version.\n",
      "Instructions for updating:\n",
      "Use tf.where in 2.0, which has the same broadcast rule as np.where\n"
     ]
    },
    {
     "name": "stdout",
     "output_type": "stream",
     "text": [
      "Model: \"sequential\"\n",
      "_________________________________________________________________\n",
      "Layer (type)                 Output Shape              Param #   \n",
      "=================================================================\n",
      "embedding (Embedding)        (None, None, 16)          160000    \n",
      "_________________________________________________________________\n",
      "global_average_pooling1d (Gl (None, 16)                0         \n",
      "_________________________________________________________________\n",
      "dense (Dense)                (None, 64)                1088      \n",
      "_________________________________________________________________\n",
      "dense_1 (Dense)              (None, 1)                 65        \n",
      "=================================================================\n",
      "Total params: 161,153\n",
      "Trainable params: 161,153\n",
      "Non-trainable params: 0\n",
      "_________________________________________________________________\n"
     ]
    }
   ],
   "source": [
    "from tensorflow.keras.models import Sequential\n",
    "from tensorflow.keras.layers import Embedding, GlobalAveragePooling1D, Dense\n",
    "from tensorflow.keras.regularizers import l2\n",
    "\n",
    "vocab_size = 10000\n",
    "\n",
    "model = Sequential()\n",
    "model.add(Embedding(vocab_size, 16))\n",
    "model.add(GlobalAveragePooling1D())\n",
    "model.add(Dense(64, activation=tf.nn.relu, kernel_regularizer=l2(1e-02)))\n",
    "model.add(Dense(1, activation=tf.nn.sigmoid))\n",
    "model.compile(optimizer ='adam', loss='binary_crossentropy', metrics=['accuracy'])\n",
    "\n",
    "model.summary()"
   ]
  },
  {
   "cell_type": "code",
   "execution_count": 12,
   "metadata": {},
   "outputs": [],
   "source": [
    "#Setting aside validation set\n",
    "X_valid = X_train[:10000]\n",
    "partial_X_train = X_train[10000:]\n",
    "\n",
    "y_valid = train_labels[:10000]\n",
    "partial_y_train = train_labels[10000:]"
   ]
  },
  {
   "cell_type": "code",
   "execution_count": 13,
   "metadata": {},
   "outputs": [
    {
     "name": "stdout",
     "output_type": "stream",
     "text": [
      "Train on 15000 samples, validate on 10000 samples\n",
      "Epoch 1/50\n",
      "15000/15000 [==============================] - 5s 355us/sample - loss: 0.9261 - acc: 0.5120 - val_loss: 0.8865 - val_acc: 0.5452\n",
      "Epoch 2/50\n",
      "15000/15000 [==============================] - 4s 255us/sample - loss: 0.8567 - acc: 0.6533 - val_loss: 0.8270 - val_acc: 0.7023\n",
      "Epoch 3/50\n",
      "15000/15000 [==============================] - 4s 250us/sample - loss: 0.8043 - acc: 0.6977 - val_loss: 0.7824 - val_acc: 0.7346\n",
      "Epoch 4/50\n",
      "15000/15000 [==============================] - 4s 253us/sample - loss: 0.7645 - acc: 0.6938 - val_loss: 0.7478 - val_acc: 0.7062\n",
      "Epoch 5/50\n",
      "15000/15000 [==============================] - 4s 253us/sample - loss: 0.7319 - acc: 0.7563 - val_loss: 0.7185 - val_acc: 0.7422\n",
      "Epoch 6/50\n",
      "15000/15000 [==============================] - 4s 285us/sample - loss: 0.7014 - acc: 0.7654 - val_loss: 0.6899 - val_acc: 0.7553\n",
      "Epoch 7/50\n",
      "15000/15000 [==============================] - 4s 273us/sample - loss: 0.6685 - acc: 0.7754 - val_loss: 0.6574 - val_acc: 0.7642\n",
      "Epoch 8/50\n",
      "15000/15000 [==============================] - 4s 260us/sample - loss: 0.6321 - acc: 0.7917 - val_loss: 0.6240 - val_acc: 0.7836\n",
      "Epoch 9/50\n",
      "15000/15000 [==============================] - 4s 273us/sample - loss: 0.5942 - acc: 0.8103 - val_loss: 0.5906 - val_acc: 0.7993\n",
      "Epoch 10/50\n",
      "15000/15000 [==============================] - 4s 266us/sample - loss: 0.5582 - acc: 0.8267 - val_loss: 0.5610 - val_acc: 0.8094\n",
      "Epoch 11/50\n",
      "15000/15000 [==============================] - 4s 288us/sample - loss: 0.5263 - acc: 0.8407 - val_loss: 0.5344 - val_acc: 0.8270\n",
      "Epoch 12/50\n",
      "15000/15000 [==============================] - 4s 272us/sample - loss: 0.4984 - acc: 0.8540 - val_loss: 0.5137 - val_acc: 0.8358\n",
      "Epoch 13/50\n",
      "15000/15000 [==============================] - 4s 264us/sample - loss: 0.4757 - acc: 0.8628 - val_loss: 0.4936 - val_acc: 0.8442\n",
      "Epoch 14/50\n",
      "15000/15000 [==============================] - 4s 266us/sample - loss: 0.4551 - acc: 0.8737 - val_loss: 0.4787 - val_acc: 0.8485\n",
      "Epoch 15/50\n",
      "15000/15000 [==============================] - 4s 273us/sample - loss: 0.4383 - acc: 0.8778 - val_loss: 0.4653 - val_acc: 0.8550\n",
      "Epoch 16/50\n",
      "15000/15000 [==============================] - 5s 338us/sample - loss: 0.4233 - acc: 0.8839 - val_loss: 0.4543 - val_acc: 0.8569\n",
      "Epoch 17/50\n",
      "15000/15000 [==============================] - 4s 281us/sample - loss: 0.4099 - acc: 0.8889 - val_loss: 0.4444 - val_acc: 0.8617\n",
      "Epoch 18/50\n",
      "15000/15000 [==============================] - 4s 270us/sample - loss: 0.3981 - acc: 0.8920 - val_loss: 0.4351 - val_acc: 0.8645\n",
      "Epoch 19/50\n",
      "15000/15000 [==============================] - 4s 261us/sample - loss: 0.3872 - acc: 0.8963 - val_loss: 0.4273 - val_acc: 0.8664\n",
      "Epoch 20/50\n",
      "15000/15000 [==============================] - 4s 270us/sample - loss: 0.3775 - acc: 0.8972 - val_loss: 0.4206 - val_acc: 0.8669\n",
      "Epoch 21/50\n",
      "15000/15000 [==============================] - 4s 260us/sample - loss: 0.3680 - acc: 0.9023 - val_loss: 0.4152 - val_acc: 0.8692\n",
      "Epoch 22/50\n",
      "15000/15000 [==============================] - 4s 294us/sample - loss: 0.3598 - acc: 0.9042 - val_loss: 0.4079 - val_acc: 0.8720\n",
      "Epoch 23/50\n",
      "15000/15000 [==============================] - 4s 266us/sample - loss: 0.3514 - acc: 0.9063 - val_loss: 0.4033 - val_acc: 0.8713\n",
      "Epoch 24/50\n",
      "15000/15000 [==============================] - 4s 268us/sample - loss: 0.3440 - acc: 0.9087 - val_loss: 0.3979 - val_acc: 0.8753\n",
      "Epoch 25/50\n",
      "15000/15000 [==============================] - 4s 254us/sample - loss: 0.3368 - acc: 0.9113 - val_loss: 0.3929 - val_acc: 0.8752\n",
      "Epoch 26/50\n",
      "15000/15000 [==============================] - 4s 257us/sample - loss: 0.3301 - acc: 0.9136 - val_loss: 0.3895 - val_acc: 0.8746\n",
      "Epoch 27/50\n",
      "15000/15000 [==============================] - 4s 259us/sample - loss: 0.3239 - acc: 0.9150 - val_loss: 0.3851 - val_acc: 0.8767\n",
      "Epoch 28/50\n",
      "15000/15000 [==============================] - 4s 262us/sample - loss: 0.3176 - acc: 0.9173 - val_loss: 0.3812 - val_acc: 0.8786\n",
      "Epoch 29/50\n",
      "15000/15000 [==============================] - 4s 292us/sample - loss: 0.3122 - acc: 0.9173 - val_loss: 0.3779 - val_acc: 0.8793\n",
      "Epoch 30/50\n",
      "15000/15000 [==============================] - 4s 273us/sample - loss: 0.3069 - acc: 0.9191 - val_loss: 0.3751 - val_acc: 0.8794\n",
      "Epoch 31/50\n",
      "15000/15000 [==============================] - 4s 272us/sample - loss: 0.3014 - acc: 0.9229 - val_loss: 0.3720 - val_acc: 0.8796\n",
      "Epoch 32/50\n",
      "15000/15000 [==============================] - 4s 278us/sample - loss: 0.2961 - acc: 0.9249 - val_loss: 0.3691 - val_acc: 0.8812\n",
      "Epoch 33/50\n",
      "15000/15000 [==============================] - 4s 257us/sample - loss: 0.2911 - acc: 0.9255 - val_loss: 0.3666 - val_acc: 0.8800\n",
      "Epoch 34/50\n",
      "15000/15000 [==============================] - 4s 279us/sample - loss: 0.2866 - acc: 0.9277 - val_loss: 0.3642 - val_acc: 0.8806\n",
      "Epoch 35/50\n",
      "15000/15000 [==============================] - 4s 264us/sample - loss: 0.2826 - acc: 0.9291 - val_loss: 0.3614 - val_acc: 0.8828\n",
      "Epoch 36/50\n",
      "15000/15000 [==============================] - 4s 298us/sample - loss: 0.2777 - acc: 0.9299 - val_loss: 0.3597 - val_acc: 0.8827\n",
      "Epoch 37/50\n",
      "15000/15000 [==============================] - 5s 314us/sample - loss: 0.2735 - acc: 0.9315 - val_loss: 0.3578 - val_acc: 0.8829\n",
      "Epoch 38/50\n",
      "15000/15000 [==============================] - 4s 299us/sample - loss: 0.2694 - acc: 0.9326 - val_loss: 0.3556 - val_acc: 0.8833\n",
      "Epoch 39/50\n",
      "15000/15000 [==============================] - 4s 274us/sample - loss: 0.2660 - acc: 0.9357 - val_loss: 0.3542 - val_acc: 0.8837\n",
      "Epoch 40/50\n",
      "15000/15000 [==============================] - 4s 275us/sample - loss: 0.2621 - acc: 0.9355 - val_loss: 0.3523 - val_acc: 0.8839\n",
      "Epoch 41/50\n",
      "15000/15000 [==============================] - 5s 314us/sample - loss: 0.2588 - acc: 0.9379 - val_loss: 0.3519 - val_acc: 0.8839\n",
      "Epoch 42/50\n",
      "15000/15000 [==============================] - 4s 264us/sample - loss: 0.2567 - acc: 0.9381 - val_loss: 0.3513 - val_acc: 0.8846\n",
      "Epoch 43/50\n",
      "15000/15000 [==============================] - 4s 276us/sample - loss: 0.2552 - acc: 0.9386 - val_loss: 0.3504 - val_acc: 0.8849\n",
      "Epoch 44/50\n",
      "15000/15000 [==============================] - 4s 259us/sample - loss: 0.2532 - acc: 0.9393 - val_loss: 0.3498 - val_acc: 0.8852\n",
      "Epoch 45/50\n",
      "15000/15000 [==============================] - 4s 284us/sample - loss: 0.2516 - acc: 0.9400 - val_loss: 0.3491 - val_acc: 0.8845\n",
      "Epoch 46/50\n",
      "15000/15000 [==============================] - 4s 266us/sample - loss: 0.2494 - acc: 0.9417 - val_loss: 0.3490 - val_acc: 0.8851\n",
      "Epoch 47/50\n",
      "15000/15000 [==============================] - 4s 271us/sample - loss: 0.2479 - acc: 0.9422 - val_loss: 0.3477 - val_acc: 0.8847\n",
      "Epoch 48/50\n",
      "15000/15000 [==============================] - 4s 259us/sample - loss: 0.2463 - acc: 0.9423 - val_loss: 0.3473 - val_acc: 0.8844\n",
      "Epoch 49/50\n",
      "15000/15000 [==============================] - 4s 281us/sample - loss: 0.2455 - acc: 0.9427 - val_loss: 0.3470 - val_acc: 0.8853\n",
      "Epoch 50/50\n",
      "15000/15000 [==============================] - 5s 308us/sample - loss: 0.2447 - acc: 0.9433 - val_loss: 0.3469 - val_acc: 0.8849\n"
     ]
    }
   ],
   "source": [
    "# Callbacks\n",
    "from tensorflow.keras.callbacks import ReduceLROnPlateau\n",
    "lr_reducer = ReduceLROnPlateau(monitor='val_loss', factor=0.5, patience=5, verbose=0, \n",
    "                               mode='auto', min_delta=1e-02, cooldown=0, min_lr=1e-08)\n",
    "\n",
    "#Training the model\n",
    "\n",
    "history = model.fit(partial_X_train, partial_y_train,\n",
    "                   epochs =50, batch_size=512,\n",
    "                   validation_data= (X_valid, y_valid),\n",
    "                   callbacks=[lr_reducer])"
   ]
  },
  {
   "cell_type": "markdown",
   "metadata": {},
   "source": [
    "### Plotting Loss and Accuracy History"
   ]
  },
  {
   "cell_type": "code",
   "execution_count": 14,
   "metadata": {},
   "outputs": [
    {
     "data": {
      "image/png": "[encoded data removed]",
      "text/plain": [
       "<Figure size 432x288 with 1 Axes>"
      ]
     },
     "metadata": {
      "needs_background": "light"
     },
     "output_type": "display_data"
    }
   ],
   "source": [
    "import matplotlib.pyplot as plt\n",
    "%matplotlib inline\n",
    "\n",
    "acc= history.history['acc']\n",
    "val_acc = history.history['val_acc']\n",
    "loss = history.history['loss']\n",
    "val_loss = history.history['val_loss']\n",
    "\n",
    "epochs = range(1, len(acc) +1)\n",
    "\n",
    "plt.plot(epochs, loss, 'bo', label='Training Loss')\n",
    "plt.plot(epochs, val_loss, 'b', label= 'Validation loss')\n",
    "plt.title('Training and Validation loss')\n",
    "plt.xlabel('Epochs')\n",
    "plt.ylabel('Loss')\n",
    "plt.legend()\n",
    "plt.show()"
   ]
  },
  {
   "cell_type": "code",
   "execution_count": 15,
   "metadata": {},
   "outputs": [
    {
     "data": {
      "image/png": "[encoded data removed]",
      "text/plain": [
       "<Figure size 432x288 with 1 Axes>"
      ]
     },
     "metadata": {
      "needs_background": "light"
     },
     "output_type": "display_data"
    }
   ],
   "source": [
    "acc_values = history.history['acc']\n",
    "val_acc_values = history.history['val_acc']\n",
    "\n",
    "plt.plot(epochs, acc, 'bo', label='Training Accuracy')\n",
    "plt.plot(epochs, val_acc, 'b', label= 'Validation Accuracy')\n",
    "plt.title('Training and Validation Accuracy')\n",
    "plt.xlabel('Epochs')\n",
    "plt.ylabel('Accuracy')\n",
    "plt.legend()\n",
    "plt.show()"
   ]
  },
  {
   "cell_type": "markdown",
   "metadata": {},
   "source": [
    "### Results"
   ]
  },
  {
   "cell_type": "code",
   "execution_count": 16,
   "metadata": {},
   "outputs": [
    {
     "name": "stdout",
     "output_type": "stream",
     "text": [
      "25000/25000 [==============================] - 2s 76us/sample - loss: 0.3609 - acc: 0.8766\n"
     ]
    },
    {
     "data": {
      "text/plain": [
       "[0.3609348780250549, 0.8766]"
      ]
     },
     "execution_count": 16,
     "metadata": {},
     "output_type": "execute_result"
    }
   ],
   "source": [
    "results = model.evaluate(X_test, test_labels)\n",
    "results"
   ]
  },
  {
   "cell_type": "code",
   "execution_count": null,
   "metadata": {},
   "outputs": [],
   "source": []
  }
 ],
 "metadata": {
  "kernelspec": {
   "display_name": "Python 3",
   "language": "python",
   "name": "python3"
  },
  "language_info": {
   "codemirror_mode": {
    "name": "ipython",
    "version": 3
   },
   "file_extension": ".py",
   "mimetype": "text/x-python",
   "name": "python",
   "nbconvert_exporter": "python",
   "pygments_lexer": "ipython3",
   "version": "3.6.9"
  }
 },
 "nbformat": 4,
 "nbformat_minor": 2
}
