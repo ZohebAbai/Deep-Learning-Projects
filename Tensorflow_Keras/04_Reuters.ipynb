{
 "cells": [
  {
   "cell_type": "code",
   "execution_count": 1,
   "metadata": {},
   "outputs": [],
   "source": [
    "import numpy as np\n",
    "import tensorflow as tf\n",
    "\n",
    "# save np.load\n",
    "np_load_old = np.load\n",
    "\n",
    "# modify the default parameters of np.load\n",
    "np.load = lambda *a,**k: np_load_old(*a, allow_pickle=True, **k)\n",
    "\n",
    "# call load_data with allow_pickle implicitly set to true\n",
    "(train_data, train_labels), (test_data, test_labels) = tf.keras.datasets.reuters.load_data(num_words=10000)\n",
    "\n",
    "# restore np.load for future normal usage\n",
    "np.load = np_load_old"
   ]
  },
  {
   "cell_type": "code",
   "execution_count": 2,
   "metadata": {},
   "outputs": [
    {
     "name": "stdout",
     "output_type": "stream",
     "text": [
      "8982\n",
      "8982\n"
     ]
    }
   ],
   "source": [
    "# Size of dataset\n",
    "print(len(train_data))\n",
    "print(len(train_labels))"
   ]
  },
  {
   "cell_type": "markdown",
   "metadata": {},
   "source": [
    "## Explore the data"
   ]
  },
  {
   "cell_type": "markdown",
   "metadata": {},
   "source": [
    "The dataset comes preprocessed: each example is an array of integers representing the words of the newswires. The text of newswires have been converted to integers, where each integer represents a specific word in a dictionary. Each label is an integer value between 0 and 45, classifying different types of newswires."
   ]
  },
  {
   "cell_type": "code",
   "execution_count": 3,
   "metadata": {},
   "outputs": [
    {
     "name": "stdout",
     "output_type": "stream",
     "text": [
      "[1, 2, 2, 8, 43, 10, 447, 5, 25, 207, 270, 5, 3095, 111, 16, 369, 186, 90, 67, 7, 89, 5, 19, 102, 6, 19, 124, 15, 90, 67, 84, 22, 482, 26, 7, 48, 4, 49, 8, 864, 39, 209, 154, 6, 151, 6, 83, 11, 15, 22, 155, 11, 15, 7, 48, 9, 4579, 1005, 504, 6, 258, 6, 272, 11, 15, 22, 134, 44, 11, 15, 16, 8, 197, 1245, 90, 67, 52, 29, 209, 30, 32, 132, 6, 109, 15, 17, 12]\n",
      "3\n"
     ]
    }
   ],
   "source": [
    "print(train_data[0])\n",
    "print(train_labels[0])"
   ]
  },
  {
   "cell_type": "markdown",
   "metadata": {},
   "source": [
    "Movie reviews may be different lengths. The below code shows the number of words in the first and second reviews. Since inputs to a neural network must be the same length, we'll need to resolve this later."
   ]
  },
  {
   "cell_type": "code",
   "execution_count": 4,
   "metadata": {},
   "outputs": [
    {
     "data": {
      "text/plain": [
       "(87, 56)"
      ]
     },
     "execution_count": 4,
     "metadata": {},
     "output_type": "execute_result"
    }
   ],
   "source": [
    "len(train_data[0]), len(train_data[1])"
   ]
  },
  {
   "cell_type": "markdown",
   "metadata": {},
   "source": [
    "### Decoding the first integer sequence back into sequences¶"
   ]
  },
  {
   "cell_type": "code",
   "execution_count": 5,
   "metadata": {},
   "outputs": [],
   "source": [
    "#word_index is a dictionary mapping words to an integer index\n",
    "word_index = tf.keras.datasets.reuters.get_word_index()\n",
    "\n",
    "#We reverse it, mapping integer indices to words\n",
    "reverse_word_index = dict ([(value,key) for (key,value) in word_index.items()])\n",
    "\n",
    "#We decode the review, note that our indices are offset by 3, \n",
    "#because 0,1 and 2 are reversed indices for \"padding\", \"start of sequence\", and \"unknown\".\n",
    "decoded_newswires = ' '.join([reverse_word_index.get(i-3, '?') for i in train_data[0]])"
   ]
  },
  {
   "cell_type": "code",
   "execution_count": 6,
   "metadata": {},
   "outputs": [
    {
     "data": {
      "text/plain": [
       "'? ? ? said as a result of its december acquisition of space co it expects earnings per share in 1987 of 1 15 to 1 30 dlrs per share up from 70 cts in 1986 the company said pretax net should rise to nine to 10 mln dlrs from six mln dlrs in 1986 and rental operation revenues to 19 to 22 mln dlrs from 12 5 mln dlrs it said cash flow per share this year should be 2 50 to three dlrs reuter 3'"
      ]
     },
     "execution_count": 6,
     "metadata": {},
     "output_type": "execute_result"
    }
   ],
   "source": [
    "decoded_newswires"
   ]
  },
  {
   "cell_type": "code",
   "execution_count": 7,
   "metadata": {},
   "outputs": [
    {
     "data": {
      "text/plain": [
       "3"
      ]
     },
     "execution_count": 7,
     "metadata": {},
     "output_type": "execute_result"
    }
   ],
   "source": [
    "train_labels[0]"
   ]
  },
  {
   "cell_type": "code",
   "execution_count": 8,
   "metadata": {},
   "outputs": [
    {
     "name": "stdout",
     "output_type": "stream",
     "text": [
      "categories of train labels  0 : 45\n"
     ]
    }
   ],
   "source": [
    "print('categories of train labels ',min(train_labels),':',max(train_labels))"
   ]
  },
  {
   "cell_type": "markdown",
   "metadata": {},
   "source": [
    "## Prepare the Data\n",
    "\n",
    "The newswires (the arrays of integers) must be converted to tensors before fed into the neural network. This conversion can be done a couple of ways:\n",
    "\n",
    "* Convert the arrays into vectors of 0s and 1s indicating word occurrence, similar to a one-hot encoding. For example, the sequence [3, 5] would become a 10,000-dimensional vector that is all zeros except for indices 3 and 5, which are ones. Then, make this the first layer in our network—a Dense layer—that can handle floating point vector data. This approach is memory intensive, though, requiring a num_words * num_reviews size matrix.\n",
    "\n",
    "* Alternatively, we can pad the arrays so they all have the same length, then create an integer tensor of shape max_length * num_reviews. We can use an embedding layer capable of handling this shape as the first layer in our network.\n",
    "\n",
    "Here we shall use the first approach."
   ]
  },
  {
   "cell_type": "markdown",
   "metadata": {},
   "source": [
    "### Encoding the integer sequeneces into a binary matrix"
   ]
  },
  {
   "cell_type": "code",
   "execution_count": 9,
   "metadata": {},
   "outputs": [],
   "source": [
    "def vectorize_sequences(sequences, dimension =10000):\n",
    "    #Create an all-zero matrix of shape (len(sequences), dimensions)\n",
    "    results = np.zeros((len(sequences), dimension))\n",
    "    for i,sequence in enumerate(sequences):\n",
    "        results[i, sequence] = 1. #set specific indices of results[i] to 1s\n",
    "    return results\n",
    "\n",
    "#Our vectorized training data\n",
    "X_train = vectorize_sequences(train_data)\n",
    "\n",
    "#Our vectorized test data\n",
    "X_test = vectorize_sequences(test_data)"
   ]
  },
  {
   "cell_type": "markdown",
   "metadata": {},
   "source": [
    "### One-hot encoding the labels"
   ]
  },
  {
   "cell_type": "code",
   "execution_count": 10,
   "metadata": {},
   "outputs": [],
   "source": [
    "from tensorflow.keras.utils import to_categorical\n",
    "\n",
    "#vectorized training labels\n",
    "y_train = to_categorical(train_labels)\n",
    "\n",
    "#vectorized test labels\n",
    "y_test = to_categorical(test_labels)"
   ]
  },
  {
   "cell_type": "markdown",
   "metadata": {},
   "source": [
    "### Model"
   ]
  },
  {
   "cell_type": "code",
   "execution_count": 11,
   "metadata": {},
   "outputs": [
    {
     "name": "stderr",
     "output_type": "stream",
     "text": [
      "WARNING: Logging before flag parsing goes to stderr.\n",
      "W0830 14:43:19.254490 4321863104 deprecation.py:506] From /Users/zohebabai/anaconda/envs/TensorflowProjects/lib/python3.6/site-packages/tensorflow/python/ops/init_ops.py:1251: calling VarianceScaling.__init__ (from tensorflow.python.ops.init_ops) with dtype is deprecated and will be removed in a future version.\n",
      "Instructions for updating:\n",
      "Call initializer instance with the dtype argument instead of passing it to the constructor\n"
     ]
    }
   ],
   "source": [
    "from tensorflow.keras.models import Sequential\n",
    "from tensorflow.keras.layers import Dense, Dropout\n",
    "\n",
    "model = Sequential()\n",
    "model.add(Dense(64, activation='relu', input_shape=(10000,)))\n",
    "model.add(Dense(64, activation= 'relu'))\n",
    "model.add(Dropout(rate=0.25))\n",
    "model.add(Dense(128, activation= 'relu'))\n",
    "model.add(Dense(256, activation= 'relu'))\n",
    "model.add(Dense(46, activation = 'softmax'))\n",
    "model.compile(optimizer= 'adam', loss='categorical_crossentropy', metrics=['accuracy'])"
   ]
  },
  {
   "cell_type": "markdown",
   "metadata": {},
   "source": [
    "Categorical_crossentropy minimizes the distance between the probability distributions output by the network, and the true distribution of the targets."
   ]
  },
  {
   "cell_type": "code",
   "execution_count": 12,
   "metadata": {},
   "outputs": [],
   "source": [
    "# Setting aside validation set\n",
    "X_val = X_train[:1000]\n",
    "partial_X_train = X_train[1000:]\n",
    "\n",
    "y_val = y_train[:1000]\n",
    "partial_y_train = y_train[1000:]"
   ]
  },
  {
   "cell_type": "code",
   "execution_count": 13,
   "metadata": {},
   "outputs": [
    {
     "name": "stdout",
     "output_type": "stream",
     "text": [
      "Train on 7982 samples, validate on 1000 samples\n",
      "Epoch 1/50\n",
      "7982/7982 [==============================] - 2s 274us/sample - loss: 3.1741 - acc: 0.3434 - val_loss: 2.1972 - val_acc: 0.4940\n",
      "Epoch 2/50\n",
      "7982/7982 [==============================] - 1s 142us/sample - loss: 1.8814 - acc: 0.5288 - val_loss: 1.6288 - val_acc: 0.5940\n",
      "Epoch 3/50\n",
      "7982/7982 [==============================] - 1s 145us/sample - loss: 1.5187 - acc: 0.6329 - val_loss: 1.4393 - val_acc: 0.6650\n",
      "Epoch 4/50\n",
      "7982/7982 [==============================] - 1s 187us/sample - loss: 1.2781 - acc: 0.7006 - val_loss: 1.3046 - val_acc: 0.7080\n",
      "Epoch 5/50\n",
      "7982/7982 [==============================] - 1s 164us/sample - loss: 1.0871 - acc: 0.7368 - val_loss: 1.2527 - val_acc: 0.7140\n",
      "Epoch 6/50\n",
      "7982/7982 [==============================] - 1s 168us/sample - loss: 0.9828 - acc: 0.7529 - val_loss: 1.2218 - val_acc: 0.7210\n",
      "Epoch 7/50\n",
      "7982/7982 [==============================] - 1s 153us/sample - loss: 0.8835 - acc: 0.7760 - val_loss: 1.1948 - val_acc: 0.7390\n",
      "Epoch 8/50\n",
      "7982/7982 [==============================] - 2s 218us/sample - loss: 0.7839 - acc: 0.8072 - val_loss: 1.1958 - val_acc: 0.7520\n",
      "Epoch 9/50\n",
      "7982/7982 [==============================] - 1s 165us/sample - loss: 0.6958 - acc: 0.8255 - val_loss: 1.1752 - val_acc: 0.7570\n",
      "Epoch 10/50\n",
      "7982/7982 [==============================] - 1s 154us/sample - loss: 0.6234 - acc: 0.8395 - val_loss: 1.1993 - val_acc: 0.7540\n",
      "Epoch 11/50\n",
      "7982/7982 [==============================] - 1s 172us/sample - loss: 0.5811 - acc: 0.8502 - val_loss: 1.1963 - val_acc: 0.7640\n",
      "Epoch 12/50\n",
      "7982/7982 [==============================] - 1s 140us/sample - loss: 0.5466 - acc: 0.8553 - val_loss: 1.2108 - val_acc: 0.7630\n",
      "Epoch 13/50\n",
      "7982/7982 [==============================] - 1s 126us/sample - loss: 0.5090 - acc: 0.8648 - val_loss: 1.2153 - val_acc: 0.7670\n",
      "Epoch 14/50\n",
      "7982/7982 [==============================] - 1s 129us/sample - loss: 0.4775 - acc: 0.8712 - val_loss: 1.2328 - val_acc: 0.7670\n",
      "Epoch 15/50\n",
      "7982/7982 [==============================] - 1s 128us/sample - loss: 0.4434 - acc: 0.8799 - val_loss: 1.2248 - val_acc: 0.7660\n",
      "Epoch 16/50\n",
      "7982/7982 [==============================] - 1s 128us/sample - loss: 0.4303 - acc: 0.8820 - val_loss: 1.2374 - val_acc: 0.7660\n",
      "Epoch 17/50\n",
      "7982/7982 [==============================] - 1s 128us/sample - loss: 0.4177 - acc: 0.8882 - val_loss: 1.2403 - val_acc: 0.7690\n",
      "Epoch 18/50\n",
      "7982/7982 [==============================] - 1s 128us/sample - loss: 0.3959 - acc: 0.8959 - val_loss: 1.2537 - val_acc: 0.7720\n",
      "Epoch 19/50\n",
      "7982/7982 [==============================] - 1s 127us/sample - loss: 0.3884 - acc: 0.8954 - val_loss: 1.2540 - val_acc: 0.7700\n",
      "Epoch 20/50\n",
      "7982/7982 [==============================] - 1s 127us/sample - loss: 0.3726 - acc: 0.9008 - val_loss: 1.2614 - val_acc: 0.7740\n",
      "Epoch 21/50\n",
      "7982/7982 [==============================] - 1s 131us/sample - loss: 0.3672 - acc: 0.8999 - val_loss: 1.2657 - val_acc: 0.7710\n",
      "Epoch 22/50\n",
      "7982/7982 [==============================] - 1s 138us/sample - loss: 0.3647 - acc: 0.9014 - val_loss: 1.2712 - val_acc: 0.7680\n",
      "Epoch 23/50\n",
      "7982/7982 [==============================] - 1s 178us/sample - loss: 0.3579 - acc: 0.9034 - val_loss: 1.2730 - val_acc: 0.7770\n",
      "Epoch 24/50\n",
      "7982/7982 [==============================] - 1s 147us/sample - loss: 0.3467 - acc: 0.9053 - val_loss: 1.2805 - val_acc: 0.7760\n",
      "Epoch 25/50\n",
      "7982/7982 [==============================] - 1s 132us/sample - loss: 0.3423 - acc: 0.9065 - val_loss: 1.2811 - val_acc: 0.7770\n",
      "Epoch 26/50\n",
      "7982/7982 [==============================] - 1s 145us/sample - loss: 0.3447 - acc: 0.9068 - val_loss: 1.2836 - val_acc: 0.7790\n",
      "Epoch 27/50\n",
      "7982/7982 [==============================] - 1s 152us/sample - loss: 0.3476 - acc: 0.9049 - val_loss: 1.2823 - val_acc: 0.7770\n",
      "Epoch 28/50\n",
      "7982/7982 [==============================] - 1s 178us/sample - loss: 0.3385 - acc: 0.9090 - val_loss: 1.2845 - val_acc: 0.7770\n",
      "Epoch 29/50\n",
      "7982/7982 [==============================] - 1s 182us/sample - loss: 0.3371 - acc: 0.9074 - val_loss: 1.2872 - val_acc: 0.7770\n",
      "Epoch 30/50\n",
      "7982/7982 [==============================] - 1s 164us/sample - loss: 0.3292 - acc: 0.9119 - val_loss: 1.2908 - val_acc: 0.7780\n",
      "Epoch 31/50\n",
      "7982/7982 [==============================] - 2s 240us/sample - loss: 0.3328 - acc: 0.9110 - val_loss: 1.2920 - val_acc: 0.7780\n",
      "Epoch 32/50\n",
      "7982/7982 [==============================] - 2s 208us/sample - loss: 0.3279 - acc: 0.9094 - val_loss: 1.2929 - val_acc: 0.7800\n",
      "Epoch 33/50\n",
      "7982/7982 [==============================] - 1s 160us/sample - loss: 0.3251 - acc: 0.9129 - val_loss: 1.2952 - val_acc: 0.7800\n",
      "Epoch 34/50\n",
      "7982/7982 [==============================] - 1s 164us/sample - loss: 0.3240 - acc: 0.9122 - val_loss: 1.2967 - val_acc: 0.7790\n",
      "Epoch 35/50\n",
      "7982/7982 [==============================] - 1s 142us/sample - loss: 0.3305 - acc: 0.9131 - val_loss: 1.2976 - val_acc: 0.7800\n",
      "Epoch 36/50\n",
      "7982/7982 [==============================] - 1s 146us/sample - loss: 0.3204 - acc: 0.9162 - val_loss: 1.2972 - val_acc: 0.7800\n",
      "Epoch 37/50\n",
      "7982/7982 [==============================] - 1s 177us/sample - loss: 0.3271 - acc: 0.9121 - val_loss: 1.2979 - val_acc: 0.7800\n",
      "Epoch 38/50\n",
      "7982/7982 [==============================] - 1s 165us/sample - loss: 0.3195 - acc: 0.9164 - val_loss: 1.2993 - val_acc: 0.7780\n",
      "Epoch 39/50\n",
      "7982/7982 [==============================] - 1s 163us/sample - loss: 0.3202 - acc: 0.9164 - val_loss: 1.2998 - val_acc: 0.7780\n",
      "Epoch 40/50\n",
      "7982/7982 [==============================] - 1s 184us/sample - loss: 0.3239 - acc: 0.9134 - val_loss: 1.3006 - val_acc: 0.7780\n",
      "Epoch 41/50\n",
      "7982/7982 [==============================] - 1s 170us/sample - loss: 0.3211 - acc: 0.9124 - val_loss: 1.3004 - val_acc: 0.7780\n",
      "Epoch 42/50\n",
      "7982/7982 [==============================] - 1s 177us/sample - loss: 0.3261 - acc: 0.9131 - val_loss: 1.3006 - val_acc: 0.7780\n",
      "Epoch 43/50\n",
      "7982/7982 [==============================] - 1s 146us/sample - loss: 0.3161 - acc: 0.9186 - val_loss: 1.3009 - val_acc: 0.7780\n",
      "Epoch 44/50\n",
      "7982/7982 [==============================] - 1s 143us/sample - loss: 0.3235 - acc: 0.9146 - val_loss: 1.3012 - val_acc: 0.7790\n",
      "Epoch 45/50\n",
      "7982/7982 [==============================] - 1s 173us/sample - loss: 0.3229 - acc: 0.9147 - val_loss: 1.3014 - val_acc: 0.7780\n",
      "Epoch 46/50\n",
      "7982/7982 [==============================] - 1s 141us/sample - loss: 0.3167 - acc: 0.9157 - val_loss: 1.3015 - val_acc: 0.7780\n",
      "Epoch 47/50\n",
      "7982/7982 [==============================] - 1s 141us/sample - loss: 0.3161 - acc: 0.9151 - val_loss: 1.3018 - val_acc: 0.7780\n",
      "Epoch 48/50\n",
      "7982/7982 [==============================] - 1s 143us/sample - loss: 0.3139 - acc: 0.9159 - val_loss: 1.3019 - val_acc: 0.7780\n",
      "Epoch 49/50\n",
      "7982/7982 [==============================] - 1s 143us/sample - loss: 0.3190 - acc: 0.9149 - val_loss: 1.3022 - val_acc: 0.7780\n",
      "Epoch 50/50\n",
      "7982/7982 [==============================] - 1s 144us/sample - loss: 0.3151 - acc: 0.9156 - val_loss: 1.3023 - val_acc: 0.7780\n"
     ]
    }
   ],
   "source": [
    "# learning rate schedule\n",
    "import math\n",
    "from tensorflow.keras.callbacks import LearningRateScheduler\n",
    "\n",
    "def step_decay(epoch):\n",
    "    initial_lrate = 1e-03\n",
    "    drop = 0.5\n",
    "    epochs_drop = 5.0\n",
    "    lrate = initial_lrate * math.pow(drop, math.floor((1+epoch)/epochs_drop))\n",
    "    return lrate\n",
    "\n",
    "history = model.fit(partial_X_train, partial_y_train,\n",
    "                    epochs=50, batch_size= 512,\n",
    "                    validation_data= (X_val, y_val),\n",
    "                    callbacks=[LearningRateScheduler(step_decay)])"
   ]
  },
  {
   "cell_type": "markdown",
   "metadata": {},
   "source": [
    "### Plotting the training and validation loss "
   ]
  },
  {
   "cell_type": "code",
   "execution_count": 14,
   "metadata": {},
   "outputs": [
    {
     "data": {
      "image/png": "[encoded data removed]",
      "text/plain": [
       "<Figure size 432x288 with 1 Axes>"
      ]
     },
     "metadata": {
      "needs_background": "light"
     },
     "output_type": "display_data"
    }
   ],
   "source": [
    "import matplotlib.pyplot as plt\n",
    "%matplotlib inline\n",
    "\n",
    "acc= history.history['acc']\n",
    "val_acc = history.history['val_acc']\n",
    "loss = history.history['loss']\n",
    "val_loss = history.history['val_loss']\n",
    "\n",
    "epochs = range(1, len(acc) +1)\n",
    "\n",
    "plt.plot(epochs, loss, 'bo', label='Training Loss')\n",
    "plt.plot(epochs, val_loss, 'b', label= 'Validation loss')\n",
    "plt.title('Training and Validation loss')\n",
    "plt.xlabel('Epochs')\n",
    "plt.ylabel('Loss')\n",
    "plt.legend()\n",
    "plt.show()"
   ]
  },
  {
   "cell_type": "code",
   "execution_count": 15,
   "metadata": {},
   "outputs": [
    {
     "data": {
      "image/png": "[encoded data removed]",
      "text/plain": [
       "<Figure size 432x288 with 1 Axes>"
      ]
     },
     "metadata": {
      "needs_background": "light"
     },
     "output_type": "display_data"
    }
   ],
   "source": [
    "plt.plot(epochs, acc, 'bo', label='Training Accuracy')\n",
    "plt.plot(epochs, val_acc, 'b', label= 'Validation Accuracy')\n",
    "plt.title('Training and Validation Accuracy')\n",
    "plt.xlabel('Epochs')\n",
    "plt.ylabel('Accuracy')\n",
    "plt.legend()\n",
    "plt.show()"
   ]
  },
  {
   "cell_type": "markdown",
   "metadata": {},
   "source": [
    "### Results"
   ]
  },
  {
   "cell_type": "code",
   "execution_count": 16,
   "metadata": {},
   "outputs": [
    {
     "name": "stdout",
     "output_type": "stream",
     "text": [
      "2246/2246 [==============================] - 0s 154us/sample - loss: 1.4335 - acc: 0.7600\n"
     ]
    },
    {
     "data": {
      "text/plain": [
       "[1.4335079169761678, 0.7600178]"
      ]
     },
     "execution_count": 16,
     "metadata": {},
     "output_type": "execute_result"
    }
   ],
   "source": [
    "results = model.evaluate(X_test, y_test)\n",
    "results"
   ]
  }
 ],
 "metadata": {
  "kernelspec": {
   "display_name": "Python 3",
   "language": "python",
   "name": "python3"
  },
  "language_info": {
   "codemirror_mode": {
    "name": "ipython",
    "version": 3
   },
   "file_extension": ".py",
   "mimetype": "text/x-python",
   "name": "python",
   "nbconvert_exporter": "python",
   "pygments_lexer": "ipython3",
   "version": "3.6.9"
  }
 },
 "nbformat": 4,
 "nbformat_minor": 2
}
