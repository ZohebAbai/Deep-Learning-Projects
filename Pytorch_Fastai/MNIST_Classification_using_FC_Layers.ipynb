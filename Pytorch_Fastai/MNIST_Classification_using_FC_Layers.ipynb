{
  "nbformat": 4,
  "nbformat_minor": 0,
  "metadata": {
    "colab": {
      "name": "MNIST Classification using FC Layers.ipynb",
      "version": "0.3.2",
      "provenance": [],
      "collapsed_sections": [],
      "include_colab_link": true
    },
    "kernelspec": {
      "name": "python3",
      "display_name": "Python 3"
    },
    "accelerator": "GPU"
  },
  "cells": [
    {
      "cell_type": "markdown",
      "metadata": {
        "id": "view-in-github",
        "colab_type": "text"
      },
      "source": [
        "<a href=\"https://colab.research.google.com/github/ZohebAbai/DeepLearning-Projects/blob/master/MNIST_Classification_using_FC_Layers.ipynb\" target=\"_parent\"><img src=\"https://colab.research.google.com/assets/colab-badge.svg\" alt=\"Open In Colab\"/></a>"
      ]
    },
    {
      "metadata": {
        "id": "9HyHwl99IuVC",
        "colab_type": "text"
      },
      "cell_type": "markdown",
      "source": [
        "### Exploring the data"
      ]
    },
    {
      "metadata": {
        "id": "SaJMcXI_IzsW",
        "colab_type": "text"
      },
      "cell_type": "markdown",
      "source": [
        "`torchvision` contains some utilities for working with image data. It also contains helper classes to automatically download and import popular datasets like MNIST."
      ]
    },
    {
      "metadata": {
        "id": "cTNyo6J4_gsy",
        "colab_type": "code",
        "colab": {}
      },
      "cell_type": "code",
      "source": [
        "import torch\n",
        "import torchvision\n",
        "from torchvision.datasets import MNIST"
      ],
      "execution_count": 0,
      "outputs": []
    },
    {
      "metadata": {
        "id": "HOco6_KqJUbA",
        "colab_type": "code",
        "colab": {
          "base_uri": "https://localhost:8080/",
          "height": 275
        },
        "outputId": "c9c0517f-50cb-4866-850e-0170991e0bba"
      },
      "cell_type": "code",
      "source": [
        "dataset = MNIST(root='data/', download=True)"
      ],
      "execution_count": 2,
      "outputs": [
        {
          "output_type": "stream",
          "text": [
            "\r0it [00:00, ?it/s]"
          ],
          "name": "stderr"
        },
        {
          "output_type": "stream",
          "text": [
            "Downloading http://yann.lecun.com/exdb/mnist/train-images-idx3-ubyte.gz to data/MNIST/raw/train-images-idx3-ubyte.gz\n"
          ],
          "name": "stdout"
        },
        {
          "output_type": "stream",
          "text": [
            "9920512it [00:02, 4550951.76it/s]                             \n"
          ],
          "name": "stderr"
        },
        {
          "output_type": "stream",
          "text": [
            "Extracting data/MNIST/raw/train-images-idx3-ubyte.gz\n"
          ],
          "name": "stdout"
        },
        {
          "output_type": "stream",
          "text": [
            "\r0it [00:00, ?it/s]"
          ],
          "name": "stderr"
        },
        {
          "output_type": "stream",
          "text": [
            "Downloading http://yann.lecun.com/exdb/mnist/train-labels-idx1-ubyte.gz to data/MNIST/raw/train-labels-idx1-ubyte.gz\n"
          ],
          "name": "stdout"
        },
        {
          "output_type": "stream",
          "text": [
            "32768it [00:00, 67503.97it/s]                            \n",
            "0it [00:00, ?it/s]"
          ],
          "name": "stderr"
        },
        {
          "output_type": "stream",
          "text": [
            "Extracting data/MNIST/raw/train-labels-idx1-ubyte.gz\n",
            "Downloading http://yann.lecun.com/exdb/mnist/t10k-images-idx3-ubyte.gz to data/MNIST/raw/t10k-images-idx3-ubyte.gz\n"
          ],
          "name": "stdout"
        },
        {
          "output_type": "stream",
          "text": [
            "1654784it [00:01, 1128388.18it/s]                            \n",
            "0it [00:00, ?it/s]"
          ],
          "name": "stderr"
        },
        {
          "output_type": "stream",
          "text": [
            "Extracting data/MNIST/raw/t10k-images-idx3-ubyte.gz\n",
            "Downloading http://yann.lecun.com/exdb/mnist/t10k-labels-idx1-ubyte.gz to data/MNIST/raw/t10k-labels-idx1-ubyte.gz\n"
          ],
          "name": "stdout"
        },
        {
          "output_type": "stream",
          "text": [
            "8192it [00:00, 25641.25it/s]            "
          ],
          "name": "stderr"
        },
        {
          "output_type": "stream",
          "text": [
            "Extracting data/MNIST/raw/t10k-labels-idx1-ubyte.gz\n",
            "Processing...\n",
            "Done!\n"
          ],
          "name": "stdout"
        },
        {
          "output_type": "stream",
          "text": [
            "\n"
          ],
          "name": "stderr"
        }
      ]
    },
    {
      "metadata": {
        "id": "wXbpteGQJdIe",
        "colab_type": "code",
        "colab": {
          "base_uri": "https://localhost:8080/",
          "height": 34
        },
        "outputId": "c7746f23-8a2f-4eda-a47a-dd05ba2212b9"
      },
      "cell_type": "code",
      "source": [
        "len(dataset)"
      ],
      "execution_count": 3,
      "outputs": [
        {
          "output_type": "execute_result",
          "data": {
            "text/plain": [
              "60000"
            ]
          },
          "metadata": {
            "tags": []
          },
          "execution_count": 3
        }
      ]
    },
    {
      "metadata": {
        "id": "f2SVmO2oJucB",
        "colab_type": "text"
      },
      "cell_type": "markdown",
      "source": [
        "The dataset has 60,000 images which can be used to train the model. There is also an additional test set of 10,000 images which can be created by passing train=False to the MNIST class."
      ]
    },
    {
      "metadata": {
        "id": "0zPSdqBGJtZH",
        "colab_type": "code",
        "colab": {
          "base_uri": "https://localhost:8080/",
          "height": 34
        },
        "outputId": "aaca9915-ba05-49a4-e89f-724a3dfb3a64"
      },
      "cell_type": "code",
      "source": [
        "test_dataset = MNIST(root='data/', train=False)\n",
        "len(test_dataset)"
      ],
      "execution_count": 4,
      "outputs": [
        {
          "output_type": "execute_result",
          "data": {
            "text/plain": [
              "10000"
            ]
          },
          "metadata": {
            "tags": []
          },
          "execution_count": 4
        }
      ]
    },
    {
      "metadata": {
        "id": "1_yRuJZlJtH4",
        "colab_type": "code",
        "colab": {
          "base_uri": "https://localhost:8080/",
          "height": 286
        },
        "outputId": "55033e0a-37de-4fa9-81d2-25f6e23e125e"
      },
      "cell_type": "code",
      "source": [
        "import matplotlib.pyplot as plt\n",
        "%matplotlib inline\n",
        "\n",
        "image, label = dataset[0]\n",
        "plt.imshow(image, cmap='gray')\n",
        "print('Label:', label)"
      ],
      "execution_count": 5,
      "outputs": [
        {
          "output_type": "stream",
          "text": [
            "Label: 5\n"
          ],
          "name": "stdout"
        },
        {
          "output_type": "display_data",
          "data": {
            "image/png": "[encoded data removed]",
            "text/plain": [
              "<Figure size 432x288 with 1 Axes>"
            ]
          },
          "metadata": {
            "tags": []
          }
        }
      ]
    },
    {
      "metadata": {
        "id": "N2zVZYcSNfRh",
        "colab_type": "code",
        "colab": {}
      },
      "cell_type": "code",
      "source": [
        "import torchvision.transforms as transforms"
      ],
      "execution_count": 0,
      "outputs": []
    },
    {
      "metadata": {
        "id": "-ScqmTXuPLa3",
        "colab_type": "text"
      },
      "cell_type": "markdown",
      "source": [
        "`torchvision.transforms` contains many such predefined functions, and we'll use the ToTensor transform to convert images into PyTorch tensors."
      ]
    },
    {
      "metadata": {
        "id": "CZKLV-rFPLGO",
        "colab_type": "code",
        "colab": {}
      },
      "cell_type": "code",
      "source": [
        "dataset = MNIST(root='data/', train=True, \n",
        "                transform=transforms.ToTensor())"
      ],
      "execution_count": 0,
      "outputs": []
    },
    {
      "metadata": {
        "id": "HMS1V9cVP41q",
        "colab_type": "code",
        "colab": {
          "base_uri": "https://localhost:8080/",
          "height": 34
        },
        "outputId": "eaa18b52-49f9-493b-9057-644189760459"
      },
      "cell_type": "code",
      "source": [
        "img_tensor, label = dataset[0]\n",
        "print(img_tensor.shape, label)"
      ],
      "execution_count": 8,
      "outputs": [
        {
          "output_type": "stream",
          "text": [
            "torch.Size([1, 28, 28]) 5\n"
          ],
          "name": "stdout"
        }
      ]
    },
    {
      "metadata": {
        "id": "Xwz64eNyQFTT",
        "colab_type": "code",
        "colab": {
          "base_uri": "https://localhost:8080/",
          "height": 34
        },
        "outputId": "3d0b7702-40b6-4465-e3ef-8fe79ce6b6a0"
      },
      "cell_type": "code",
      "source": [
        "print(torch.max(img_tensor), torch.min(img_tensor))"
      ],
      "execution_count": 9,
      "outputs": [
        {
          "output_type": "stream",
          "text": [
            "tensor(1.) tensor(0.)\n"
          ],
          "name": "stdout"
        }
      ]
    },
    {
      "metadata": {
        "id": "Yb078nc7QdBZ",
        "colab_type": "text"
      },
      "cell_type": "markdown",
      "source": [
        "The values range from 0 to 1, with 0 representing black, 1 white and the values in between different shades of grey. "
      ]
    },
    {
      "metadata": {
        "id": "L6eD7nujQ08H",
        "colab_type": "text"
      },
      "cell_type": "markdown",
      "source": [
        "### Splitting the datasets"
      ]
    },
    {
      "metadata": {
        "id": "j9eBKL8qRC2r",
        "colab_type": "text"
      },
      "cell_type": "markdown",
      "source": [
        "While building real world machine learning models, it is quite common to split the dataset into 3 parts:\n",
        "\n",
        "* Training set — used to train the model i.e. compute the loss and adjust the weights of the model using gradient descent.\n",
        "* Validation set — used to evaluate the model while training, adjust hyperparameters (learning rate etc.) and pick the best version of the model.\n",
        "* Test set — used to compare different models, or different types of modeling approaches, and report the final accuracy of the model.\n",
        "\n",
        "In the MNIST dataset, there are 60,000 training images, and 10,000 test images. The test set is standardized so that different researchers can report the results of their models against the same set of images. Since there’s no predefined validation set, we must manually split the 60,000 images into training and validation datasets."
      ]
    },
    {
      "metadata": {
        "id": "jrSHB14LQY-n",
        "colab_type": "code",
        "colab": {}
      },
      "cell_type": "code",
      "source": [
        "import numpy as np\n",
        "\n",
        "def split_indices(n, val_pct):\n",
        "  \n",
        "  #determine the size of validation set\n",
        "  n_val = int(val_pct*n)\n",
        "  \n",
        "  #create random permutation of 0 to n-1\n",
        "  idxs = np.random.permutation(n)\n",
        "  \n",
        "  #pick first n_val indices for validation set\n",
        "  return idxs[n_val:], idxs[:n_val]"
      ],
      "execution_count": 0,
      "outputs": []
    },
    {
      "metadata": {
        "id": "9FZspUYVuF6z",
        "colab_type": "text"
      },
      "cell_type": "markdown",
      "source": [
        "`split_indices` randomly shuffles the array indices 0,1,..n-1, and separates out a desired portion from it for the validation set. It's important to shuffle the indices before creating a validation set, because the training images are often ordered by the target labels i.e. images of 0s, followed by images of 1s, followed by images of 2s and so on. If we were to pick a 20% validation set simply by selecting the last 20% of the images, the validation set would only consist of images of 8s and 9s, whereas the training set would contain no images of 8s and 9s. This would make it impossible to train a good model using the training set, which also performs well on the validation set (and on real world data)."
      ]
    },
    {
      "metadata": {
        "id": "0depVOEYuE3g",
        "colab_type": "code",
        "colab": {
          "base_uri": "https://localhost:8080/",
          "height": 34
        },
        "outputId": "2bc744bc-6788-43cd-8ed4-25a34ad84153"
      },
      "cell_type": "code",
      "source": [
        "train_indices, val_indices = split_indices(len(dataset), val_pct=0.20)\n",
        "print(len(train_indices), len(val_indices))"
      ],
      "execution_count": 11,
      "outputs": [
        {
          "output_type": "stream",
          "text": [
            "48000 12000\n"
          ],
          "name": "stdout"
        }
      ]
    },
    {
      "metadata": {
        "id": "0yqybv15vjxX",
        "colab_type": "text"
      },
      "cell_type": "markdown",
      "source": [
        "We can now create PyTorch data loaders for each of these using a `SubsetRandomSampler`, which samples elements randomly from a given list of indices, while creating batches of data."
      ]
    },
    {
      "metadata": {
        "id": "YubDrDv0vV6u",
        "colab_type": "code",
        "colab": {}
      },
      "cell_type": "code",
      "source": [
        "from torch.utils.data.sampler import SubsetRandomSampler\n",
        "from torch.utils.data.dataloader import DataLoader"
      ],
      "execution_count": 0,
      "outputs": []
    },
    {
      "metadata": {
        "id": "_finCm9Rv3h1",
        "colab_type": "code",
        "colab": {}
      },
      "cell_type": "code",
      "source": [
        "batch_size=64\n",
        "\n",
        "#Training sampler and dataloader\n",
        "train_sampler = SubsetRandomSampler(train_indices)\n",
        "train_loader = DataLoader(dataset, batch_size,sampler= train_sampler)\n",
        "\n",
        "#Validation sampler and data loader\n",
        "val_sampler = SubsetRandomSampler(val_indices)\n",
        "val_loader = DataLoader(dataset, batch_size, sampler= val_sampler)\n"
      ],
      "execution_count": 0,
      "outputs": []
    },
    {
      "metadata": {
        "id": "mCLwpm85xUud",
        "colab_type": "text"
      },
      "cell_type": "markdown",
      "source": [
        "### Build the model"
      ]
    },
    {
      "metadata": {
        "id": "z6Wita6axmpw",
        "colab_type": "text"
      },
      "cell_type": "markdown",
      "source": [
        "For a **logistic regression** model, nn.Linear expects the each training example to be a vector, each 1x28x28 image tensor needs to be flattened out into a vector of size 784 (28*28), before being passed into the model."
      ]
    },
    {
      "metadata": {
        "id": "6cmKUCE8wu8P",
        "colab_type": "code",
        "colab": {}
      },
      "cell_type": "code",
      "source": [
        "import torch.nn as nn\n",
        "import torch.nn.functional as F\n",
        "\n",
        "input_size= 28*28\n",
        "num_classes = 10\n",
        "\n",
        "class MnistModel(nn.Module):\n",
        "  \"\"\"Feedforward NN with 1 hidden layer\"\"\"\n",
        "  def __init__(self, in_size, hidden_size, out_size):\n",
        "    super().__init__()\n",
        "    \n",
        "    #Hidden Layer\n",
        "    self.linear1 = nn.Linear(in_size, hidden_size)\n",
        "    \n",
        "    #Output Layer\n",
        "    self.linear2 = nn.Linear(hidden_size, out_size)\n",
        "    \n",
        "  def forward(self, xb):\n",
        "    #Flatten the image tensors\n",
        "    xb = xb.view(xb.size(0), -1)\n",
        "    \n",
        "    #Get intermediate outputs using hidden layers \n",
        "    out = self.linear1(xb)\n",
        "    \n",
        "    #Apply activation function\n",
        "    out = F.relu(out)\n",
        "    \n",
        "    #Get predictions using output layer\n",
        "    out = self.linear2(out)\n",
        "    \n",
        "    return out\n",
        "\n",
        "#model = MnistModel()\n",
        "#print(model.linear.weight.shape, model.linear.bias.shape)"
      ],
      "execution_count": 0,
      "outputs": []
    },
    {
      "metadata": {
        "id": "Yv9MdAqwGXZs",
        "colab_type": "text"
      },
      "cell_type": "markdown",
      "source": [
        "### Using GPU"
      ]
    },
    {
      "metadata": {
        "id": "MBZhXjpSGZ56",
        "colab_type": "code",
        "colab": {}
      },
      "cell_type": "code",
      "source": [
        "def get_default_device():\n",
        "  \"\"\"Pick GPUif available, else CPU\"\"\"\n",
        "  if torch.cuda.is_available():\n",
        "    return torch.device('cuda')\n",
        "  else:\n",
        "    return torch.device('cpu')"
      ],
      "execution_count": 0,
      "outputs": []
    },
    {
      "metadata": {
        "id": "8vIGNlfIbogP",
        "colab_type": "code",
        "colab": {}
      },
      "cell_type": "code",
      "source": [
        "device = get_default_device()"
      ],
      "execution_count": 0,
      "outputs": []
    },
    {
      "metadata": {
        "id": "KHcKvYd3IDaT",
        "colab_type": "code",
        "colab": {}
      },
      "cell_type": "code",
      "source": [
        "def to_device(data, device):\n",
        "  \"\"\"Move tensors to chosen device\"\"\"\n",
        "  if isinstance(data, (list, tuple)):\n",
        "    return [to_device(x, device) for x in data]\n",
        "  return data.to(device, non_blocking=True)"
      ],
      "execution_count": 0,
      "outputs": []
    },
    {
      "metadata": {
        "id": "klyGZIF8JGQa",
        "colab_type": "code",
        "colab": {}
      },
      "cell_type": "code",
      "source": [
        "class DeviceDataLoader():\n",
        "  \"\"\"Wrap a dataloader to move data to a device\"\"\"\n",
        "  def __init__(self, dl, device):\n",
        "    self.dl = dl\n",
        "    self.device = device\n",
        "    \n",
        "  def __iter__(self):\n",
        "    \"\"\"Yield a batch of data after moving it to device\"\"\"\n",
        "    for b in self.dl:\n",
        "      yield to_device(b, self.device)\n",
        "      \n",
        "  def __len__(self):\n",
        "    \"\"\"Number of batches\"\"\"\n",
        "    return len(self.dl)"
      ],
      "execution_count": 0,
      "outputs": []
    },
    {
      "metadata": {
        "id": "m0fzo3aOJGpg",
        "colab_type": "code",
        "colab": {}
      },
      "cell_type": "code",
      "source": [
        "#Wrap the data loader using DeviceDataLoader\n",
        "train_dl = DeviceDataLoader(train_loader, device)\n",
        "valid_dl = DeviceDataLoader(val_loader, device)"
      ],
      "execution_count": 0,
      "outputs": []
    },
    {
      "metadata": {
        "id": "bP4aaPmpJN7E",
        "colab_type": "text"
      },
      "cell_type": "markdown",
      "source": [
        "### Train the model"
      ]
    },
    {
      "metadata": {
        "id": "45k7DcfTQ1vu",
        "colab_type": "text"
      },
      "cell_type": "markdown",
      "source": [
        "We need to define the accuracy to operate on an entire batch of outputs directly, so that we can use it as a metric in `fit`."
      ]
    },
    {
      "metadata": {
        "id": "pp_dKJygQ58t",
        "colab_type": "code",
        "colab": {}
      },
      "cell_type": "code",
      "source": [
        "def accuracy(outputs, labels):\n",
        "  #determine the predicted label for each image by simply choosing \n",
        "  #the index of the element with the highest probability in each output row.\n",
        "  _,preds = torch.max(outputs, dim=1)\n",
        "  return torch.sum(preds == labels).item() / len(preds)"
      ],
      "execution_count": 0,
      "outputs": []
    },
    {
      "metadata": {
        "id": "mAhE9LDTKQwC",
        "colab_type": "text"
      },
      "cell_type": "markdown",
      "source": [
        "While the `accuracy` is a great way for us (humans) to evaluate the model, it can’t be used as a loss function for optimizing our model using gradient descent, for the following reasons:\n",
        "\n",
        "* It’s not a differentiable function. `torch.max` and `==` are both non-continuous and non-differentiable operations, so we can't use the accuracy for computing gradients w.r.t the weights and biases.\n",
        "* It doesn’t take into account the actual probabilities predicted by the model, so it can’t provide sufficient feedback for incremental improvements.\n",
        "\n",
        "Unlike `accuracy`, `cross-entropy` is a continuous and differentiable function that also provides good feedback for incremental improvements in the model (a slightly higher probability for the correct label leads to a lower loss). This makes it a good choice for the loss function. It also performs softmax internally, so we can directly pass in the outputs of the model without converting them into probabilities.\n",
        "\n",
        "Cross entropy is the negative logarithm of the predicted probability of the correct label averaged over all training samples."
      ]
    },
    {
      "metadata": {
        "id": "T8QStOYeIu3w",
        "colab_type": "code",
        "colab": {}
      },
      "cell_type": "code",
      "source": [
        "# Loss function\n",
        "loss_fn = F.cross_entropy"
      ],
      "execution_count": 0,
      "outputs": []
    },
    {
      "metadata": {
        "id": "in-S8a0aN1lz",
        "colab_type": "text"
      },
      "cell_type": "markdown",
      "source": [
        "We define a function loss_batch which:\n",
        "\n",
        "* calculates the loss for a batch of data\n",
        "* optionally perform the gradient descent update step if an optimizer is provided\n",
        "* optionally computes a metric (e.g. accuracy) using the predictions and actual targets\n"
      ]
    },
    {
      "metadata": {
        "id": "kAFWJBO2MdqV",
        "colab_type": "code",
        "colab": {}
      },
      "cell_type": "code",
      "source": [
        "def loss_batch(model, loss_func, xb, yb, opt=None, metric=None):\n",
        "  \n",
        "  #Calculate loss\n",
        "  preds = model(xb)\n",
        "  loss = loss_func(preds, yb)\n",
        "  \n",
        "  if opt is not None:\n",
        "    #Compute gradients\n",
        "    loss.backward()\n",
        "    #Update parameters\n",
        "    opt.step()\n",
        "    #Reset gradients\n",
        "    opt.zero_grad()\n",
        "    \n",
        "  metric_result = None\n",
        "  if metric is not None:\n",
        "    #compute metric\n",
        "    metric_result = metric(preds, yb)\n",
        "      \n",
        "  return loss.item(), len(xb), metric_result "
      ],
      "execution_count": 0,
      "outputs": []
    },
    {
      "metadata": {
        "id": "HP7u1MI5O8SY",
        "colab_type": "text"
      },
      "cell_type": "markdown",
      "source": [
        "The optimizer is an optional argument, to ensure that we can reuse `loss_batch` for computing the loss on the validation set. We also return the length of the batch as part of the result, as it'll be useful while combining the losses/metrics for the entire dataset.\n",
        "\n",
        "Next we define a function evaluate, which calculates the overall loss (and a metric, if provided) for the validation set."
      ]
    },
    {
      "metadata": {
        "id": "csSRnBNHPANa",
        "colab_type": "code",
        "colab": {}
      },
      "cell_type": "code",
      "source": [
        "def evaluate(model, loss_fn, valid_dl, metric=None):\n",
        "  with torch.no_grad():\n",
        "    \n",
        "    #Pass each batch through the model\n",
        "    results = [loss_batch(model, loss_fn, xb, yb, metric=metric) for xb, yb in valid_dl]\n",
        "    \n",
        "    #Separate losses, counts and metrics\n",
        "    losses, nums, metrics = zip(*results)\n",
        "    \n",
        "    #Total size of dataset\n",
        "    total = np.sum(nums)\n",
        "    \n",
        "    #Avg. loss across batches\n",
        "    avg_loss = np.sum(np.multiply(losses, nums)) / total\n",
        "    avg_metric = None\n",
        "    if metric is not None:\n",
        "      #avg of metric across batches\n",
        "      avg_metric = np.sum(np.multiply(metrics, nums)) / total\n",
        "  \n",
        "  return avg_loss, total, avg_metric"
      ],
      "execution_count": 0,
      "outputs": []
    },
    {
      "metadata": {
        "id": "vso-DV3sSIM6",
        "colab_type": "text"
      },
      "cell_type": "markdown",
      "source": [
        "Let's define the `fit` function using loss_batch and evaluate."
      ]
    },
    {
      "metadata": {
        "id": "v972OCRMSM3v",
        "colab_type": "code",
        "colab": {}
      },
      "cell_type": "code",
      "source": [
        "def fit(epochs, lr, model, loss_fn, train_dl, \n",
        "        valid_dl, metric=None, opt_fn=None):\n",
        "  \n",
        "  losses, metrics = [],[]\n",
        "  \n",
        "  #Instantiate the optimizer\n",
        "  if opt_fn is None: opt_fn = torch.optim.Adam\n",
        "  opt = torch.optim.Adam(model.parameters(), lr=lr)\n",
        "  \n",
        "  for epoch in range(epochs):\n",
        "    #Training\n",
        "    for xb, yb in train_dl:\n",
        "      loss,_,_ = loss_batch(model, loss_fn, xb, yb, opt)\n",
        "      \n",
        "    #Evaluation\n",
        "    result = evaluate(model, loss_fn, valid_dl, metric)\n",
        "    val_loss, total, val_metric = result\n",
        "    \n",
        "    #Record the loss and metric\n",
        "    losses.append(val_loss)\n",
        "    metrics.append(val_metric)\n",
        "    \n",
        "    #Print progress\n",
        "    if metric is None:\n",
        "      print('Epoch [{}/{}], Loss: {:.4f}'.format\n",
        "           (epoch+1, epochs, val_loss))\n",
        "    else:\n",
        "      print('Epoch [{}/{}], Loss: {:.4f}, {}: {:.4f}'.format\n",
        "           (epoch+1, epochs, val_loss, metric.__name__, val_metric))\n",
        "      \n",
        "  return losses, metrics"
      ],
      "execution_count": 0,
      "outputs": []
    },
    {
      "metadata": {
        "id": "9U36DYclLFCw",
        "colab_type": "code",
        "colab": {
          "base_uri": "https://localhost:8080/",
          "height": 357
        },
        "outputId": "f26aec68-2ae9-4aa4-c7da-857d0eee6376"
      },
      "cell_type": "code",
      "source": [
        "#Lets train the model\n",
        "model = MnistModel(input_size, hidden_size=128, out_size=num_classes)\n",
        "to_device(model, device)\n",
        "\n",
        "#Fit\n",
        "losses, metrics = fit(20, 0.001, model, loss_fn, train_dl, valid_dl, metric=accuracy)"
      ],
      "execution_count": 25,
      "outputs": [
        {
          "output_type": "stream",
          "text": [
            "Epoch [1/20], Loss: 0.2103, accuracy: 0.9388\n",
            "Epoch [2/20], Loss: 0.1512, accuracy: 0.9564\n",
            "Epoch [3/20], Loss: 0.1168, accuracy: 0.9654\n",
            "Epoch [4/20], Loss: 0.0986, accuracy: 0.9708\n",
            "Epoch [5/20], Loss: 0.0919, accuracy: 0.9727\n",
            "Epoch [6/20], Loss: 0.0817, accuracy: 0.9758\n",
            "Epoch [7/20], Loss: 0.0738, accuracy: 0.9773\n",
            "Epoch [8/20], Loss: 0.0761, accuracy: 0.9767\n",
            "Epoch [9/20], Loss: 0.0720, accuracy: 0.9771\n",
            "Epoch [10/20], Loss: 0.0740, accuracy: 0.9786\n",
            "Epoch [11/20], Loss: 0.0735, accuracy: 0.9781\n",
            "Epoch [12/20], Loss: 0.0748, accuracy: 0.9782\n",
            "Epoch [13/20], Loss: 0.0781, accuracy: 0.9772\n",
            "Epoch [14/20], Loss: 0.0799, accuracy: 0.9774\n",
            "Epoch [15/20], Loss: 0.0808, accuracy: 0.9782\n",
            "Epoch [16/20], Loss: 0.0800, accuracy: 0.9788\n",
            "Epoch [17/20], Loss: 0.0806, accuracy: 0.9780\n",
            "Epoch [18/20], Loss: 0.0825, accuracy: 0.9793\n",
            "Epoch [19/20], Loss: 0.0833, accuracy: 0.9773\n",
            "Epoch [20/20], Loss: 0.0826, accuracy: 0.9797\n"
          ],
          "name": "stdout"
        }
      ]
    },
    {
      "metadata": {
        "id": "fnCrwEpOMeXO",
        "colab_type": "text"
      },
      "cell_type": "markdown",
      "source": [
        "Parameters like batch size, learning rate etc. need to picked in advance while training machine learning models, and are called hyperparameters. Picking the right hyperparameters is critical for training an accurate model within a reasonable amount of time, and is an active area of research and experimentation."
      ]
    },
    {
      "metadata": {
        "id": "_4zjHyNrSese",
        "colab_type": "text"
      },
      "cell_type": "markdown",
      "source": [
        "### Visualization"
      ]
    },
    {
      "metadata": {
        "id": "y2r5x3UQSeWx",
        "colab_type": "code",
        "colab": {
          "base_uri": "https://localhost:8080/",
          "height": 312
        },
        "outputId": "bb1e9659-1f24-488b-c21e-fb50a6d1c0a3"
      },
      "cell_type": "code",
      "source": [
        "plt.plot(metrics, '-x')\n",
        "plt.xlabel('epochs')\n",
        "plt.ylabel('accuracy')\n",
        "plt.title('Accuracy vs No. of epochs')"
      ],
      "execution_count": 26,
      "outputs": [
        {
          "output_type": "execute_result",
          "data": {
            "text/plain": [
              "Text(0.5, 1.0, 'Accuracy vs No. of epochs')"
            ]
          },
          "metadata": {
            "tags": []
          },
          "execution_count": 26
        },
        {
          "output_type": "display_data",
          "data": {
            "image/png": "[encoded data removed]",
            "text/plain": [
              "<Figure size 432x288 with 1 Axes>"
            ]
          },
          "metadata": {
            "tags": []
          }
        }
      ]
    },
    {
      "metadata": {
        "id": "4w4qk2Uuko1w",
        "colab_type": "text"
      },
      "cell_type": "markdown",
      "source": [
        "### Test the model"
      ]
    },
    {
      "metadata": {
        "id": "BgceEx50pHN-",
        "colab_type": "code",
        "colab": {}
      },
      "cell_type": "code",
      "source": [
        "#convert test image dataset to pytorch tensors\n",
        "test_dataset = MNIST(root='data/', train=False, \n",
        "                     transform=transforms.ToTensor())\n"
      ],
      "execution_count": 0,
      "outputs": []
    },
    {
      "metadata": {
        "id": "UcsCWAtZlW2j",
        "colab_type": "text"
      },
      "cell_type": "markdown",
      "source": [
        "Let’s also look at the overall loss and accuracy of the model on the test set.\n"
      ]
    },
    {
      "metadata": {
        "id": "N8-cDmeRlXzc",
        "colab_type": "code",
        "colab": {
          "base_uri": "https://localhost:8080/",
          "height": 34
        },
        "outputId": "2ae48af7-11c5-4434-d2ff-cf68a667b00c"
      },
      "cell_type": "code",
      "source": [
        "test_loader = DataLoader(test_dataset, batch_size=64)\n",
        "test_dl = DeviceDataLoader(test_loader, device)\n",
        "\n",
        "test_loss, total, test_acc = evaluate(model, loss_fn, test_dl,\n",
        "                                     metric=accuracy)\n",
        "print('Loss: {:.4f}, Accuracy: {:.4f}'.format\n",
        "     (test_loss, test_acc))"
      ],
      "execution_count": 28,
      "outputs": [
        {
          "output_type": "stream",
          "text": [
            "Loss: 0.0913, Accuracy: 0.9772\n"
          ],
          "name": "stdout"
        }
      ]
    },
    {
      "metadata": {
        "id": "bXaS5_2olyoR",
        "colab_type": "text"
      },
      "cell_type": "markdown",
      "source": [
        "### Save the Model"
      ]
    },
    {
      "metadata": {
        "id": "K14vx8cLl0qW",
        "colab_type": "code",
        "colab": {}
      },
      "cell_type": "code",
      "source": [
        "torch.save(model.state_dict(), 'mnist-logistic.pth')"
      ],
      "execution_count": 0,
      "outputs": []
    },
    {
      "metadata": {
        "id": "0aCbBM40mPbI",
        "colab_type": "text"
      },
      "cell_type": "markdown",
      "source": [
        "### Load the Model"
      ]
    },
    {
      "metadata": {
        "id": "qjg4U7WQl9lX",
        "colab_type": "code",
        "colab": {}
      },
      "cell_type": "code",
      "source": [
        "model2 = MnistModel(input_size, hidden_size=128, out_size=num_classes)\n",
        "model2.load_state_dict(torch.load('mnist-logistic.pth'))"
      ],
      "execution_count": 0,
      "outputs": []
    },
    {
      "metadata": {
        "id": "WtsSdseQplOw",
        "colab_type": "code",
        "colab": {}
      },
      "cell_type": "code",
      "source": [
        ""
      ],
      "execution_count": 0,
      "outputs": []
    }
  ]
}