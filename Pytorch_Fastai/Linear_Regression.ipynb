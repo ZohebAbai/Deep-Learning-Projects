{
  "nbformat": 4,
  "nbformat_minor": 0,
  "metadata": {
    "colab": {
      "name": "Linear Regression.ipynb",
      "version": "0.3.2",
      "provenance": [],
      "collapsed_sections": [],
      "include_colab_link": true
    },
    "kernelspec": {
      "name": "python3",
      "display_name": "Python 3"
    }
  },
  "cells": [
    {
      "cell_type": "markdown",
      "metadata": {
        "id": "view-in-github",
        "colab_type": "text"
      },
      "source": [
        "<a href=\"https://colab.research.google.com/github/ZohebAbai/DeepLearning-Projects/blob/master/Linear_Regression.ipynb\" target=\"_parent\"><img src=\"https://colab.research.google.com/assets/colab-badge.svg\" alt=\"Open In Colab\"/></a>"
      ]
    },
    {
      "metadata": {
        "id": "tfSIjIKZmmf_",
        "colab_type": "text"
      },
      "cell_type": "markdown",
      "source": [
        "## Using Pytorch built-ins functions"
      ]
    },
    {
      "metadata": {
        "id": "tbUvPug6mctC",
        "colab_type": "code",
        "colab": {}
      },
      "cell_type": "code",
      "source": [
        "import numpy as np\n",
        "import torch\n",
        "import torch.nn as nn"
      ],
      "execution_count": 0,
      "outputs": []
    },
    {
      "metadata": {
        "id": "yn5T1IZ8m5_m",
        "colab_type": "text"
      },
      "cell_type": "markdown",
      "source": [
        "`torch.nn` contains utility classes for building neural networks."
      ]
    },
    {
      "metadata": {
        "id": "g6cVPLz7m97T",
        "colab_type": "code",
        "colab": {}
      },
      "cell_type": "code",
      "source": [
        "# Input (temp, rainfall, humidity)\n",
        "inputs = np.array([[73,67,43], [91,88,64], [87,134,58],\n",
        "                  [102,43,37],[69,96,70],[73,67,43],\n",
        "                  [91,88,64], [87,134,58],[102,43,37],\n",
        "                  [69,96,70], [73,67,43], [91,88,64],\n",
        "                  [87,134,58],[102,43,37], [69,96,70]],\n",
        "                 dtype='float32')\n",
        "\n",
        "# Targets (apples, oranges)\n",
        "targets = np.array([[56,70], [81,101], [119,133],\n",
        "                   [22,37],[103,119],[56,70],\n",
        "                   [81,101],[119,133],[22,37],\n",
        "                   [103,119],[56,70],[81,101],\n",
        "                   [119,133],[22,37],[103,119]],\n",
        "                  dtype='float32')\n",
        "\n",
        "inputs = torch.from_numpy(inputs)\n",
        "targets = torch.from_numpy(targets)"
      ],
      "execution_count": 0,
      "outputs": []
    },
    {
      "metadata": {
        "id": "X5OSjLg-5FO7",
        "colab_type": "text"
      },
      "cell_type": "markdown",
      "source": [
        "### Load the Data"
      ]
    },
    {
      "metadata": {
        "id": "EP2Yr5P6tGLt",
        "colab_type": "text"
      },
      "cell_type": "markdown",
      "source": [
        "We’ll create a TensorDataset, which allows access to rows from inputs and targets as tuples, and provides standard APIs for working with many different types of datasets in PyTorch."
      ]
    },
    {
      "metadata": {
        "id": "wITQu13Vsk-0",
        "colab_type": "code",
        "colab": {}
      },
      "cell_type": "code",
      "source": [
        "from torch.utils.data import TensorDataset"
      ],
      "execution_count": 0,
      "outputs": []
    },
    {
      "metadata": {
        "id": "lcAUO4fbtQp0",
        "colab_type": "code",
        "colab": {
          "base_uri": "https://localhost:8080/",
          "height": 102
        },
        "outputId": "c34a1d0e-94f3-4d32-ef6e-c2dff78c403b"
      },
      "cell_type": "code",
      "source": [
        "#Define dataset\n",
        "train_ds = TensorDataset(inputs, targets)\n",
        "train_ds[0:3]"
      ],
      "execution_count": 4,
      "outputs": [
        {
          "output_type": "execute_result",
          "data": {
            "text/plain": [
              "(tensor([[ 73.,  67.,  43.],\n",
              "         [ 91.,  88.,  64.],\n",
              "         [ 87., 134.,  58.]]), tensor([[ 56.,  70.],\n",
              "         [ 81., 101.],\n",
              "         [119., 133.]]))"
            ]
          },
          "metadata": {
            "tags": []
          },
          "execution_count": 4
        }
      ]
    },
    {
      "metadata": {
        "id": "jK0_tv0bt2S1",
        "colab_type": "text"
      },
      "cell_type": "markdown",
      "source": [
        "We’ll also create a DataLoader, which can split the data into batches of a predefined size while training. It also provides other utilities like shuffling and random sampling of the data."
      ]
    },
    {
      "metadata": {
        "id": "syua_h_rtbFm",
        "colab_type": "code",
        "colab": {}
      },
      "cell_type": "code",
      "source": [
        "from torch.utils.data import DataLoader"
      ],
      "execution_count": 0,
      "outputs": []
    },
    {
      "metadata": {
        "id": "Olr72LfQt6qR",
        "colab_type": "code",
        "colab": {}
      },
      "cell_type": "code",
      "source": [
        "#Define data loader\n",
        "batch_size= 5\n",
        "train_dl = DataLoader(train_ds, batch_size, shuffle=True)"
      ],
      "execution_count": 0,
      "outputs": []
    },
    {
      "metadata": {
        "id": "-e_cdaagucxp",
        "colab_type": "text"
      },
      "cell_type": "markdown",
      "source": [
        "In each iteration, the data loader returns one batch of data, with the given batch size. If shuffle is set to True, it shuffles the training data before creating batches. Shuffling helps randomize the input to the optimization algorithm, which can lead to faster reduction in the loss."
      ]
    },
    {
      "metadata": {
        "id": "kP_uC0liv0X8",
        "colab_type": "text"
      },
      "cell_type": "markdown",
      "source": [
        "### Build model"
      ]
    },
    {
      "metadata": {
        "id": "9Bmy3j2nvxLF",
        "colab_type": "text"
      },
      "cell_type": "markdown",
      "source": [
        "Instead of initializing the weights & biases manually, we can define the model using the nn.Linear class from PyTorch, which does it automatically."
      ]
    },
    {
      "metadata": {
        "id": "FdqGIKb3uE39",
        "colab_type": "code",
        "colab": {
          "base_uri": "https://localhost:8080/",
          "height": 102
        },
        "outputId": "77a6a9b1-0980-4660-a7d6-31272b1ccd04"
      },
      "cell_type": "code",
      "source": [
        "model = nn.Linear(3,2)\n",
        "print(model.weight)\n",
        "print(model.bias)"
      ],
      "execution_count": 7,
      "outputs": [
        {
          "output_type": "stream",
          "text": [
            "Parameter containing:\n",
            "tensor([[-0.4264, -0.3537,  0.4066],\n",
            "        [-0.1913, -0.0152,  0.4384]], requires_grad=True)\n",
            "Parameter containing:\n",
            "tensor([0.0344, 0.2587], requires_grad=True)\n"
          ],
          "name": "stdout"
        }
      ]
    },
    {
      "metadata": {
        "id": "dYfBYORjwbS4",
        "colab_type": "text"
      },
      "cell_type": "markdown",
      "source": [
        "PyTorch models also have a helpful .parameters method, which returns a list containing all the weights and bias matrices present in the model. For our linear regression model, we have one weight matrix and one bias matrix."
      ]
    },
    {
      "metadata": {
        "id": "9ni65xNLwKTz",
        "colab_type": "code",
        "colab": {
          "base_uri": "https://localhost:8080/",
          "height": 102
        },
        "outputId": "f9f436ae-8b8c-4cae-9bc0-fefaf93bd846"
      },
      "cell_type": "code",
      "source": [
        "list(model.parameters())"
      ],
      "execution_count": 8,
      "outputs": [
        {
          "output_type": "execute_result",
          "data": {
            "text/plain": [
              "[Parameter containing:\n",
              " tensor([[-0.4264, -0.3537,  0.4066],\n",
              "         [-0.1913, -0.0152,  0.4384]], requires_grad=True),\n",
              " Parameter containing:\n",
              " tensor([0.0344, 0.2587], requires_grad=True)]"
            ]
          },
          "metadata": {
            "tags": []
          },
          "execution_count": 8
        }
      ]
    },
    {
      "metadata": {
        "id": "XjeDD4xzz_GS",
        "colab_type": "text"
      },
      "cell_type": "markdown",
      "source": [
        "### Train the model"
      ]
    },
    {
      "metadata": {
        "id": "-s8uImYE0FTN",
        "colab_type": "text"
      },
      "cell_type": "markdown",
      "source": [
        "We are now ready to train the model. We’ll follow the exact same process to implement gradient descent:\n",
        "\n",
        "* Generate predictions\n",
        "* Calculate the loss\n",
        "* Compute gradients w.r.t the weights and biases\n",
        "* Adjust the weights by subtracting a small quantity proportional to the gradient\n",
        "* Reset the gradients to zero\n",
        "\n",
        "The only change is that we’ll work batches of data, instead of processing the entire training data in every iteration. Let’s define a utility function fit which trains the model for a given number of epochs."
      ]
    },
    {
      "metadata": {
        "id": "CXwFyCFt0Bkc",
        "colab_type": "code",
        "colab": {}
      },
      "cell_type": "code",
      "source": [
        "# Utility function to train the model\n",
        "def fit(num_epochs, model, loss_fn, opt):\n",
        "  \n",
        "  #Repeat for given number of epochs\n",
        "  for epoch in range(num_epochs):\n",
        "    \n",
        "    #Train with batches of data\n",
        "    for xb,yb in train_dl:\n",
        "      \n",
        "      #1. Generate predictions\n",
        "      pred = model(xb)\n",
        "      \n",
        "      #2. Calculate loss\n",
        "      loss = loss_fn(pred, yb)\n",
        "      \n",
        "      #3. Compute gradients\n",
        "      loss.backward()\n",
        "      \n",
        "      #4. Updatte parameters using gradients\n",
        "      opt.step()\n",
        "      \n",
        "      #5. Reset the gradients to zero\n",
        "      opt.zero_grad()\n",
        "      \n",
        "    # Print the progress\n",
        "    if (epoch+1) % 10 == 0:\n",
        "      print('Epoch [{}/{}], Loss: {:.4f}'.format(epoch+1, num_epochs, loss.item()))\n",
        "    "
      ],
      "execution_count": 0,
      "outputs": []
    },
    {
      "metadata": {
        "id": "u4oAPAgL19HK",
        "colab_type": "code",
        "colab": {}
      },
      "cell_type": "code",
      "source": [
        "# Loss function\n",
        "import torch.nn.functional as F\n",
        "loss_fn = F.mse_loss"
      ],
      "execution_count": 0,
      "outputs": []
    },
    {
      "metadata": {
        "id": "AnCUGdkg2WgC",
        "colab_type": "code",
        "colab": {}
      },
      "cell_type": "code",
      "source": [
        "# Optimizer\n",
        "opt = torch.optim.SGD(model.parameters(), lr=1e-5)"
      ],
      "execution_count": 0,
      "outputs": []
    },
    {
      "metadata": {
        "id": "Rl4Dpo6E2fFl",
        "colab_type": "code",
        "colab": {
          "base_uri": "https://localhost:8080/",
          "height": 187
        },
        "outputId": "de70f928-bf77-41ef-a4d0-2f0847dcf783"
      },
      "cell_type": "code",
      "source": [
        "# Train for 100 epochs\n",
        "fit(100, model, loss_fn, opt)"
      ],
      "execution_count": 12,
      "outputs": [
        {
          "output_type": "stream",
          "text": [
            "Epoch [10/100], Loss: 179.0728\n",
            "Epoch [20/100], Loss: 233.3368\n",
            "Epoch [30/100], Loss: 241.2428\n",
            "Epoch [40/100], Loss: 70.0048\n",
            "Epoch [50/100], Loss: 42.6064\n",
            "Epoch [60/100], Loss: 37.9880\n",
            "Epoch [70/100], Loss: 24.7659\n",
            "Epoch [80/100], Loss: 17.5131\n",
            "Epoch [90/100], Loss: 17.8535\n",
            "Epoch [100/100], Loss: 14.6051\n"
          ],
          "name": "stdout"
        }
      ]
    },
    {
      "metadata": {
        "id": "8Txh97Gb2zu0",
        "colab_type": "text"
      },
      "cell_type": "markdown",
      "source": [
        "### Compare predictions with targets"
      ]
    },
    {
      "metadata": {
        "id": "vnEiez7S2qPa",
        "colab_type": "code",
        "colab": {
          "base_uri": "https://localhost:8080/",
          "height": 272
        },
        "outputId": "0f360168-de7f-4b03-ee02-a42a61681063"
      },
      "cell_type": "code",
      "source": [
        "preds = model(inputs)\n",
        "preds"
      ],
      "execution_count": 13,
      "outputs": [
        {
          "output_type": "execute_result",
          "data": {
            "text/plain": [
              "tensor([[ 58.0315,  71.1795],\n",
              "        [ 83.9225, 100.3657],\n",
              "        [113.8391, 132.1493],\n",
              "        [ 25.8450,  41.8132],\n",
              "        [102.1006, 115.8672],\n",
              "        [ 58.0315,  71.1795],\n",
              "        [ 83.9225, 100.3657],\n",
              "        [113.8391, 132.1493],\n",
              "        [ 25.8450,  41.8132],\n",
              "        [102.1006, 115.8672],\n",
              "        [ 58.0315,  71.1795],\n",
              "        [ 83.9225, 100.3657],\n",
              "        [113.8391, 132.1493],\n",
              "        [ 25.8450,  41.8132],\n",
              "        [102.1006, 115.8672]], grad_fn=<AddmmBackward>)"
            ]
          },
          "metadata": {
            "tags": []
          },
          "execution_count": 13
        }
      ]
    },
    {
      "metadata": {
        "id": "1j0RKkbx29JX",
        "colab_type": "code",
        "colab": {
          "base_uri": "https://localhost:8080/",
          "height": 272
        },
        "outputId": "9bc5bdef-ffa8-45c7-b275-94bc431a3d84"
      },
      "cell_type": "code",
      "source": [
        "targets"
      ],
      "execution_count": 14,
      "outputs": [
        {
          "output_type": "execute_result",
          "data": {
            "text/plain": [
              "tensor([[ 56.,  70.],\n",
              "        [ 81., 101.],\n",
              "        [119., 133.],\n",
              "        [ 22.,  37.],\n",
              "        [103., 119.],\n",
              "        [ 56.,  70.],\n",
              "        [ 81., 101.],\n",
              "        [119., 133.],\n",
              "        [ 22.,  37.],\n",
              "        [103., 119.],\n",
              "        [ 56.,  70.],\n",
              "        [ 81., 101.],\n",
              "        [119., 133.],\n",
              "        [ 22.,  37.],\n",
              "        [103., 119.]])"
            ]
          },
          "metadata": {
            "tags": []
          },
          "execution_count": 14
        }
      ]
    },
    {
      "metadata": {
        "id": "yDWo6eOf3TOQ",
        "colab_type": "text"
      },
      "cell_type": "markdown",
      "source": [
        "Indeed, the predictions are quite close to our targets, and now we have a fairly good model to predict crop yields for apples and oranges by looking at the average temperature, rainfall and humidity in a region."
      ]
    },
    {
      "metadata": {
        "id": "_KvDov6g3C2z",
        "colab_type": "code",
        "colab": {}
      },
      "cell_type": "code",
      "source": [
        ""
      ],
      "execution_count": 0,
      "outputs": []
    }
  ]
}