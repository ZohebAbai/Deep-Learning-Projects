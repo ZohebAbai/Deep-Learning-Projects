{
  "nbformat": 4,
  "nbformat_minor": 0,
  "metadata": {
    "colab": {
      "name": "Inria_SlidingWindowPatches_250_resnet18_Tfms.ipynb",
      "version": "0.3.2",
      "provenance": [],
      "collapsed_sections": [],
      "toc_visible": true
    },
    "kernelspec": {
      "name": "python3",
      "display_name": "Python 3"
    },
    "accelerator": "GPU"
  },
  "cells": [
    {
      "cell_type": "markdown",
      "metadata": {
        "id": "2oKeh2HQXcPY",
        "colab_type": "text"
      },
      "source": [
        "## **Inria Aerial Satellite Image Labelling**\n",
        "The main aim of this challenge is to be able to classify pixels as 'building' or 'not building'. This is a clear case of semantic segmentation. We have180 aerial images from various cities with a resolution of 5000 X 5000, along with the segmented masks of 5000 X 5000. Our goal is to classify each of the pixels in the test image and generate a masks for the test images too."
      ]
    },
    {
      "cell_type": "code",
      "metadata": {
        "id": "1x10JWzM1BGR",
        "colab_type": "code",
        "colab": {}
      },
      "source": [
        "%reload_ext autoreload\n",
        "%autoreload 2\n",
        "%matplotlib inline"
      ],
      "execution_count": 0,
      "outputs": []
    },
    {
      "cell_type": "code",
      "metadata": {
        "id": "L4weziruaEBV",
        "colab_type": "code",
        "colab": {}
      },
      "source": [
        "import fastai\n",
        "from fastai.vision import *\n",
        "import torch\n",
        "import torchvision.transforms.functional as F\n",
        "\n",
        "import tarfile, os,pathlib"
      ],
      "execution_count": 0,
      "outputs": []
    },
    {
      "cell_type": "markdown",
      "metadata": {
        "id": "knH2qnOzx5AS",
        "colab_type": "text"
      },
      "source": [
        "Mounting Google drive to Colab for file access !"
      ]
    },
    {
      "cell_type": "code",
      "metadata": {
        "id": "_vmmH73IF1X-",
        "colab_type": "code",
        "outputId": "729909cd-6d70-4b2f-9747-aee3f8a23d2c",
        "colab": {
          "base_uri": "https://localhost:8080/",
          "height": 122
        }
      },
      "source": [
        "from google.colab import drive\n",
        "drive.mount('/content/drive', force_remount=True)"
      ],
      "execution_count": 0,
      "outputs": [
        {
          "output_type": "stream",
          "text": [
            "Go to this URL in a browser: https://accounts.google.com/o/oauth2/auth?client_id=947318989803-6bn6qk8qdgf4n4g3pfee6491hc0brc4i.apps.googleusercontent.com&redirect_uri=urn%3Aietf%3Awg%3Aoauth%3A2.0%3Aoob&scope=email%20https%3A%2F%2Fwww.googleapis.com%2Fauth%2Fdocs.test%20https%3A%2F%2Fwww.googleapis.com%2Fauth%2Fdrive%20https%3A%2F%2Fwww.googleapis.com%2Fauth%2Fdrive.photos.readonly%20https%3A%2F%2Fwww.googleapis.com%2Fauth%2Fpeopleapi.readonly&response_type=code\n",
            "\n",
            "Enter your authorization code:\n",
            "··········\n",
            "Mounted at /content/drive\n"
          ],
          "name": "stdout"
        }
      ]
    },
    {
      "cell_type": "markdown",
      "metadata": {
        "id": "g7UvfeyXpFGC",
        "colab_type": "text"
      },
      "source": [
        "## Download preprocessed data from drive to colab\n",
        "Download the pre processed tar files of generated patches stored on drive to colab and extract for use."
      ]
    },
    {
      "cell_type": "code",
      "metadata": {
        "id": "THirSQvHd2Wi",
        "colab_type": "code",
        "colab": {}
      },
      "source": [
        "!mkdir '/content/InriaPatches'\n",
        "!cp '/content/drive/My Drive/masks.tar' '/content/InriaPatches/'\n",
        "!cp '/content/drive/My Drive/train.tar' '/content/InriaPatches/'\n",
        "!cp '/content/drive/My Drive/valid.tar' '/content/InriaPatches/'"
      ],
      "execution_count": 0,
      "outputs": []
    },
    {
      "cell_type": "code",
      "metadata": {
        "id": "ge84iIG9eEs1",
        "colab_type": "code",
        "colab": {}
      },
      "source": [
        "!tar -zxf /content/InriaPatches/train.tar -C /content/InriaPatches/"
      ],
      "execution_count": 0,
      "outputs": []
    },
    {
      "cell_type": "code",
      "metadata": {
        "id": "1-lVtXURn8dY",
        "colab_type": "code",
        "colab": {}
      },
      "source": [
        "!tar -zxf /content/InriaPatches/masks.tar -C /content/InriaPatches/"
      ],
      "execution_count": 0,
      "outputs": []
    },
    {
      "cell_type": "code",
      "metadata": {
        "id": "F0C7dbAhw7rH",
        "colab_type": "code",
        "colab": {}
      },
      "source": [
        "!tar -zxf /content/InriaPatches/valid.tar -C /content/InriaPatches/"
      ],
      "execution_count": 0,
      "outputs": []
    },
    {
      "cell_type": "code",
      "metadata": {
        "id": "MddPrmpsjMVE",
        "colab_type": "code",
        "colab": {}
      },
      "source": [
        "#Remove tar files from colab\n",
        "!rm -rf /content/InriaPatches/*.tar"
      ],
      "execution_count": 0,
      "outputs": []
    },
    {
      "cell_type": "markdown",
      "metadata": {
        "id": "a7H3DG8JZTPq",
        "colab_type": "text"
      },
      "source": [
        "## EDA"
      ]
    },
    {
      "cell_type": "markdown",
      "metadata": {
        "id": "TznIaYHazEhs",
        "colab_type": "text"
      },
      "source": [
        "Import required fastai libraries"
      ]
    },
    {
      "cell_type": "code",
      "metadata": {
        "id": "2jzU8QhpGW9S",
        "colab_type": "code",
        "outputId": "8fd6e2ac-01ec-4528-94f8-2e11e77fb514",
        "colab": {
          "base_uri": "https://localhost:8080/",
          "height": 34
        }
      },
      "source": [
        "from fastai.vision import *\n",
        "from fastai import *\n",
        "import fastai\n",
        "from fastai.callbacks.hooks import *\n",
        "print(fastai.__version__)"
      ],
      "execution_count": 0,
      "outputs": [
        {
          "output_type": "stream",
          "text": [
            "1.0.52\n"
          ],
          "name": "stdout"
        }
      ]
    },
    {
      "cell_type": "markdown",
      "metadata": {
        "id": "LuZXIvaPzJnC",
        "colab_type": "text"
      },
      "source": [
        "Check the sample images  and their dimensions in train and test folders"
      ]
    },
    {
      "cell_type": "code",
      "metadata": {
        "id": "TIOkmyLiHe4a",
        "colab_type": "code",
        "colab": {}
      },
      "source": [
        "root_dir = Path('/content/InriaPatches')\n",
        "train_path = root_dir/'train'\n",
        "valid_path = root_dir/'valid'\n",
        "mask_path = root_dir/'masks'"
      ],
      "execution_count": 0,
      "outputs": []
    },
    {
      "cell_type": "code",
      "metadata": {
        "id": "1Cf-YntfC6ZJ",
        "colab_type": "code",
        "colab": {}
      },
      "source": [
        "images = get_image_files(train_path)\n",
        "masks = get_image_files(mask_path)\n",
        "valids = get_image_files(valid_path)"
      ],
      "execution_count": 0,
      "outputs": []
    },
    {
      "cell_type": "code",
      "metadata": {
        "id": "HogQxBz9Ndxo",
        "colab_type": "code",
        "outputId": "e6926e21-c639-42fb-bf83-ee188c74e9d0",
        "colab": {
          "base_uri": "https://localhost:8080/",
          "height": 34
        }
      },
      "source": [
        "len(images), len(masks), len(valids)"
      ],
      "execution_count": 0,
      "outputs": [
        {
          "output_type": "execute_result",
          "data": {
            "text/plain": [
              "(62000, 72000, 10000)"
            ]
          },
          "metadata": {
            "tags": []
          },
          "execution_count": 4
        }
      ]
    },
    {
      "cell_type": "code",
      "metadata": {
        "id": "ok9u3v6kcFPd",
        "colab_type": "code",
        "outputId": "2eb21935-4566-414e-a908-336dca55d366",
        "colab": {
          "base_uri": "https://localhost:8080/",
          "height": 68
        }
      },
      "source": [
        "# Size of each image and its mask\n",
        "image = open_image(images[0])\n",
        "img_size = np.array(image.shape[1:])\n",
        "print(image.shape)\n",
        "\n",
        "mask = open_image(masks[0], div=True)\n",
        "print(mask.shape)\n",
        "mask_size = np.array(mask.shape[1:])\n",
        "\n",
        "np.unique(np.array(mask.data))"
      ],
      "execution_count": 0,
      "outputs": [
        {
          "output_type": "stream",
          "text": [
            "torch.Size([3, 250, 250])\n",
            "torch.Size([3, 250, 250])\n"
          ],
          "name": "stdout"
        },
        {
          "output_type": "execute_result",
          "data": {
            "text/plain": [
              "array([0., 1.], dtype=float32)"
            ]
          },
          "metadata": {
            "tags": []
          },
          "execution_count": 10
        }
      ]
    },
    {
      "cell_type": "markdown",
      "metadata": {
        "id": "yxW9EfIC0WDG",
        "colab_type": "text"
      },
      "source": [
        "Function to get the corresponding mask file (labels) of an image file (inputs)"
      ]
    },
    {
      "cell_type": "code",
      "metadata": {
        "id": "s3EhgrY2ekzz",
        "colab_type": "code",
        "outputId": "80613c9b-9840-457e-ecd1-9803d97d759e",
        "colab": {
          "base_uri": "https://localhost:8080/",
          "height": 51
        }
      },
      "source": [
        "get_mask_file = lambda x: mask_path/f'{x.stem.split(\"/\")[-1]}.tif'\n",
        "img = images[0]\n",
        "vimg = valids[1]\n",
        "vimg, get_mask_file(vimg)\n"
      ],
      "execution_count": 0,
      "outputs": [
        {
          "output_type": "execute_result",
          "data": {
            "text/plain": [
              "(PosixPath('/content/AerialImagePatches/valid/tyrol-w4_271.tif'),\n",
              " PosixPath('/content/AerialImagePatches/masks/tyrol-w4_271.tif'))"
            ]
          },
          "metadata": {
            "tags": []
          },
          "execution_count": 11
        }
      ]
    },
    {
      "cell_type": "markdown",
      "metadata": {
        "id": "3z3NzuHgYqNr",
        "colab_type": "text"
      },
      "source": [
        "## Data Visualization "
      ]
    },
    {
      "cell_type": "code",
      "metadata": {
        "id": "ckMY6KXPoabc",
        "colab_type": "code",
        "colab": {}
      },
      "source": [
        "import matplotlib.pyplot as plt\n",
        "\n",
        "'''Display a sample of random images as their corresponding masks'''\n",
        "def display_image_mask_grid(n):\n",
        "  images_list = []\n",
        "  for i in range(n):\n",
        "    images_list.append(random.choice(os.listdir(train_path)))\n",
        "  for idx, image in enumerate(images_list):  \n",
        "    fig, axs = plt.subplots(1, 2, figsize=(10, 10))\n",
        "    img = plt.imread(str(train_path/image))\n",
        "    axs[0].imshow(img)\n",
        "    msk = plt.imread(str(mask_path/image))\n",
        "    axs[1].imshow(msk, cmap='gray')    \n",
        "    plt.grid(False)\n",
        "    plt.show()  \n",
        "    \n",
        "\n",
        "display_image_mask_grid(5)"
      ],
      "execution_count": 0,
      "outputs": []
    },
    {
      "cell_type": "markdown",
      "metadata": {
        "id": "jMtjhJrHaKrO",
        "colab_type": "text"
      },
      "source": [
        "## U-Net Model"
      ]
    },
    {
      "cell_type": "code",
      "metadata": {
        "id": "GWyn3Kl7s2f7",
        "colab_type": "code",
        "outputId": "a14be6b6-9e37-458c-d302-95fc429d2d4a",
        "colab": {
          "base_uri": "https://localhost:8080/",
          "height": 34
        }
      },
      "source": [
        "import numpy as np\n",
        "codes = np.array(['NotBuilding','Building'])\n",
        "# src_size = np.array(mask.shape[1:])\n",
        "size = 250\n",
        "bs = 16\n",
        "size, bs "
      ],
      "execution_count": 0,
      "outputs": [
        {
          "output_type": "execute_result",
          "data": {
            "text/plain": [
              "(250, 16)"
            ]
          },
          "metadata": {
            "tags": []
          },
          "execution_count": 12
        }
      ]
    },
    {
      "cell_type": "code",
      "metadata": {
        "id": "KXt6khVgs-pJ",
        "colab_type": "code",
        "colab": {}
      },
      "source": [
        "class MaskSegmentationLabelList(SegmentationLabelList):\n",
        "    def open(self, fn): \n",
        "      return open_mask(fn, div=True)\n",
        "\n",
        "class MaskSegmentationItemList(ImageList):\n",
        "    _label_cls,_square_show_res = MaskSegmentationLabelList, False\n",
        "    "
      ],
      "execution_count": 0,
      "outputs": []
    },
    {
      "cell_type": "code",
      "metadata": {
        "id": "AF1s6cKpuPUR",
        "colab_type": "code",
        "colab": {}
      },
      "source": [
        "src = MaskSegmentationItemList.from_folder(root_dir).split_by_folder(train='train', valid='valid').label_from_func(get_mask_file, classes=codes)\n",
        "tfms = get_transforms(flip_vert=True, max_warp=0, max_zoom=1.2, max_lighting=0.3)"
      ],
      "execution_count": 0,
      "outputs": []
    },
    {
      "cell_type": "code",
      "metadata": {
        "id": "o6y8cMykzL_4",
        "colab_type": "code",
        "colab": {}
      },
      "source": [
        "data = (src.transform(tfms, size=size, tfm_y=True)\n",
        "        .databunch(bs=bs)\n",
        "        .normalize(imagenet_stats)\n",
        ")\n"
      ],
      "execution_count": 0,
      "outputs": []
    },
    {
      "cell_type": "code",
      "metadata": {
        "id": "1iCqdsmR1ztd",
        "colab_type": "code",
        "colab": {}
      },
      "source": [
        "# data.show_batch(rows=3, figsize=(12,9))"
      ],
      "execution_count": 0,
      "outputs": []
    },
    {
      "cell_type": "code",
      "metadata": {
        "id": "IzLoe-gm2_mL",
        "colab_type": "code",
        "outputId": "3c2ad5b8-dbe7-41b0-a80a-c0cd82935789",
        "colab": {
          "base_uri": "https://localhost:8080/",
          "height": 34
        }
      },
      "source": [
        "# Display data(x,y) in train and validation sets\n",
        "len(data.train_ds.x.items), len(data.train_ds.y.items),len(data.valid_ds.x.items), len(data.valid_ds.y.items)"
      ],
      "execution_count": 0,
      "outputs": [
        {
          "output_type": "execute_result",
          "data": {
            "text/plain": [
              "(62000, 62000, 10000, 10000)"
            ]
          },
          "metadata": {
            "tags": []
          },
          "execution_count": 10
        }
      ]
    },
    {
      "cell_type": "code",
      "metadata": {
        "id": "WW5qPeY13uWX",
        "colab_type": "code",
        "outputId": "889201c3-d76d-4663-dde5-99e3a5bd45d7",
        "colab": {
          "base_uri": "https://localhost:8080/",
          "height": 34
        }
      },
      "source": [
        "data.classes"
      ],
      "execution_count": 0,
      "outputs": [
        {
          "output_type": "execute_result",
          "data": {
            "text/plain": [
              "array(['NotBuilding', 'Building'], dtype='<U11')"
            ]
          },
          "metadata": {
            "tags": []
          },
          "execution_count": 11
        }
      ]
    },
    {
      "cell_type": "code",
      "metadata": {
        "id": "MWfTHUipMlGU",
        "colab_type": "code",
        "colab": {}
      },
      "source": [
        "def jaccard_loss(input, target):\n",
        "  smooth = 1.\n",
        "  input = input[:,1,None].sigmoid()\n",
        "  iflat = input.contiguous().view(-1).float()\n",
        "  tflat = target.view(-1).float()\n",
        "  intersection = (iflat * tflat).sum()\n",
        "  cardinality = (iflat + tflat).sum()\n",
        "  union = cardinality - intersection\n",
        "  return (1 - ((intersection + smooth) / (union + smooth)))\n",
        "\n",
        "def combo_loss(pred, targ):\n",
        "  bce_loss = CrossEntropyFlat(axis=1)\n",
        "  return bce_loss(pred,targ) + jaccard_loss(pred,targ)"
      ],
      "execution_count": 0,
      "outputs": []
    },
    {
      "cell_type": "code",
      "metadata": {
        "id": "8umnYWSYInn1",
        "colab_type": "code",
        "colab": {}
      },
      "source": [
        "iou = partial(dice, iou=True)\n",
        "metrics = [accuracy_thresh, iou, combo_loss]"
      ],
      "execution_count": 0,
      "outputs": []
    },
    {
      "cell_type": "code",
      "metadata": {
        "id": "QhdLPrFFsryI",
        "colab_type": "code",
        "outputId": "b8d25415-438d-4e50-f433-9f3bea136de1",
        "colab": {
          "base_uri": "https://localhost:8080/",
          "height": 71
        }
      },
      "source": [
        "from fastai.callbacks import * \n",
        "learn = unet_learner(data, models.resnet18, metrics=[accuracy_thresh, iou, combo_loss], loss_func = combo_loss, callback_fns=[partial(CSVLogger, append=True)])"
      ],
      "execution_count": 0,
      "outputs": [
        {
          "output_type": "stream",
          "text": [
            "Downloading: \"https://download.pytorch.org/models/resnet18-5c106cde.pth\" to /root/.cache/torch/checkpoints/resnet18-5c106cde.pth\n",
            "100%|██████████| 46827520/46827520 [00:02<00:00, 22205392.94it/s]\n"
          ],
          "name": "stderr"
        }
      ]
    },
    {
      "cell_type": "code",
      "metadata": {
        "id": "HEsu3XnFMRiQ",
        "colab_type": "code",
        "colab": {}
      },
      "source": [
        "learn.loss_func = combo_loss"
      ],
      "execution_count": 0,
      "outputs": []
    },
    {
      "cell_type": "markdown",
      "metadata": {
        "id": "XkQd69VIrHa1",
        "colab_type": "text"
      },
      "source": [
        "##Training the model"
      ]
    },
    {
      "cell_type": "code",
      "metadata": {
        "id": "L6_u3Phrsr05",
        "colab_type": "code",
        "outputId": "5f9b90ba-bb81-41c5-e271-0b395cbe9575",
        "colab": {
          "base_uri": "https://localhost:8080/",
          "height": 300
        }
      },
      "source": [
        "learn.freeze()\n",
        "learn.lr_find()\n",
        "learn.recorder.plot()"
      ],
      "execution_count": 0,
      "outputs": [
        {
          "output_type": "display_data",
          "data": {
            "text/html": [
              ""
            ],
            "text/plain": [
              "<IPython.core.display.HTML object>"
            ]
          },
          "metadata": {
            "tags": []
          }
        },
        {
          "output_type": "stream",
          "text": [
            "LR Finder is complete, type {learner_name}.recorder.plot() to see the graph.\n"
          ],
          "name": "stdout"
        },
        {
          "output_type": "display_data",
          "data": {
            "image/png": "[encoded data removed]",
            "text/plain": [
              "<Figure size 432x288 with 1 Axes>"
            ]
          },
          "metadata": {
            "tags": []
          }
        }
      ]
    },
    {
      "cell_type": "code",
      "metadata": {
        "id": "6V753p77sr3h",
        "colab_type": "code",
        "colab": {}
      },
      "source": [
        "lr = 1e-03"
      ],
      "execution_count": 0,
      "outputs": []
    },
    {
      "cell_type": "code",
      "metadata": {
        "id": "fz_zfbIEsr86",
        "colab_type": "code",
        "outputId": "3fc8f445-be32-4d9b-d46f-38271d67f074",
        "colab": {
          "base_uri": "https://localhost:8080/",
          "height": 556
        }
      },
      "source": [
        "learn.fit_one_cycle(5, slice(lr),callbacks=[ShowGraph(learn),SaveModelCallback(learn, every='improvement', monitor='dice', name='inria_250_resnet18_stg1')])"
      ],
      "execution_count": 0,
      "outputs": [
        {
          "output_type": "display_data",
          "data": {
            "text/html": [
              "\n",
              "    <div>\n",
              "        <style>\n",
              "            /* Turns off some styling */\n",
              "            progress {\n",
              "                /* gets rid of default border in Firefox and Opera. */\n",
              "                border: none;\n",
              "                /* Needs to be in here for Safari polyfill so background images work as expected. */\n",
              "                background-size: auto;\n",
              "            }\n",
              "            .progress-bar-interrupted, .progress-bar-interrupted::-webkit-progress-bar {\n",
              "                background: #F44336;\n",
              "            }\n",
              "        </style>\n",
              "      <progress value='4' class='' max='5', style='width:300px; height:20px; vertical-align: middle;'></progress>\n",
              "      80.00% [4/5 3:06:04<46:31]\n",
              "    </div>\n",
              "    \n",
              "<table border=\"1\" class=\"dataframe\">\n",
              "  <thead>\n",
              "    <tr style=\"text-align: left;\">\n",
              "      <th>epoch</th>\n",
              "      <th>train_loss</th>\n",
              "      <th>valid_loss</th>\n",
              "      <th>accuracy_thresh</th>\n",
              "      <th>dice</th>\n",
              "      <th>combo_loss</th>\n",
              "      <th>time</th>\n",
              "    </tr>\n",
              "  </thead>\n",
              "  <tbody>\n",
              "    <tr>\n",
              "      <td>0</td>\n",
              "      <td>0.529440</td>\n",
              "      <td>0.569555</td>\n",
              "      <td>0.931831</td>\n",
              "      <td>0.627073</td>\n",
              "      <td>0.569556</td>\n",
              "      <td>47:13</td>\n",
              "    </tr>\n",
              "    <tr>\n",
              "      <td>1</td>\n",
              "      <td>0.455908</td>\n",
              "      <td>0.432022</td>\n",
              "      <td>0.949649</td>\n",
              "      <td>0.691568</td>\n",
              "      <td>0.432022</td>\n",
              "      <td>46:18</td>\n",
              "    </tr>\n",
              "    <tr>\n",
              "      <td>2</td>\n",
              "      <td>0.421066</td>\n",
              "      <td>0.422356</td>\n",
              "      <td>0.951489</td>\n",
              "      <td>0.697324</td>\n",
              "      <td>0.422356</td>\n",
              "      <td>46:11</td>\n",
              "    </tr>\n",
              "    <tr>\n",
              "      <td>3</td>\n",
              "      <td>0.374783</td>\n",
              "      <td>0.392002</td>\n",
              "      <td>0.956442</td>\n",
              "      <td>0.722045</td>\n",
              "      <td>0.392002</td>\n",
              "      <td>46:16</td>\n",
              "    </tr>\n",
              "  </tbody>\n",
              "</table><p>\n",
              "\n",
              "    <div>\n",
              "        <style>\n",
              "            /* Turns off some styling */\n",
              "            progress {\n",
              "                /* gets rid of default border in Firefox and Opera. */\n",
              "                border: none;\n",
              "                /* Needs to be in here for Safari polyfill so background images work as expected. */\n",
              "                background-size: auto;\n",
              "            }\n",
              "            .progress-bar-interrupted, .progress-bar-interrupted::-webkit-progress-bar {\n",
              "                background: #F44336;\n",
              "            }\n",
              "        </style>\n",
              "      <progress value='178' class='' max='3875', style='width:300px; height:20px; vertical-align: middle;'></progress>\n",
              "      4.59% [178/3875 02:00<41:52 0.3921]\n",
              "    </div>\n",
              "    "
            ],
            "text/plain": [
              "<IPython.core.display.HTML object>"
            ]
          },
          "metadata": {
            "tags": []
          }
        },
        {
          "output_type": "display_data",
          "data": {
            "image/png": "[encoded data removed]",
            "text/plain": [
              "<Figure size 432x288 with 1 Axes>"
            ]
          },
          "metadata": {
            "tags": []
          }
        },
        {
          "output_type": "stream",
          "text": [
            "Better model found at epoch 0 with dice value: 0.6270728707313538.\n",
            "Better model found at epoch 1 with dice value: 0.6915675401687622.\n",
            "Better model found at epoch 2 with dice value: 0.6973236799240112.\n",
            "Better model found at epoch 3 with dice value: 0.7220448851585388.\n",
            "Buffered data was truncated after reaching the output size limit."
          ],
          "name": "stdout"
        }
      ]
    },
    {
      "cell_type": "code",
      "metadata": {
        "id": "J7n_47YGycLa",
        "colab_type": "code",
        "outputId": "f49291d8-d378-4a39-d09a-bc9abd471952",
        "colab": {
          "base_uri": "https://localhost:8080/",
          "height": 266
        }
      },
      "source": [
        "learn.csv_logger.read_logged_file()"
      ],
      "execution_count": 0,
      "outputs": [
        {
          "output_type": "execute_result",
          "data": {
            "text/html": [
              "<div>\n",
              "<style scoped>\n",
              "    .dataframe tbody tr th:only-of-type {\n",
              "        vertical-align: middle;\n",
              "    }\n",
              "\n",
              "    .dataframe tbody tr th {\n",
              "        vertical-align: top;\n",
              "    }\n",
              "\n",
              "    .dataframe thead th {\n",
              "        text-align: right;\n",
              "    }\n",
              "</style>\n",
              "<table border=\"1\" class=\"dataframe\">\n",
              "  <thead>\n",
              "    <tr style=\"text-align: right;\">\n",
              "      <th></th>\n",
              "      <th>epoch</th>\n",
              "      <th>train_loss</th>\n",
              "      <th>valid_loss</th>\n",
              "      <th>accuracy_thresh</th>\n",
              "      <th>dice</th>\n",
              "      <th>combo_loss</th>\n",
              "      <th>time</th>\n",
              "    </tr>\n",
              "  </thead>\n",
              "  <tbody>\n",
              "    <tr>\n",
              "      <th>0</th>\n",
              "      <td>0</td>\n",
              "      <td>2437.308105</td>\n",
              "      <td>#na#</td>\n",
              "      <td>00:56</td>\n",
              "      <td>NaN</td>\n",
              "      <td>NaN</td>\n",
              "      <td>NaN</td>\n",
              "    </tr>\n",
              "    <tr>\n",
              "      <th>1</th>\n",
              "      <td>epoch</td>\n",
              "      <td>train_loss</td>\n",
              "      <td>valid_loss</td>\n",
              "      <td>accuracy_thresh</td>\n",
              "      <td>dice</td>\n",
              "      <td>combo_loss</td>\n",
              "      <td>time</td>\n",
              "    </tr>\n",
              "    <tr>\n",
              "      <th>2</th>\n",
              "      <td>0</td>\n",
              "      <td>0.529440</td>\n",
              "      <td>0.569555</td>\n",
              "      <td>0.931831</td>\n",
              "      <td>0.627073</td>\n",
              "      <td>0.569556</td>\n",
              "      <td>47:13</td>\n",
              "    </tr>\n",
              "    <tr>\n",
              "      <th>3</th>\n",
              "      <td>1</td>\n",
              "      <td>0.455908</td>\n",
              "      <td>0.432022</td>\n",
              "      <td>0.949649</td>\n",
              "      <td>0.691568</td>\n",
              "      <td>0.432022</td>\n",
              "      <td>46:18</td>\n",
              "    </tr>\n",
              "    <tr>\n",
              "      <th>4</th>\n",
              "      <td>2</td>\n",
              "      <td>0.421066</td>\n",
              "      <td>0.422356</td>\n",
              "      <td>0.951489</td>\n",
              "      <td>0.697324</td>\n",
              "      <td>0.422356</td>\n",
              "      <td>46:11</td>\n",
              "    </tr>\n",
              "    <tr>\n",
              "      <th>5</th>\n",
              "      <td>3</td>\n",
              "      <td>0.374783</td>\n",
              "      <td>0.392002</td>\n",
              "      <td>0.956442</td>\n",
              "      <td>0.722045</td>\n",
              "      <td>0.392002</td>\n",
              "      <td>46:16</td>\n",
              "    </tr>\n",
              "    <tr>\n",
              "      <th>6</th>\n",
              "      <td>4</td>\n",
              "      <td>0.371787</td>\n",
              "      <td>0.379434</td>\n",
              "      <td>0.957749</td>\n",
              "      <td>0.727187</td>\n",
              "      <td>0.379434</td>\n",
              "      <td>46:21</td>\n",
              "    </tr>\n",
              "  </tbody>\n",
              "</table>\n",
              "</div>"
            ],
            "text/plain": [
              "   epoch   train_loss  valid_loss  accuracy_thresh      dice  combo_loss   time\n",
              "0      0  2437.308105        #na#            00:56       NaN         NaN    NaN\n",
              "1  epoch   train_loss  valid_loss  accuracy_thresh      dice  combo_loss   time\n",
              "2      0     0.529440    0.569555         0.931831  0.627073    0.569556  47:13\n",
              "3      1     0.455908    0.432022         0.949649  0.691568    0.432022  46:18\n",
              "4      2     0.421066    0.422356         0.951489  0.697324    0.422356  46:11\n",
              "5      3     0.374783    0.392002         0.956442  0.722045    0.392002  46:16\n",
              "6      4     0.371787    0.379434         0.957749  0.727187    0.379434  46:21"
            ]
          },
          "metadata": {
            "tags": []
          },
          "execution_count": 19
        }
      ]
    },
    {
      "cell_type": "code",
      "metadata": {
        "id": "befCGYJXYaBx",
        "colab_type": "code",
        "colab": {}
      },
      "source": [
        "#Copy model to drive\n",
        "learn.save('inria_250_resnet18_stg1')"
      ],
      "execution_count": 0,
      "outputs": []
    },
    {
      "cell_type": "code",
      "metadata": {
        "id": "B-Gy31kOFQjV",
        "colab_type": "code",
        "colab": {}
      },
      "source": [
        "!cp '/content/InriaPatches/models/inria_250_resnet18_stg1.pth' '/content/drive/My Drive/fellowship/'\n",
        "!cp '/content/InriaPatches/models/tmp.pth' '/content/drive/My Drive/fellowship/'\n"
      ],
      "execution_count": 0,
      "outputs": []
    },
    {
      "cell_type": "markdown",
      "metadata": {
        "id": "q5F8xCXu3A2k",
        "colab_type": "text"
      },
      "source": [
        "## Finetuning the model"
      ]
    },
    {
      "cell_type": "code",
      "metadata": {
        "id": "apeeLXcjDLG5",
        "colab_type": "code",
        "outputId": "4f199172-8dae-4304-bf7a-2d03f9407ec1",
        "colab": {
          "base_uri": "https://localhost:8080/",
          "height": 317
        }
      },
      "source": [
        "learn.unfreeze()\n",
        "learn.lr_find()\n",
        "learn.recorder.plot(suggestion=True)"
      ],
      "execution_count": 0,
      "outputs": [
        {
          "output_type": "display_data",
          "data": {
            "text/html": [
              ""
            ],
            "text/plain": [
              "<IPython.core.display.HTML object>"
            ]
          },
          "metadata": {
            "tags": []
          }
        },
        {
          "output_type": "stream",
          "text": [
            "LR Finder is complete, type {learner_name}.recorder.plot() to see the graph.\n",
            "Min numerical gradient: 5.75E-06\n"
          ],
          "name": "stdout"
        },
        {
          "output_type": "display_data",
          "data": {
            "image/png": "[encoded data removed]",
            "text/plain": [
              "<Figure size 432x288 with 1 Axes>"
            ]
          },
          "metadata": {
            "tags": []
          }
        }
      ]
    },
    {
      "cell_type": "code",
      "metadata": {
        "id": "h8mFnpXbYLXk",
        "colab_type": "code",
        "outputId": "3d068661-8792-4d2d-d31e-d4779c282f80",
        "colab": {
          "base_uri": "https://localhost:8080/",
          "height": 524
        }
      },
      "source": [
        "lr = 6e-06\n",
        "learn.fit_one_cycle(5, slice(lr),callbacks=[ShowGraph(learn),SaveModelCallback(learn, every='improvement', monitor='dice', name='inria_250_resnet18_stg2')])"
      ],
      "execution_count": 0,
      "outputs": [
        {
          "output_type": "display_data",
          "data": {
            "text/html": [
              "<table border=\"1\" class=\"dataframe\">\n",
              "  <thead>\n",
              "    <tr style=\"text-align: left;\">\n",
              "      <th>epoch</th>\n",
              "      <th>train_loss</th>\n",
              "      <th>valid_loss</th>\n",
              "      <th>accuracy_thresh</th>\n",
              "      <th>dice</th>\n",
              "      <th>combo_loss</th>\n",
              "      <th>time</th>\n",
              "    </tr>\n",
              "  </thead>\n",
              "  <tbody>\n",
              "    <tr>\n",
              "      <td>0</td>\n",
              "      <td>0.372821</td>\n",
              "      <td>0.381526</td>\n",
              "      <td>0.957427</td>\n",
              "      <td>0.726395</td>\n",
              "      <td>0.381526</td>\n",
              "      <td>47:28</td>\n",
              "    </tr>\n",
              "    <tr>\n",
              "      <td>1</td>\n",
              "      <td>0.377207</td>\n",
              "      <td>0.380749</td>\n",
              "      <td>0.957617</td>\n",
              "      <td>0.725986</td>\n",
              "      <td>0.380749</td>\n",
              "      <td>47:29</td>\n",
              "    </tr>\n",
              "    <tr>\n",
              "      <td>2</td>\n",
              "      <td>0.389176</td>\n",
              "      <td>0.379880</td>\n",
              "      <td>0.957703</td>\n",
              "      <td>0.727469</td>\n",
              "      <td>0.379880</td>\n",
              "      <td>47:30</td>\n",
              "    </tr>\n",
              "    <tr>\n",
              "      <td>3</td>\n",
              "      <td>0.372086</td>\n",
              "      <td>0.379295</td>\n",
              "      <td>0.957769</td>\n",
              "      <td>0.727601</td>\n",
              "      <td>0.379295</td>\n",
              "      <td>47:32</td>\n",
              "    </tr>\n",
              "    <tr>\n",
              "      <td>4</td>\n",
              "      <td>0.372602</td>\n",
              "      <td>0.379350</td>\n",
              "      <td>0.957821</td>\n",
              "      <td>0.727879</td>\n",
              "      <td>0.379350</td>\n",
              "      <td>47:31</td>\n",
              "    </tr>\n",
              "  </tbody>\n",
              "</table>"
            ],
            "text/plain": [
              "<IPython.core.display.HTML object>"
            ]
          },
          "metadata": {
            "tags": []
          }
        },
        {
          "output_type": "display_data",
          "data": {
            "image/png": "[encoded data removed]",
            "text/plain": [
              "<Figure size 432x288 with 1 Axes>"
            ]
          },
          "metadata": {
            "tags": []
          }
        },
        {
          "output_type": "stream",
          "text": [
            "Better model found at epoch 0 with dice value: 0.7263954877853394.\n",
            "Better model found at epoch 2 with dice value: 0.7274691462516785.\n",
            "Better model found at epoch 3 with dice value: 0.7276008725166321.\n",
            "Better model found at epoch 4 with dice value: 0.7278786897659302.\n"
          ],
          "name": "stdout"
        }
      ]
    },
    {
      "cell_type": "code",
      "metadata": {
        "id": "QsLfEiuyyg2E",
        "colab_type": "code",
        "outputId": "36aaf913-d17f-4022-b873-9a92affe0de6",
        "colab": {
          "base_uri": "https://localhost:8080/",
          "height": 514
        }
      },
      "source": [
        "learn.csv_logger.read_logged_file()"
      ],
      "execution_count": 0,
      "outputs": [
        {
          "output_type": "execute_result",
          "data": {
            "text/html": [
              "<div>\n",
              "<style scoped>\n",
              "    .dataframe tbody tr th:only-of-type {\n",
              "        vertical-align: middle;\n",
              "    }\n",
              "\n",
              "    .dataframe tbody tr th {\n",
              "        vertical-align: top;\n",
              "    }\n",
              "\n",
              "    .dataframe thead th {\n",
              "        text-align: right;\n",
              "    }\n",
              "</style>\n",
              "<table border=\"1\" class=\"dataframe\">\n",
              "  <thead>\n",
              "    <tr style=\"text-align: right;\">\n",
              "      <th></th>\n",
              "      <th>epoch</th>\n",
              "      <th>train_loss</th>\n",
              "      <th>valid_loss</th>\n",
              "      <th>accuracy_thresh</th>\n",
              "      <th>dice</th>\n",
              "      <th>combo_loss</th>\n",
              "      <th>time</th>\n",
              "    </tr>\n",
              "  </thead>\n",
              "  <tbody>\n",
              "    <tr>\n",
              "      <th>0</th>\n",
              "      <td>0</td>\n",
              "      <td>2437.308105</td>\n",
              "      <td>#na#</td>\n",
              "      <td>00:56</td>\n",
              "      <td>NaN</td>\n",
              "      <td>NaN</td>\n",
              "      <td>NaN</td>\n",
              "    </tr>\n",
              "    <tr>\n",
              "      <th>1</th>\n",
              "      <td>epoch</td>\n",
              "      <td>train_loss</td>\n",
              "      <td>valid_loss</td>\n",
              "      <td>accuracy_thresh</td>\n",
              "      <td>dice</td>\n",
              "      <td>combo_loss</td>\n",
              "      <td>time</td>\n",
              "    </tr>\n",
              "    <tr>\n",
              "      <th>2</th>\n",
              "      <td>0</td>\n",
              "      <td>0.529440</td>\n",
              "      <td>0.569555</td>\n",
              "      <td>0.931831</td>\n",
              "      <td>0.627073</td>\n",
              "      <td>0.569556</td>\n",
              "      <td>47:13</td>\n",
              "    </tr>\n",
              "    <tr>\n",
              "      <th>3</th>\n",
              "      <td>1</td>\n",
              "      <td>0.455908</td>\n",
              "      <td>0.432022</td>\n",
              "      <td>0.949649</td>\n",
              "      <td>0.691568</td>\n",
              "      <td>0.432022</td>\n",
              "      <td>46:18</td>\n",
              "    </tr>\n",
              "    <tr>\n",
              "      <th>4</th>\n",
              "      <td>2</td>\n",
              "      <td>0.421066</td>\n",
              "      <td>0.422356</td>\n",
              "      <td>0.951489</td>\n",
              "      <td>0.697324</td>\n",
              "      <td>0.422356</td>\n",
              "      <td>46:11</td>\n",
              "    </tr>\n",
              "    <tr>\n",
              "      <th>5</th>\n",
              "      <td>3</td>\n",
              "      <td>0.374783</td>\n",
              "      <td>0.392002</td>\n",
              "      <td>0.956442</td>\n",
              "      <td>0.722045</td>\n",
              "      <td>0.392002</td>\n",
              "      <td>46:16</td>\n",
              "    </tr>\n",
              "    <tr>\n",
              "      <th>6</th>\n",
              "      <td>4</td>\n",
              "      <td>0.371787</td>\n",
              "      <td>0.379434</td>\n",
              "      <td>0.957749</td>\n",
              "      <td>0.727187</td>\n",
              "      <td>0.379434</td>\n",
              "      <td>46:21</td>\n",
              "    </tr>\n",
              "    <tr>\n",
              "      <th>7</th>\n",
              "      <td>epoch</td>\n",
              "      <td>train_loss</td>\n",
              "      <td>valid_loss</td>\n",
              "      <td>accuracy_thresh</td>\n",
              "      <td>dice</td>\n",
              "      <td>combo_loss</td>\n",
              "      <td>time</td>\n",
              "    </tr>\n",
              "    <tr>\n",
              "      <th>8</th>\n",
              "      <td>0</td>\n",
              "      <td>2.319549</td>\n",
              "      <td>#na#</td>\n",
              "      <td>00:47</td>\n",
              "      <td>NaN</td>\n",
              "      <td>NaN</td>\n",
              "      <td>NaN</td>\n",
              "    </tr>\n",
              "    <tr>\n",
              "      <th>9</th>\n",
              "      <td>epoch</td>\n",
              "      <td>train_loss</td>\n",
              "      <td>valid_loss</td>\n",
              "      <td>accuracy_thresh</td>\n",
              "      <td>dice</td>\n",
              "      <td>combo_loss</td>\n",
              "      <td>time</td>\n",
              "    </tr>\n",
              "    <tr>\n",
              "      <th>10</th>\n",
              "      <td>0</td>\n",
              "      <td>0.372821</td>\n",
              "      <td>0.381526</td>\n",
              "      <td>0.957427</td>\n",
              "      <td>0.726395</td>\n",
              "      <td>0.381526</td>\n",
              "      <td>47:28</td>\n",
              "    </tr>\n",
              "    <tr>\n",
              "      <th>11</th>\n",
              "      <td>1</td>\n",
              "      <td>0.377207</td>\n",
              "      <td>0.380749</td>\n",
              "      <td>0.957617</td>\n",
              "      <td>0.725986</td>\n",
              "      <td>0.380749</td>\n",
              "      <td>47:29</td>\n",
              "    </tr>\n",
              "    <tr>\n",
              "      <th>12</th>\n",
              "      <td>2</td>\n",
              "      <td>0.389176</td>\n",
              "      <td>0.379880</td>\n",
              "      <td>0.957703</td>\n",
              "      <td>0.727469</td>\n",
              "      <td>0.379880</td>\n",
              "      <td>47:30</td>\n",
              "    </tr>\n",
              "    <tr>\n",
              "      <th>13</th>\n",
              "      <td>3</td>\n",
              "      <td>0.372086</td>\n",
              "      <td>0.379295</td>\n",
              "      <td>0.957769</td>\n",
              "      <td>0.727601</td>\n",
              "      <td>0.379295</td>\n",
              "      <td>47:32</td>\n",
              "    </tr>\n",
              "    <tr>\n",
              "      <th>14</th>\n",
              "      <td>4</td>\n",
              "      <td>0.372602</td>\n",
              "      <td>0.379350</td>\n",
              "      <td>0.957821</td>\n",
              "      <td>0.727879</td>\n",
              "      <td>0.379350</td>\n",
              "      <td>47:31</td>\n",
              "    </tr>\n",
              "  </tbody>\n",
              "</table>\n",
              "</div>"
            ],
            "text/plain": [
              "    epoch   train_loss  valid_loss  ...      dice  combo_loss   time\n",
              "0       0  2437.308105        #na#  ...       NaN         NaN    NaN\n",
              "1   epoch   train_loss  valid_loss  ...      dice  combo_loss   time\n",
              "2       0     0.529440    0.569555  ...  0.627073    0.569556  47:13\n",
              "3       1     0.455908    0.432022  ...  0.691568    0.432022  46:18\n",
              "4       2     0.421066    0.422356  ...  0.697324    0.422356  46:11\n",
              "5       3     0.374783    0.392002  ...  0.722045    0.392002  46:16\n",
              "6       4     0.371787    0.379434  ...  0.727187    0.379434  46:21\n",
              "7   epoch   train_loss  valid_loss  ...      dice  combo_loss   time\n",
              "8       0     2.319549        #na#  ...       NaN         NaN    NaN\n",
              "9   epoch   train_loss  valid_loss  ...      dice  combo_loss   time\n",
              "10      0     0.372821    0.381526  ...  0.726395    0.381526  47:28\n",
              "11      1     0.377207    0.380749  ...  0.725986    0.380749  47:29\n",
              "12      2     0.389176    0.379880  ...  0.727469    0.379880  47:30\n",
              "13      3     0.372086    0.379295  ...  0.727601    0.379295  47:32\n",
              "14      4     0.372602    0.379350  ...  0.727879    0.379350  47:31\n",
              "\n",
              "[15 rows x 7 columns]"
            ]
          },
          "metadata": {
            "tags": []
          },
          "execution_count": 32
        }
      ]
    },
    {
      "cell_type": "code",
      "metadata": {
        "id": "w8h7W49S4DTb",
        "colab_type": "code",
        "colab": {}
      },
      "source": [
        "#Copy model to drive\n",
        "learn.save('inria_250_resnet18_stg2')"
      ],
      "execution_count": 0,
      "outputs": []
    },
    {
      "cell_type": "code",
      "metadata": {
        "id": "JaEtuLVw4IGH",
        "colab_type": "code",
        "colab": {}
      },
      "source": [
        "!cp '/content/InriaPatches/models/inria_250_resnet18_stg2.pth' '/content/drive/My Drive/fellowship/'\n",
        "!cp '/content/InriaPatches/models/tmp.pth' '/content/drive/My Drive/fellowship/'"
      ],
      "execution_count": 0,
      "outputs": []
    },
    {
      "cell_type": "code",
      "metadata": {
        "id": "Dsi0t0geyzRG",
        "colab_type": "code",
        "outputId": "180b887a-dc50-40ac-dcd9-37d9da715ff4",
        "colab": {
          "base_uri": "https://localhost:8080/",
          "height": 283
        }
      },
      "source": [
        "learn.recorder.plot_losses()"
      ],
      "execution_count": 0,
      "outputs": [
        {
          "output_type": "display_data",
          "data": {
            "image/png": "[encoded data removed]",
            "text/plain": [
              "<Figure size 432x288 with 1 Axes>"
            ]
          },
          "metadata": {
            "tags": []
          }
        }
      ]
    },
    {
      "cell_type": "code",
      "metadata": {
        "id": "uIKI6QMr7UGR",
        "colab_type": "code",
        "colab": {}
      },
      "source": [
        "learn.export()"
      ],
      "execution_count": 0,
      "outputs": []
    },
    {
      "cell_type": "code",
      "metadata": {
        "id": "1d7ptEGnBtcY",
        "colab_type": "code",
        "outputId": "a3fc0e20-69cf-4c7a-d57f-395abf85efdd",
        "colab": {
          "base_uri": "https://localhost:8080/",
          "height": 34
        }
      },
      "source": [
        "!ls '/content/InriaPatches/models'"
      ],
      "execution_count": 0,
      "outputs": [
        {
          "output_type": "stream",
          "text": [
            "inria_250_resnet18_stg1.pth  inria_250_resnet18_stg2.pth  tmp.pth\n"
          ],
          "name": "stdout"
        }
      ]
    },
    {
      "cell_type": "code",
      "metadata": {
        "id": "04OrMMxK7WEq",
        "colab_type": "code",
        "colab": {}
      },
      "source": [
        "!cp '/content/InriaPatches/export.pkl' '/content/drive/My Drive/fellowship/export.pkl'"
      ],
      "execution_count": 0,
      "outputs": []
    },
    {
      "cell_type": "markdown",
      "metadata": {
        "id": "a9J2vMcvZlRz",
        "colab_type": "text"
      },
      "source": [
        "## Inference"
      ]
    },
    {
      "cell_type": "code",
      "metadata": {
        "id": "wxqrmyA9Y9_B",
        "colab_type": "code",
        "colab": {}
      },
      "source": [
        "!mkdir '/content/InriaPatches'\n",
        "!cp '/content/drive/My Drive/test.tar' '/content/InriaPatches/'"
      ],
      "execution_count": 0,
      "outputs": []
    },
    {
      "cell_type": "code",
      "metadata": {
        "id": "fSpA3fVxZFLE",
        "colab_type": "code",
        "colab": {}
      },
      "source": [
        "!tar -zxf /content/InriaPatches/test.tar -C /content/InriaPatches/"
      ],
      "execution_count": 0,
      "outputs": []
    },
    {
      "cell_type": "code",
      "metadata": {
        "id": "HinMBmT5Z1CB",
        "colab_type": "code",
        "colab": {}
      },
      "source": [
        "!cp '/content/drive/My Drive/fellowship/inria_250_resnet18_stg1.pth' '/content/InriaPatches/'\n",
        "!cp '/content/drive/My Drive/fellowship/inria_250_resnet18_stg2.pth' '/content/InriaPatches/'\n",
        "!cp '/content/drive/My Drive/fellowship/export.pkl' '/content/InriaPatches/'\n",
        "!cp '/content/drive/My Drive/fellowship/tmp.pth' '/content/InriaPatches/'"
      ],
      "execution_count": 0,
      "outputs": []
    },
    {
      "cell_type": "code",
      "metadata": {
        "id": "FCLbUTmu6njs",
        "colab_type": "code",
        "colab": {}
      },
      "source": [
        "class MaskSegmentationLabelList(SegmentationLabelList):\n",
        "    def open(self, fn): \n",
        "      return open_mask(fn, div=True)\n",
        "\n",
        "class MaskSegmentationItemList(ImageList):\n",
        "    _label_cls,_square_show_res = MaskSegmentationLabelList, False\n",
        "    "
      ],
      "execution_count": 0,
      "outputs": []
    },
    {
      "cell_type": "code",
      "metadata": {
        "id": "EXgNoadc63MN",
        "colab_type": "code",
        "colab": {}
      },
      "source": [
        "get_mask_file = lambda x: mask_path/f'{x.stem.split(\"/\")[-1]}.tif'"
      ],
      "execution_count": 0,
      "outputs": []
    },
    {
      "cell_type": "code",
      "metadata": {
        "id": "Uy2ITktsdTOB",
        "colab_type": "code",
        "outputId": "b1999f7b-990a-4cd3-dd5a-e3f9b61f6486",
        "colab": {
          "base_uri": "https://localhost:8080/",
          "height": 411
        }
      },
      "source": [
        "size=250\n",
        "bs=16\n",
        "codes = np.array(['NotBuilding','Building'])\n",
        "tfms = get_transforms(flip_vert=True, max_lighting=0.3, max_zoom=1.2, max_warp=0.) \n",
        "src = MaskSegmentationItemList.from_folder(root_dir).split_by_folder(train='train',valid='valid').label_from_func(get_mask_file, classes=codes).add_test_folder(test_folder='test')\n",
        "data_test = (src.transform(tfms, size=size).databunch(bs=bs).normalize(imagenet_stats))\n",
        "data_test\n"
      ],
      "execution_count": 0,
      "outputs": [
        {
          "output_type": "execute_result",
          "data": {
            "text/plain": [
              "ImageDataBunch;\n",
              "\n",
              "Train: LabelList (62000 items)\n",
              "x: MaskSegmentationItemList\n",
              "Image (3, 250, 250),Image (3, 250, 250),Image (3, 250, 250),Image (3, 250, 250),Image (3, 250, 250)\n",
              "y: MaskSegmentationLabelList\n",
              "ImageSegment (1, 250, 250),ImageSegment (1, 250, 250),ImageSegment (1, 250, 250),ImageSegment (1, 250, 250),ImageSegment (1, 250, 250)\n",
              "Path: /content/InriaPatches;\n",
              "\n",
              "Valid: LabelList (10000 items)\n",
              "x: MaskSegmentationItemList\n",
              "Image (3, 250, 250),Image (3, 250, 250),Image (3, 250, 250),Image (3, 250, 250),Image (3, 250, 250)\n",
              "y: MaskSegmentationLabelList\n",
              "ImageSegment (1, 250, 250),ImageSegment (1, 250, 250),ImageSegment (1, 250, 250),ImageSegment (1, 250, 250),ImageSegment (1, 250, 250)\n",
              "Path: /content/InriaPatches;\n",
              "\n",
              "Test: LabelList (72000 items)\n",
              "x: MaskSegmentationItemList\n",
              "Image (3, 250, 250),Image (3, 250, 250),Image (3, 250, 250),Image (3, 250, 250),Image (3, 250, 250)\n",
              "y: EmptyLabelList\n",
              ",,,,\n",
              "Path: /content/InriaPatches"
            ]
          },
          "metadata": {
            "tags": []
          },
          "execution_count": 24
        }
      ]
    },
    {
      "cell_type": "code",
      "metadata": {
        "id": "EOkvGWCodnkF",
        "colab_type": "code",
        "colab": {}
      },
      "source": [
        "def jaccard_loss(input, target):\n",
        "  smooth = 1.\n",
        "  input = input[:,1,None].sigmoid()\n",
        "  iflat = input.contiguous().view(-1).float()\n",
        "  tflat = target.view(-1).float()\n",
        "  intersection = (iflat * tflat).sum()\n",
        "  cardinality = (iflat + tflat).sum()\n",
        "  union = cardinality - intersection\n",
        "  return (1 - ((intersection + smooth) / (union + smooth)))\n",
        "\n",
        "def combo_loss(pred, targ):\n",
        "  bce_loss = CrossEntropyFlat(axis=1)\n",
        "  return bce_loss(pred,targ) + jaccard_loss(pred,targ)"
      ],
      "execution_count": 0,
      "outputs": []
    },
    {
      "cell_type": "code",
      "metadata": {
        "id": "96T--nv-9wAV",
        "colab_type": "code",
        "colab": {}
      },
      "source": [
        "iou = partial(dice, iou=True)\n",
        "metrics = [accuracy_thresh, iou, combo_loss]"
      ],
      "execution_count": 0,
      "outputs": []
    },
    {
      "cell_type": "code",
      "metadata": {
        "id": "ygSa-tem9zG1",
        "colab_type": "code",
        "outputId": "8b2d332f-434b-4fdc-93a5-996aec749cba",
        "colab": {
          "base_uri": "https://localhost:8080/",
          "height": 71
        }
      },
      "source": [
        "learn = unet_learner(data_test, models.resnet18, metrics=metrics)"
      ],
      "execution_count": 0,
      "outputs": [
        {
          "output_type": "stream",
          "text": [
            "Downloading: \"https://download.pytorch.org/models/resnet18-5c106cde.pth\" to /root/.cache/torch/checkpoints/resnet18-5c106cde.pth\n",
            "100%|██████████| 46827520/46827520 [00:00<00:00, 92430306.01it/s]\n"
          ],
          "name": "stderr"
        }
      ]
    },
    {
      "cell_type": "code",
      "metadata": {
        "id": "afoZaFSM-SEZ",
        "colab_type": "code",
        "colab": {}
      },
      "source": [
        "learn = load_learner('/content/InriaPatches/')"
      ],
      "execution_count": 0,
      "outputs": []
    },
    {
      "cell_type": "code",
      "metadata": {
        "id": "GqG3L2nXBvzp",
        "colab_type": "code",
        "outputId": "d96f5020-66b0-4c28-ed80-9804fd43a2ce",
        "colab": {
          "base_uri": "https://localhost:8080/",
          "height": 34
        }
      },
      "source": [
        "test_path = '/content/AerialImageDataset/test/images'\n",
        "!mkdir '/content/InriaPatches/preds'\n",
        "preds_path = Path('/content/InriaPatches/preds')\n",
        "tests_patch_path = Path('/content/InriaPatches/test')"
      ],
      "execution_count": 0,
      "outputs": [
        {
          "output_type": "stream",
          "text": [
            "mkdir: cannot create directory ‘/content/InriaPatches/preds’: File exists\n"
          ],
          "name": "stdout"
        }
      ]
    },
    {
      "cell_type": "code",
      "metadata": {
        "id": "ddROpRU__7Pe",
        "colab_type": "code",
        "colab": {}
      },
      "source": [
        "import torch\n",
        "import torchvision\n",
        "\n",
        "get_mask_pred = lambda x:preds_path/f'{x.name}.tif'\n",
        "\n",
        "testfiles=[]\n",
        "for test in os.listdir(test_path):\n",
        "  testfiles.append(tests_patch_path/test.split('.')[0])\n",
        "  \n",
        "for test in testfiles:\n",
        "  predictions=[]\n",
        "  for i in range(1,401):\n",
        "    imgfile = str(test)+'_'+str(i)+'.tif'\n",
        "    img = open_image(imgfile)\n",
        "    prediction = learn.predict(img)\n",
        "    predictions.append(prediction[1])\n",
        "  torchvision.utils.save_image(predictions,get_mask_pred(test), nrow=20, padding=0)"
      ],
      "execution_count": 0,
      "outputs": []
    },
    {
      "cell_type": "code",
      "metadata": {
        "id": "_E3-ZmrpLkRc",
        "colab_type": "code",
        "colab": {}
      },
      "source": [
        "pred_source_dir = '/content/InriaPatches/preds'\n",
        "def make_tarfile(output_filename, source_dir):\n",
        "  with tarfile.open(output_filename, \"w:gz\") as tar:\n",
        "    tar.add(source_dir, arcname=os.path.basename(source_dir))\n",
        "    \n",
        "make_tarfile('pred.tar', pred_source_dir)"
      ],
      "execution_count": 0,
      "outputs": []
    },
    {
      "cell_type": "code",
      "metadata": {
        "id": "u9-jp1G2Vwit",
        "colab_type": "code",
        "colab": {}
      },
      "source": [
        "import tarfile,re,os,pathlib,shutil\n",
        "\n",
        "import fastai\n",
        "from fastai.vision import *\n",
        "import torch\n",
        "import torchvision.transforms.functional as F\n",
        "\n",
        "from pydrive.auth import GoogleAuth\n",
        "from pydrive.drive import GoogleDrive\n",
        "from google.colab import auth\n",
        "from oauth2client.client import GoogleCredentials\n",
        "\n",
        "auth.authenticate_user()\n",
        "gauth = GoogleAuth()\n",
        "gauth.credentials = GoogleCredentials.get_application_default()\n",
        "drive = GoogleDrive(gauth)"
      ],
      "execution_count": 0,
      "outputs": []
    },
    {
      "cell_type": "code",
      "metadata": {
        "id": "X3wvm6nRUmDk",
        "colab_type": "code",
        "colab": {}
      },
      "source": [
        "# Create GoogleDrive instance with authenticated GoogleAuth instance.\n",
        "drive = GoogleDrive(gauth)\n",
        "\n",
        "def upload_to_drive(file, title):\n",
        "  uploaded = drive.CreateFile({'title': title})\n",
        "  uploaded.SetContentFile(file)\n",
        "  uploaded.Upload()\n",
        "  print('Uploaded file %s with ID %s'%(file, uploaded.get('id')))\n"
      ],
      "execution_count": 0,
      "outputs": []
    },
    {
      "cell_type": "code",
      "metadata": {
        "id": "ylbunYN7Urtr",
        "colab_type": "code",
        "outputId": "ac063e1e-b93d-47ce-ba71-166bce53d006",
        "colab": {
          "base_uri": "https://localhost:8080/",
          "height": 34
        }
      },
      "source": [
        "upload_to_drive(\"pred.tar\",\"pred.tar\")"
      ],
      "execution_count": 0,
      "outputs": [
        {
          "output_type": "stream",
          "text": [
            "Uploaded file pred.tar with ID 14OtOZxoM1epfSge5aWbPK0Aw1rtGkRk8\n"
          ],
          "name": "stdout"
        }
      ]
    },
    {
      "cell_type": "code",
      "metadata": {
        "id": "n4gWQSoe-gZJ",
        "colab_type": "code",
        "colab": {}
      },
      "source": [
        ""
      ],
      "execution_count": 0,
      "outputs": []
    }
  ]
}