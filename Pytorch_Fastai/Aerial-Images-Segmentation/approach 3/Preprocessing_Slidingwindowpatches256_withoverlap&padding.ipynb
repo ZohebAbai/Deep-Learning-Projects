{
  "nbformat": 4,
  "nbformat_minor": 0,
  "metadata": {
    "colab": {
      "name": "Preprocessing - Slidingwindowpatches256_withoverlap&padding.ipynb",
      "version": "0.3.2",
      "provenance": [],
      "collapsed_sections": [],
      "include_colab_link": true
    },
    "kernelspec": {
      "name": "python3",
      "display_name": "Python 3"
    },
    "accelerator": "GPU"
  },
  "cells": [
    {
      "cell_type": "markdown",
      "metadata": {
        "id": "view-in-github",
        "colab_type": "text"
      },
      "source": [
        "<a href=\"https://colab.research.google.com/github/fellowship/platform-demos3/blob/master/InriaAerialImages/Preprocessing_Slidingwindowpatches256_withoverlap%26padding.ipynb\" target=\"_parent\"><img src=\"https://colab.research.google.com/assets/colab-badge.svg\" alt=\"Open In Colab\"/></a>"
      ]
    },
    {
      "cell_type": "markdown",
      "metadata": {
        "id": "sjZtRVteiY3n",
        "colab_type": "text"
      },
      "source": [
        "# Inria aerial satellite Images"
      ]
    },
    {
      "cell_type": "markdown",
      "metadata": {
        "id": "2l69KZPLi4bg",
        "colab_type": "text"
      },
      "source": [
        "The main aim of this challenge is to be able to classify pixels as 'building' or 'not building'. This is a clear case of semantic segmentation. We have180 aerial images from various cities with a resolution of 5000 X 5000, along with the segmented masks of 5000 X 5000. Our goal is to classify each of the pixels in the test image and generate a masks for the test images too."
      ]
    },
    {
      "cell_type": "markdown",
      "metadata": {
        "id": "STWP69w2jAeX",
        "colab_type": "text"
      },
      "source": [
        "In this notebook, we are going to download the dataset which provided by Inria and Since each image is of a high dimension and we only have 180 training images, we are slicing the original image into 256X256 size with 6 pixels of overlap. And save these sliced images into drive for further use in training the model."
      ]
    },
    {
      "cell_type": "markdown",
      "metadata": {
        "id": "23cqXKN2j0LS",
        "colab_type": "text"
      },
      "source": [
        "## Download dataset"
      ]
    },
    {
      "cell_type": "code",
      "metadata": {
        "id": "g_Qut1tbrkPo",
        "colab_type": "code",
        "colab": {}
      },
      "source": [
        "#Downloading dataset\n",
        "!curl -k https://files.inria.fr/aerialimagelabeling/getAerial.sh | bash"
      ],
      "execution_count": 0,
      "outputs": []
    },
    {
      "cell_type": "code",
      "metadata": {
        "id": "qu0wEkZmsGQc",
        "colab_type": "code",
        "colab": {}
      },
      "source": [
        "!rm -rf /content/aerialimagelabeling*\n",
        "!rm -rf /content/NEW2-AerialImageDataset.zip"
      ],
      "execution_count": 0,
      "outputs": []
    },
    {
      "cell_type": "code",
      "metadata": {
        "id": "85GAzv7CrrOR",
        "colab_type": "code",
        "outputId": "f63667e3-de24-4e41-c1bb-d003b415add5",
        "colab": {
          "base_uri": "https://localhost:8080/",
          "height": 373
        }
      },
      "source": [
        "!curl -s https://course.fast.ai/setup/colab | bash\n",
        "!pip install PyDrive"
      ],
      "execution_count": 0,
      "outputs": [
        {
          "output_type": "stream",
          "text": [
            "Updating fastai...\n",
            "Done.\n",
            "Collecting PyDrive\n",
            "\u001b[?25l  Downloading https://files.pythonhosted.org/packages/52/e0/0e64788e5dd58ce2d6934549676243dc69d982f198524be9b99e9c2a4fd5/PyDrive-1.3.1.tar.gz (987kB)\n",
            "\u001b[K     |████████████████████████████████| 993kB 2.9MB/s \n",
            "\u001b[?25hRequirement already satisfied: google-api-python-client>=1.2 in /usr/local/lib/python3.6/dist-packages (from PyDrive) (1.6.7)\n",
            "Requirement already satisfied: oauth2client>=4.0.0 in /usr/local/lib/python3.6/dist-packages (from PyDrive) (4.1.3)\n",
            "Requirement already satisfied: PyYAML>=3.0 in /usr/local/lib/python3.6/dist-packages (from PyDrive) (3.13)\n",
            "Requirement already satisfied: httplib2<1dev,>=0.9.2 in /usr/local/lib/python3.6/dist-packages (from google-api-python-client>=1.2->PyDrive) (0.11.3)\n",
            "Requirement already satisfied: six<2dev,>=1.6.1 in /usr/local/lib/python3.6/dist-packages (from google-api-python-client>=1.2->PyDrive) (1.12.0)\n",
            "Requirement already satisfied: uritemplate<4dev,>=3.0.0 in /usr/local/lib/python3.6/dist-packages (from google-api-python-client>=1.2->PyDrive) (3.0.0)\n",
            "Requirement already satisfied: pyasn1-modules>=0.0.5 in /usr/local/lib/python3.6/dist-packages (from oauth2client>=4.0.0->PyDrive) (0.2.5)\n",
            "Requirement already satisfied: pyasn1>=0.1.7 in /usr/local/lib/python3.6/dist-packages (from oauth2client>=4.0.0->PyDrive) (0.4.5)\n",
            "Requirement already satisfied: rsa>=3.1.4 in /usr/local/lib/python3.6/dist-packages (from oauth2client>=4.0.0->PyDrive) (4.0)\n",
            "Building wheels for collected packages: PyDrive\n",
            "  Building wheel for PyDrive (setup.py) ... \u001b[?25l\u001b[?25hdone\n",
            "  Stored in directory: /root/.cache/pip/wheels/fa/d2/9a/d3b6b506c2da98289e5d417215ce34b696db856643bad779f4\n",
            "Successfully built PyDrive\n",
            "Installing collected packages: PyDrive\n",
            "Successfully installed PyDrive-1.3.1\n"
          ],
          "name": "stdout"
        }
      ]
    },
    {
      "cell_type": "code",
      "metadata": {
        "id": "9L_SOJVonREy",
        "colab_type": "code",
        "colab": {}
      },
      "source": [
        "%reload_ext autoreload\n",
        "%autoreload 2\n",
        "%matplotlib inline"
      ],
      "execution_count": 0,
      "outputs": []
    },
    {
      "cell_type": "code",
      "metadata": {
        "id": "inx92B7WnSIu",
        "colab_type": "code",
        "colab": {}
      },
      "source": [
        "#import required modules\n",
        "import tarfile,re,os,pathlib,shutil\n",
        "\n",
        "import fastai\n",
        "from fastai.vision import *\n",
        "import torch\n",
        "import torchvision.transforms.functional as F\n",
        "\n",
        "from pydrive.auth import GoogleAuth\n",
        "from pydrive.drive import GoogleDrive\n",
        "from google.colab import auth\n",
        "from oauth2client.client import GoogleCredentials\n",
        "\n",
        "auth.authenticate_user()\n",
        "gauth = GoogleAuth()\n",
        "gauth.credentials = GoogleCredentials.get_application_default()\n",
        "drive = GoogleDrive(gauth)"
      ],
      "execution_count": 0,
      "outputs": []
    },
    {
      "cell_type": "markdown",
      "metadata": {
        "id": "h0SQ2KLhkBJT",
        "colab_type": "text"
      },
      "source": [
        "## Preprocess the data"
      ]
    },
    {
      "cell_type": "code",
      "metadata": {
        "id": "KEDmfOJvsE1b",
        "colab_type": "code",
        "colab": {}
      },
      "source": [
        "img_path = Path('/content/AerialImageDataset/train/images')\n",
        "mask_path = Path('/content/AerialImageDataset/train/gt')\n",
        "test_path = Path('/content/AerialImageDataset/test/images')\n",
        "valid_path = Path('/content/AerialImageDataset/valid')\n",
        "\n",
        "images_patch_path = Path('/content/AerialImagePatches/train')\n",
        "masks_patch_path = Path('/content/AerialImagePatches/masks')\n",
        "tests_patch_path = Path('/content/AerialImagePatches/test')\n",
        "valids_patch_path = Path('/content/AerialImagePatches/valid')"
      ],
      "execution_count": 0,
      "outputs": []
    },
    {
      "cell_type": "markdown",
      "metadata": {
        "id": "DGpfXxGwktQQ",
        "colab_type": "text"
      },
      "source": [
        "Split train to valid by moving the first 5 images from each city to valid folder"
      ]
    },
    {
      "cell_type": "code",
      "metadata": {
        "id": "MvlWWb3RsNBJ",
        "colab_type": "code",
        "colab": {}
      },
      "source": [
        "#move first five images from each city for valid hold outs\n",
        "\n",
        "def train_valid_split(src: str, dst: str):\n",
        "  if not os.path.isdir(dst):\n",
        "    dst.mkdir(parents=True, exist_ok=True)\n",
        "  for file in os.listdir(src):\n",
        "    if re.match(\"[a-zA-Z]*[1-5]{1}\\.tif\", file) or re.match(\"[a-zA-Z]*-\\w[1-5]{1}\\.tif\", file):\n",
        "      shutil.move(src/file, dst/file)\n",
        "        \n",
        "train_valid_split(img_path,valid_path)"
      ],
      "execution_count": 0,
      "outputs": []
    },
    {
      "cell_type": "markdown",
      "metadata": {
        "id": "CPu7bGi4k09O",
        "colab_type": "text"
      },
      "source": [
        "Clean up any previously created folder for AerialImagePatches"
      ]
    },
    {
      "cell_type": "code",
      "metadata": {
        "id": "0L22dBW5sPrR",
        "colab_type": "code",
        "colab": {}
      },
      "source": [
        "!rm -rf AerialImagePatches"
      ],
      "execution_count": 0,
      "outputs": []
    },
    {
      "cell_type": "markdown",
      "metadata": {
        "id": "ldPmPZSgk7nd",
        "colab_type": "text"
      },
      "source": [
        "Functions to generate patches of 256 X 256 with overlap of 6 pixels from 5k X 5k images and save it for training model."
      ]
    },
    {
      "cell_type": "code",
      "metadata": {
        "id": "tkG21UcRlLhQ",
        "colab_type": "code",
        "colab": {}
      },
      "source": [
        "#variables declaration\n",
        "orig_images = ImageList.from_folder(img_path)\n",
        "orig_valids = ImageList.from_folder(valid_path)\n",
        "orig_masks = ImageList.from_folder(mask_path)\n",
        "orig_tests = ImageList.from_folder(test_path)\n",
        "\n",
        "get_patch_file_name = lambda pth,x,y: pth/f'{x.stem.split(\"/\")[-1]}_{y}.tif'\n",
        "\n",
        "channels = 3\n",
        "size = 256\n",
        "step = 250\n",
        "pad = 3 # As we using overlap, without padding the image we loose some pixels and difficult to stitch back into original image"
      ],
      "execution_count": 0,
      "outputs": []
    },
    {
      "cell_type": "code",
      "metadata": {
        "id": "h0aadSJJsTN2",
        "colab_type": "code",
        "outputId": "7fb0f016-0d11-4bb2-d59e-614a561698cd",
        "colab": {
          "base_uri": "https://localhost:8080/",
          "height": 97
        }
      },
      "source": [
        "def generate_patches(image, i, dest_img_path, channels:int, size:int, step:int):\n",
        "  img = PIL.Image.open(image) #open the image\n",
        "  img = img = F.pad(img, (pad, pad, pad, pad)) # add padding to the image\n",
        "  img = pil2tensor(img.convert(\"RGB\"), np.float32).div_(255) # convert to tensor\n",
        "  patches = img.data.unfold(0, channels, channels).unfold(1, size, step).unfold(2, size, step)# generate patches\n",
        "  cnt = 1\n",
        "  for i in range(patches.shape[0]):\n",
        "    for j in range(patches.shape[1]):\n",
        "      for k in range(patches.shape[2]):\n",
        "        patch = patches[i][j][k]\n",
        "        imgpil = F.to_pil_image(patch)\n",
        "        filname = get_patch_file_name(dest_img_path, image, cnt) #Make proper naming convention to use it later while stitching at the end of prediction\n",
        "        cnt = cnt+1\n",
        "        imgpil.save(filname) #save the sliced image\n",
        "\n",
        "# create smaller patch sets \n",
        "sets = [(orig_images,images_patch_path,channels,size,step),(orig_valids,valids_patch_path,channels,size,step),(orig_masks, masks_patch_path,channels,size,step),(orig_tests,tests_patch_path,channels,size,step)]\n",
        "for img_lst,dst_path,channels,size,step in sets:\n",
        "  if not dst_path.exists():\n",
        "    dst_path.mkdir(parents=True, exist_ok=True)\n",
        "  parallel(partial(generate_patches, dest_img_path=dst_path, channels=channels, size=size, step=step), img_lst.items)"
      ],
      "execution_count": 0,
      "outputs": [
        {
          "output_type": "display_data",
          "data": {
            "text/html": [
              "\n",
              "    <div>\n",
              "        <style>\n",
              "            /* Turns off some styling */\n",
              "            progress {\n",
              "                /* gets rid of default border in Firefox and Opera. */\n",
              "                border: none;\n",
              "                /* Needs to be in here for Safari polyfill so background images work as expected. */\n",
              "                background-size: auto;\n",
              "            }\n",
              "            .progress-bar-interrupted, .progress-bar-interrupted::-webkit-progress-bar {\n",
              "                background: #F44336;\n",
              "            }\n",
              "        </style>\n",
              "      <progress value='155' class='' max='155', style='width:300px; height:20px; vertical-align: middle;'></progress>\n",
              "      100.00% [155/155 03:55<00:00]\n",
              "    </div>\n",
              "    "
            ],
            "text/plain": [
              "<IPython.core.display.HTML object>"
            ]
          },
          "metadata": {
            "tags": []
          }
        },
        {
          "output_type": "display_data",
          "data": {
            "text/html": [
              "\n",
              "    <div>\n",
              "        <style>\n",
              "            /* Turns off some styling */\n",
              "            progress {\n",
              "                /* gets rid of default border in Firefox and Opera. */\n",
              "                border: none;\n",
              "                /* Needs to be in here for Safari polyfill so background images work as expected. */\n",
              "                background-size: auto;\n",
              "            }\n",
              "            .progress-bar-interrupted, .progress-bar-interrupted::-webkit-progress-bar {\n",
              "                background: #F44336;\n",
              "            }\n",
              "        </style>\n",
              "      <progress value='25' class='' max='25', style='width:300px; height:20px; vertical-align: middle;'></progress>\n",
              "      100.00% [25/25 00:43<00:00]\n",
              "    </div>\n",
              "    "
            ],
            "text/plain": [
              "<IPython.core.display.HTML object>"
            ]
          },
          "metadata": {
            "tags": []
          }
        },
        {
          "output_type": "display_data",
          "data": {
            "text/html": [
              "\n",
              "    <div>\n",
              "        <style>\n",
              "            /* Turns off some styling */\n",
              "            progress {\n",
              "                /* gets rid of default border in Firefox and Opera. */\n",
              "                border: none;\n",
              "                /* Needs to be in here for Safari polyfill so background images work as expected. */\n",
              "                background-size: auto;\n",
              "            }\n",
              "            .progress-bar-interrupted, .progress-bar-interrupted::-webkit-progress-bar {\n",
              "                background: #F44336;\n",
              "            }\n",
              "        </style>\n",
              "      <progress value='180' class='' max='180', style='width:300px; height:20px; vertical-align: middle;'></progress>\n",
              "      100.00% [180/180 03:35<00:00]\n",
              "    </div>\n",
              "    "
            ],
            "text/plain": [
              "<IPython.core.display.HTML object>"
            ]
          },
          "metadata": {
            "tags": []
          }
        },
        {
          "output_type": "display_data",
          "data": {
            "text/html": [
              "\n",
              "    <div>\n",
              "        <style>\n",
              "            /* Turns off some styling */\n",
              "            progress {\n",
              "                /* gets rid of default border in Firefox and Opera. */\n",
              "                border: none;\n",
              "                /* Needs to be in here for Safari polyfill so background images work as expected. */\n",
              "                background-size: auto;\n",
              "            }\n",
              "            .progress-bar-interrupted, .progress-bar-interrupted::-webkit-progress-bar {\n",
              "                background: #F44336;\n",
              "            }\n",
              "        </style>\n",
              "      <progress value='180' class='' max='180', style='width:300px; height:20px; vertical-align: middle;'></progress>\n",
              "      100.00% [180/180 04:48<00:00]\n",
              "    </div>\n",
              "    "
            ],
            "text/plain": [
              "<IPython.core.display.HTML object>"
            ]
          },
          "metadata": {
            "tags": []
          }
        }
      ]
    },
    {
      "cell_type": "code",
      "metadata": {
        "id": "97df4EuZsW2T",
        "colab_type": "code",
        "outputId": "59680e2e-4811-4092-f130-73ecac6fb442",
        "colab": {
          "base_uri": "https://localhost:8080/",
          "height": 34
        }
      },
      "source": [
        "len(get_image_files(img_path)),len(get_image_files(mask_path)),len(get_image_files(valid_path)),len(get_image_files(test_path))"
      ],
      "execution_count": 0,
      "outputs": [
        {
          "output_type": "execute_result",
          "data": {
            "text/plain": [
              "(155, 180, 25, 180)"
            ]
          },
          "metadata": {
            "tags": []
          },
          "execution_count": 9
        }
      ]
    },
    {
      "cell_type": "code",
      "metadata": {
        "id": "KTdn3V2WsZ2n",
        "colab_type": "code",
        "outputId": "611b7979-dd07-4fae-8b59-201bceeac642",
        "colab": {
          "base_uri": "https://localhost:8080/",
          "height": 34
        }
      },
      "source": [
        "len(get_image_files(images_patch_path)),len(get_image_files(masks_patch_path)), len(get_image_files(valids_patch_path)), len(get_image_files(tests_patch_path))"
      ],
      "execution_count": 0,
      "outputs": [
        {
          "output_type": "execute_result",
          "data": {
            "text/plain": [
              "(62000, 72000, 10000, 72000)"
            ]
          },
          "metadata": {
            "tags": []
          },
          "execution_count": 10
        }
      ]
    },
    {
      "cell_type": "code",
      "metadata": {
        "id": "uMdQeLqUmFtm",
        "colab_type": "code",
        "colab": {}
      },
      "source": [
        "train_source_dir = '/content/AerialImagePatches/train'\n",
        "valid_source_dir = '/content/AerialImagePatches/valid'\n",
        "mask_source_dir = '/content/AerialImagePatches/masks'\n",
        "test_source_dir = '/content/AerialImagePatches/test'"
      ],
      "execution_count": 0,
      "outputs": []
    },
    {
      "cell_type": "code",
      "metadata": {
        "id": "3VX35stKscZ4",
        "colab_type": "code",
        "colab": {}
      },
      "source": [
        "# To create tar file\n",
        "def make_tarfile(output_filename, source_dir):\n",
        "  with tarfile.open(output_filename, \"w:gz\") as tar:\n",
        "    tar.add(source_dir, arcname=os.path.basename(source_dir))"
      ],
      "execution_count": 0,
      "outputs": []
    },
    {
      "cell_type": "code",
      "metadata": {
        "id": "57GCiJkysekL",
        "colab_type": "code",
        "colab": {}
      },
      "source": [
        "make_tarfile('train.tar', train_source_dir)"
      ],
      "execution_count": 0,
      "outputs": []
    },
    {
      "cell_type": "code",
      "metadata": {
        "id": "5vKK8WXwshOX",
        "colab_type": "code",
        "colab": {}
      },
      "source": [
        "make_tarfile('masks.tar', mask_source_dir)"
      ],
      "execution_count": 0,
      "outputs": []
    },
    {
      "cell_type": "code",
      "metadata": {
        "id": "hvNVvJYisjgT",
        "colab_type": "code",
        "colab": {}
      },
      "source": [
        "make_tarfile('valid.tar', valid_source_dir)"
      ],
      "execution_count": 0,
      "outputs": []
    },
    {
      "cell_type": "code",
      "metadata": {
        "id": "uof2UfbWslmp",
        "colab_type": "code",
        "colab": {}
      },
      "source": [
        "make_tarfile('test.tar', test_source_dir)"
      ],
      "execution_count": 0,
      "outputs": []
    },
    {
      "cell_type": "code",
      "metadata": {
        "id": "sDkqDH_gspoy",
        "colab_type": "code",
        "colab": {}
      },
      "source": [
        "# Create GoogleDrive instance with authenticated GoogleAuth instance.\n",
        "drive = GoogleDrive(gauth)\n",
        "\n",
        "def upload_to_drive(file, title):\n",
        "  uploaded = drive.CreateFile({'title': title})\n",
        "  uploaded.SetContentFile(file)\n",
        "  uploaded.Upload()\n",
        "  print('Uploaded file %s with ID %s'%(file, uploaded.get('id')))"
      ],
      "execution_count": 0,
      "outputs": []
    },
    {
      "cell_type": "code",
      "metadata": {
        "id": "D2lBK5cisr40",
        "colab_type": "code",
        "outputId": "14a7bc0c-a7ad-411a-dc3b-cd2e7344507b",
        "colab": {
          "base_uri": "https://localhost:8080/",
          "height": 34
        }
      },
      "source": [
        "upload_to_drive(\"train.tar\",\"train.tar\")"
      ],
      "execution_count": 0,
      "outputs": [
        {
          "output_type": "stream",
          "text": [
            "Uploaded file train.tar with ID 1O2zzW0MiL_nM8mP7YH3lBXusdvEMhq8o\n"
          ],
          "name": "stdout"
        }
      ]
    },
    {
      "cell_type": "code",
      "metadata": {
        "id": "FOqAOc6bssd8",
        "colab_type": "code",
        "outputId": "a32ed455-09e9-409c-a7ae-6eb98b454d28",
        "colab": {
          "base_uri": "https://localhost:8080/",
          "height": 34
        }
      },
      "source": [
        "upload_to_drive(\"masks.tar\",\"masks.tar\")"
      ],
      "execution_count": 0,
      "outputs": [
        {
          "output_type": "stream",
          "text": [
            "Uploaded file masks.tar with ID 1aWbwESwvfSbncf6QDUXOcXn2MNK3mTb6\n"
          ],
          "name": "stdout"
        }
      ]
    },
    {
      "cell_type": "code",
      "metadata": {
        "id": "kxeJF3I6ss-V",
        "colab_type": "code",
        "outputId": "827d2c95-bc0d-41ca-a054-d8c6a273f614",
        "colab": {
          "base_uri": "https://localhost:8080/",
          "height": 34
        }
      },
      "source": [
        "upload_to_drive(\"valid.tar\",\"valid.tar\")"
      ],
      "execution_count": 0,
      "outputs": [
        {
          "output_type": "stream",
          "text": [
            "Uploaded file valid.tar with ID 1D80DpCfFFI4dY-B-7KtDogCEboPCBV3_\n"
          ],
          "name": "stdout"
        }
      ]
    },
    {
      "cell_type": "code",
      "metadata": {
        "id": "Chaf5aX-stcL",
        "colab_type": "code",
        "outputId": "88f59dbd-9ab4-448a-81b4-15510d5b9ae0",
        "colab": {
          "base_uri": "https://localhost:8080/",
          "height": 34
        }
      },
      "source": [
        "upload_to_drive(\"test.tar\",\"test.tar\")"
      ],
      "execution_count": 0,
      "outputs": [
        {
          "output_type": "stream",
          "text": [
            "Uploaded file maskoriginal.tar with ID 12Udu0DJKurINRh0xhc9fFojm0N79lQNp\n"
          ],
          "name": "stdout"
        }
      ]
    },
    {
      "cell_type": "code",
      "metadata": {
        "id": "4QIB12X_5ufD",
        "colab_type": "code",
        "colab": {}
      },
      "source": [
        "#remove unwated files\n",
        "!rm -rf AerialImageDataset"
      ],
      "execution_count": 0,
      "outputs": []
    },
    {
      "cell_type": "code",
      "metadata": {
        "id": "Uax11WYDC2h1",
        "colab_type": "code",
        "colab": {}
      },
      "source": [
        ""
      ],
      "execution_count": 0,
      "outputs": []
    }
  ]
}