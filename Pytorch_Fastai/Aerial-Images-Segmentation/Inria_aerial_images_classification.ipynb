{
  "nbformat": 4,
  "nbformat_minor": 0,
  "metadata": {
    "colab": {
      "name": "Inria_aerial_images_classification.ipynb",
      "version": "0.3.2",
      "provenance": [],
      "collapsed_sections": [],
      "include_colab_link": true
    },
    "kernelspec": {
      "name": "python3",
      "display_name": "Python 3"
    },
    "accelerator": "GPU"
  },
  "cells": [
    {
      "cell_type": "markdown",
      "metadata": {
        "id": "view-in-github",
        "colab_type": "text"
      },
      "source": [
        "<a href=\"https://colab.research.google.com/github/fellowship/platform-demos3/blob/master/InriaAerialImages/Inria_aerial_images_classification.ipynb\" target=\"_parent\"><img src=\"https://colab.research.google.com/assets/colab-badge.svg\" alt=\"Open In Colab\"/></a>"
      ]
    },
    {
      "cell_type": "markdown",
      "metadata": {
        "id": "M7v1SOdZewtv",
        "colab_type": "text"
      },
      "source": [
        "In this notebook, we are going to do classification using the same dataset which used in platform.ai to label aerial images into building present or building absent. "
      ]
    },
    {
      "cell_type": "markdown",
      "metadata": {
        "id": "mCrvuWK_d1M-",
        "colab_type": "text"
      },
      "source": [
        "Get data: Mount the google drive to access the data. And import required libraries."
      ]
    },
    {
      "cell_type": "code",
      "metadata": {
        "id": "AiASx0KQMjso",
        "colab_type": "code",
        "outputId": "d33147b3-dff7-4607-ac8c-9f24fbbf31f0",
        "colab": {
          "base_uri": "https://localhost:8080/",
          "height": 121
        }
      },
      "source": [
        "from google.colab import drive\n",
        "drive.mount('/content/drive')"
      ],
      "execution_count": 2,
      "outputs": [
        {
          "output_type": "stream",
          "text": [
            "Go to this URL in a browser: https://accounts.google.com/o/oauth2/auth?client_id=947318989803-6bn6qk8qdgf4n4g3pfee6491hc0brc4i.apps.googleusercontent.com&redirect_uri=urn%3Aietf%3Awg%3Aoauth%3A2.0%3Aoob&scope=email%20https%3A%2F%2Fwww.googleapis.com%2Fauth%2Fdocs.test%20https%3A%2F%2Fwww.googleapis.com%2Fauth%2Fdrive%20https%3A%2F%2Fwww.googleapis.com%2Fauth%2Fdrive.photos.readonly%20https%3A%2F%2Fwww.googleapis.com%2Fauth%2Fpeopleapi.readonly&response_type=code\n",
            "\n",
            "Enter your authorization code:\n",
            "··········\n",
            "Mounted at /content/drive\n"
          ],
          "name": "stdout"
        }
      ]
    },
    {
      "cell_type": "code",
      "metadata": {
        "id": "hc_y5VpwNH4M",
        "colab_type": "code",
        "colab": {}
      },
      "source": [
        "import fastai\n",
        "from fastai.vision import *\n",
        "import torch\n",
        "import torchvision.transforms.functional as F\n",
        "\n",
        "import tarfile, os,pathlib"
      ],
      "execution_count": 0,
      "outputs": []
    },
    {
      "cell_type": "markdown",
      "metadata": {
        "id": "GBwrMNbbfVph",
        "colab_type": "text"
      },
      "source": [
        "train_demo.tar is having 1000 images which is labeled as building present or building absent"
      ]
    },
    {
      "cell_type": "code",
      "metadata": {
        "id": "qdvRmNZgOIky",
        "colab_type": "code",
        "colab": {}
      },
      "source": [
        "!cp '/content/drive/My Drive/train_demo.tar' '/content'"
      ],
      "execution_count": 0,
      "outputs": []
    },
    {
      "cell_type": "code",
      "metadata": {
        "id": "TOp9p1RFOVIs",
        "colab_type": "code",
        "colab": {}
      },
      "source": [
        "!tar -zxvf '/content/train_demo.tar'"
      ],
      "execution_count": 0,
      "outputs": []
    },
    {
      "cell_type": "code",
      "metadata": {
        "id": "P9-H5kzguoYK",
        "colab_type": "code",
        "outputId": "df5c0262-e711-437e-9313-f5d1eb998f3a",
        "colab": {
          "base_uri": "https://localhost:8080/",
          "height": 34
        }
      },
      "source": [
        "len(get_image_files('/content/content/platform_demo/train/present')),len(get_image_files('/content/content/platform_demo/train/absent'))"
      ],
      "execution_count": 6,
      "outputs": [
        {
          "output_type": "execute_result",
          "data": {
            "text/plain": [
              "(504, 496)"
            ]
          },
          "metadata": {
            "tags": []
          },
          "execution_count": 6
        }
      ]
    },
    {
      "cell_type": "markdown",
      "metadata": {
        "id": "fn4wc5O3eK_L",
        "colab_type": "text"
      },
      "source": [
        "Define the data for training the model using fastai library"
      ]
    },
    {
      "cell_type": "code",
      "metadata": {
        "id": "vIS8nY9OlE5I",
        "colab_type": "code",
        "colab": {}
      },
      "source": [
        "path = Path('/content/content/platform_demo/train')\n",
        "src = (ImageList.from_folder(path) #define source of input\n",
        "      .split_by_rand_pct(0.2)\n",
        "      .label_from_folder())\n",
        "data = (src.transform(get_transforms(), size=250)\n",
        "       .databunch(bs=32))#batch size=16"
      ],
      "execution_count": 0,
      "outputs": []
    },
    {
      "cell_type": "code",
      "metadata": {
        "id": "MWZzl_OSvd3O",
        "colab_type": "code",
        "outputId": "1f7bde47-0621-4b92-b93b-784b97eee105",
        "colab": {
          "base_uri": "https://localhost:8080/",
          "height": 302
        }
      },
      "source": [
        "data"
      ],
      "execution_count": 8,
      "outputs": [
        {
          "output_type": "execute_result",
          "data": {
            "text/plain": [
              "ImageDataBunch;\n",
              "\n",
              "Train: LabelList (800 items)\n",
              "x: ImageList\n",
              "Image (3, 250, 250),Image (3, 250, 250),Image (3, 250, 250),Image (3, 250, 250),Image (3, 250, 250)\n",
              "y: CategoryList\n",
              "present,present,present,present,present\n",
              "Path: /content/content/platform_demo/train;\n",
              "\n",
              "Valid: LabelList (200 items)\n",
              "x: ImageList\n",
              "Image (3, 250, 250),Image (3, 250, 250),Image (3, 250, 250),Image (3, 250, 250),Image (3, 250, 250)\n",
              "y: CategoryList\n",
              "absent,present,absent,present,absent\n",
              "Path: /content/content/platform_demo/train;\n",
              "\n",
              "Test: None"
            ]
          },
          "metadata": {
            "tags": []
          },
          "execution_count": 8
        }
      ]
    },
    {
      "cell_type": "code",
      "metadata": {
        "id": "G8QYGcbgmlhl",
        "colab_type": "code",
        "outputId": "211a6ae1-49f9-494c-a4c9-cd73fb99d60d",
        "colab": {
          "base_uri": "https://localhost:8080/",
          "height": 34
        }
      },
      "source": [
        "data.classes "
      ],
      "execution_count": 9,
      "outputs": [
        {
          "output_type": "execute_result",
          "data": {
            "text/plain": [
              "['absent', 'present']"
            ]
          },
          "metadata": {
            "tags": []
          },
          "execution_count": 9
        }
      ]
    },
    {
      "cell_type": "markdown",
      "metadata": {
        "id": "Ld1jrMITeV4P",
        "colab_type": "text"
      },
      "source": [
        "CNN Learner"
      ]
    },
    {
      "cell_type": "code",
      "metadata": {
        "id": "JMibYrtKmtTG",
        "colab_type": "code",
        "colab": {
          "base_uri": "https://localhost:8080/",
          "height": 50
        },
        "outputId": "93d558da-5a81-48e6-9ac4-3f080d8ad820"
      },
      "source": [
        "learn = cnn_learner(data, models.resnet34, metrics=accuracy)"
      ],
      "execution_count": 10,
      "outputs": [
        {
          "output_type": "stream",
          "text": [
            "Downloading: \"https://download.pytorch.org/models/resnet34-333f7ec4.pth\" to /root/.cache/torch/checkpoints/resnet34-333f7ec4.pth\n",
            "100%|██████████| 87306240/87306240 [00:01<00:00, 74365414.86it/s]\n"
          ],
          "name": "stderr"
        }
      ]
    },
    {
      "cell_type": "code",
      "metadata": {
        "id": "RnEsIaMzm0PR",
        "colab_type": "code",
        "outputId": "155d0826-5f15-414c-83c9-59242e479edf",
        "colab": {
          "base_uri": "https://localhost:8080/",
          "height": 317
        }
      },
      "source": [
        "learn.freeze()\n",
        "learn.lr_find()\n",
        "learn.recorder.plot(suggestion=True)"
      ],
      "execution_count": 11,
      "outputs": [
        {
          "output_type": "display_data",
          "data": {
            "text/html": [
              ""
            ],
            "text/plain": [
              "<IPython.core.display.HTML object>"
            ]
          },
          "metadata": {
            "tags": []
          }
        },
        {
          "output_type": "stream",
          "text": [
            "LR Finder is complete, type {learner_name}.recorder.plot() to see the graph.\n",
            "Min numerical gradient: 1.00E-03\n"
          ],
          "name": "stdout"
        },
        {
          "output_type": "display_data",
          "data": {
            "image/png": "[encoded data removed]",
            "text/plain": [
              "<Figure size 432x288 with 1 Axes>"
            ]
          },
          "metadata": {
            "tags": []
          }
        }
      ]
    },
    {
      "cell_type": "code",
      "metadata": {
        "id": "6KqzoE9rm0YW",
        "colab_type": "code",
        "outputId": "9660b417-0506-4646-8ada-33a7123996e5",
        "colab": {
          "base_uri": "https://localhost:8080/",
          "height": 343
        }
      },
      "source": [
        "lr = 1e-03\n",
        "learn.fit_one_cycle(10, slice(lr))"
      ],
      "execution_count": 12,
      "outputs": [
        {
          "output_type": "display_data",
          "data": {
            "text/html": [
              "<table border=\"1\" class=\"dataframe\">\n",
              "  <thead>\n",
              "    <tr style=\"text-align: left;\">\n",
              "      <th>epoch</th>\n",
              "      <th>train_loss</th>\n",
              "      <th>valid_loss</th>\n",
              "      <th>accuracy</th>\n",
              "      <th>time</th>\n",
              "    </tr>\n",
              "  </thead>\n",
              "  <tbody>\n",
              "    <tr>\n",
              "      <td>0</td>\n",
              "      <td>0.748116</td>\n",
              "      <td>0.352045</td>\n",
              "      <td>0.875000</td>\n",
              "      <td>00:07</td>\n",
              "    </tr>\n",
              "    <tr>\n",
              "      <td>1</td>\n",
              "      <td>0.485618</td>\n",
              "      <td>0.233276</td>\n",
              "      <td>0.920000</td>\n",
              "      <td>00:07</td>\n",
              "    </tr>\n",
              "    <tr>\n",
              "      <td>2</td>\n",
              "      <td>0.385181</td>\n",
              "      <td>0.208264</td>\n",
              "      <td>0.925000</td>\n",
              "      <td>00:07</td>\n",
              "    </tr>\n",
              "    <tr>\n",
              "      <td>3</td>\n",
              "      <td>0.319144</td>\n",
              "      <td>0.199049</td>\n",
              "      <td>0.920000</td>\n",
              "      <td>00:07</td>\n",
              "    </tr>\n",
              "    <tr>\n",
              "      <td>4</td>\n",
              "      <td>0.282751</td>\n",
              "      <td>0.196199</td>\n",
              "      <td>0.940000</td>\n",
              "      <td>00:07</td>\n",
              "    </tr>\n",
              "    <tr>\n",
              "      <td>5</td>\n",
              "      <td>0.248204</td>\n",
              "      <td>0.179122</td>\n",
              "      <td>0.940000</td>\n",
              "      <td>00:07</td>\n",
              "    </tr>\n",
              "    <tr>\n",
              "      <td>6</td>\n",
              "      <td>0.215102</td>\n",
              "      <td>0.167945</td>\n",
              "      <td>0.950000</td>\n",
              "      <td>00:07</td>\n",
              "    </tr>\n",
              "    <tr>\n",
              "      <td>7</td>\n",
              "      <td>0.213130</td>\n",
              "      <td>0.165178</td>\n",
              "      <td>0.950000</td>\n",
              "      <td>00:07</td>\n",
              "    </tr>\n",
              "    <tr>\n",
              "      <td>8</td>\n",
              "      <td>0.208283</td>\n",
              "      <td>0.160554</td>\n",
              "      <td>0.950000</td>\n",
              "      <td>00:07</td>\n",
              "    </tr>\n",
              "    <tr>\n",
              "      <td>9</td>\n",
              "      <td>0.196872</td>\n",
              "      <td>0.168520</td>\n",
              "      <td>0.940000</td>\n",
              "      <td>00:07</td>\n",
              "    </tr>\n",
              "  </tbody>\n",
              "</table>"
            ],
            "text/plain": [
              "<IPython.core.display.HTML object>"
            ]
          },
          "metadata": {
            "tags": []
          }
        }
      ]
    },
    {
      "cell_type": "markdown",
      "metadata": {
        "id": "8ZQ_IZC5eZoX",
        "colab_type": "text"
      },
      "source": [
        "Save the stage-1 model into drive for the future use"
      ]
    },
    {
      "cell_type": "code",
      "metadata": {
        "id": "0DBC5T8um0b7",
        "colab_type": "code",
        "colab": {}
      },
      "source": [
        "learn.save('inria_250_resnet34_stg1_clss')\n",
        "!cp '/content/content/platform_demo/train/models/inria_250_resnet34_stg1_clss.pth' 'drive/My Drive/fellowship/Classification/resnet34_250'"
      ],
      "execution_count": 0,
      "outputs": []
    },
    {
      "cell_type": "code",
      "metadata": {
        "id": "NeiMzxGitFVh",
        "colab_type": "code",
        "outputId": "b5bc3694-80a4-4071-d426-477c09f1dc21",
        "colab": {
          "base_uri": "https://localhost:8080/",
          "height": 317
        }
      },
      "source": [
        "learn.unfreeze()\n",
        "learn.lr_find()\n",
        "learn.recorder.plot(suggestion=True)"
      ],
      "execution_count": 14,
      "outputs": [
        {
          "output_type": "display_data",
          "data": {
            "text/html": [
              ""
            ],
            "text/plain": [
              "<IPython.core.display.HTML object>"
            ]
          },
          "metadata": {
            "tags": []
          }
        },
        {
          "output_type": "stream",
          "text": [
            "LR Finder is complete, type {learner_name}.recorder.plot() to see the graph.\n",
            "Min numerical gradient: 6.31E-07\n"
          ],
          "name": "stdout"
        },
        {
          "output_type": "display_data",
          "data": {
            "image/png": "[encoded data removed]",
            "text/plain": [
              "<Figure size 432x288 with 1 Axes>"
            ]
          },
          "metadata": {
            "tags": []
          }
        }
      ]
    },
    {
      "cell_type": "code",
      "metadata": {
        "id": "4vyADjfjtSTL",
        "colab_type": "code",
        "outputId": "f128d9c0-442d-41c1-e5f0-60a95d30b488",
        "colab": {
          "base_uri": "https://localhost:8080/",
          "height": 343
        }
      },
      "source": [
        "lr = 5e-05\n",
        "learn.fit_one_cycle(10, slice(lr))"
      ],
      "execution_count": 15,
      "outputs": [
        {
          "output_type": "display_data",
          "data": {
            "text/html": [
              "<table border=\"1\" class=\"dataframe\">\n",
              "  <thead>\n",
              "    <tr style=\"text-align: left;\">\n",
              "      <th>epoch</th>\n",
              "      <th>train_loss</th>\n",
              "      <th>valid_loss</th>\n",
              "      <th>accuracy</th>\n",
              "      <th>time</th>\n",
              "    </tr>\n",
              "  </thead>\n",
              "  <tbody>\n",
              "    <tr>\n",
              "      <td>0</td>\n",
              "      <td>0.158358</td>\n",
              "      <td>0.158279</td>\n",
              "      <td>0.945000</td>\n",
              "      <td>00:07</td>\n",
              "    </tr>\n",
              "    <tr>\n",
              "      <td>1</td>\n",
              "      <td>0.188500</td>\n",
              "      <td>0.166957</td>\n",
              "      <td>0.945000</td>\n",
              "      <td>00:08</td>\n",
              "    </tr>\n",
              "    <tr>\n",
              "      <td>2</td>\n",
              "      <td>0.191432</td>\n",
              "      <td>0.158260</td>\n",
              "      <td>0.945000</td>\n",
              "      <td>00:08</td>\n",
              "    </tr>\n",
              "    <tr>\n",
              "      <td>3</td>\n",
              "      <td>0.176820</td>\n",
              "      <td>0.159323</td>\n",
              "      <td>0.950000</td>\n",
              "      <td>00:08</td>\n",
              "    </tr>\n",
              "    <tr>\n",
              "      <td>4</td>\n",
              "      <td>0.172413</td>\n",
              "      <td>0.154136</td>\n",
              "      <td>0.960000</td>\n",
              "      <td>00:08</td>\n",
              "    </tr>\n",
              "    <tr>\n",
              "      <td>5</td>\n",
              "      <td>0.155263</td>\n",
              "      <td>0.149175</td>\n",
              "      <td>0.950000</td>\n",
              "      <td>00:08</td>\n",
              "    </tr>\n",
              "    <tr>\n",
              "      <td>6</td>\n",
              "      <td>0.158611</td>\n",
              "      <td>0.154385</td>\n",
              "      <td>0.945000</td>\n",
              "      <td>00:08</td>\n",
              "    </tr>\n",
              "    <tr>\n",
              "      <td>7</td>\n",
              "      <td>0.140125</td>\n",
              "      <td>0.151006</td>\n",
              "      <td>0.945000</td>\n",
              "      <td>00:08</td>\n",
              "    </tr>\n",
              "    <tr>\n",
              "      <td>8</td>\n",
              "      <td>0.142334</td>\n",
              "      <td>0.150999</td>\n",
              "      <td>0.950000</td>\n",
              "      <td>00:08</td>\n",
              "    </tr>\n",
              "    <tr>\n",
              "      <td>9</td>\n",
              "      <td>0.140670</td>\n",
              "      <td>0.150870</td>\n",
              "      <td>0.950000</td>\n",
              "      <td>00:08</td>\n",
              "    </tr>\n",
              "  </tbody>\n",
              "</table>"
            ],
            "text/plain": [
              "<IPython.core.display.HTML object>"
            ]
          },
          "metadata": {
            "tags": []
          }
        }
      ]
    },
    {
      "cell_type": "markdown",
      "metadata": {
        "id": "SbgKSJOOejIi",
        "colab_type": "text"
      },
      "source": [
        "Save the stage-2 model into drive for the future use"
      ]
    },
    {
      "cell_type": "code",
      "metadata": {
        "id": "ADh3iErGtSu5",
        "colab_type": "code",
        "colab": {}
      },
      "source": [
        "learn.save('inria_250_resnet34_stg2_clss')\n",
        "!cp '/content/content/platform_demo/train/models/inria_250_resnet34_stg2_clss.pth' 'drive/My Drive/fellowship/Classification/resnet34_250'"
      ],
      "execution_count": 0,
      "outputs": []
    },
    {
      "cell_type": "code",
      "metadata": {
        "id": "KziYlbuJt0FH",
        "colab_type": "code",
        "colab": {}
      },
      "source": [
        "learn.export()\n",
        "!cp '/content/content/platform_demo/train/export.pkl' 'drive/My Drive/fellowship/Classification/resnet34_250'"
      ],
      "execution_count": 0,
      "outputs": []
    },
    {
      "cell_type": "code",
      "metadata": {
        "id": "E4cXO6pA22eQ",
        "colab_type": "code",
        "colab": {}
      },
      "source": [
        "learn.load('inria_250_resnet34_stg2_clss')"
      ],
      "execution_count": 0,
      "outputs": []
    },
    {
      "cell_type": "markdown",
      "metadata": {
        "id": "kqAH8wsbel7e",
        "colab_type": "text"
      },
      "source": [
        "Plotting the losses"
      ]
    },
    {
      "cell_type": "code",
      "metadata": {
        "id": "zsE-CL2LuB3q",
        "colab_type": "code",
        "outputId": "41c69807-3a8c-4130-aeec-bd58c809a083",
        "colab": {
          "base_uri": "https://localhost:8080/",
          "height": 283
        }
      },
      "source": [
        "learn.recorder.plot_losses()"
      ],
      "execution_count": 19,
      "outputs": [
        {
          "output_type": "display_data",
          "data": {
            "image/png": "[encoded data removed]",
            "text/plain": [
              "<Figure size 432x288 with 1 Axes>"
            ]
          },
          "metadata": {
            "tags": []
          }
        }
      ]
    },
    {
      "cell_type": "markdown",
      "metadata": {
        "id": "bkn0QPEcepiZ",
        "colab_type": "text"
      },
      "source": [
        "Confusion Matrix"
      ]
    },
    {
      "cell_type": "code",
      "metadata": {
        "id": "YyWlgK47uKAo",
        "colab_type": "code",
        "colab": {}
      },
      "source": [
        "interp = ClassificationInterpretation.from_learner(learn)"
      ],
      "execution_count": 0,
      "outputs": []
    },
    {
      "cell_type": "code",
      "metadata": {
        "id": "tyzLpCgOuKS9",
        "colab_type": "code",
        "outputId": "d928585e-2a4b-41b9-d571-ec55edff7e73",
        "colab": {
          "base_uri": "https://localhost:8080/",
          "height": 323
        }
      },
      "source": [
        "interp.plot_confusion_matrix(figsize=(5, 5), dpi=60)"
      ],
      "execution_count": 21,
      "outputs": [
        {
          "output_type": "display_data",
          "data": {
            "image/png": "[encoded data removed]",
            "text/plain": [
              "<Figure size 300x300 with 1 Axes>"
            ]
          },
          "metadata": {
            "tags": []
          }
        }
      ]
    },
    {
      "cell_type": "code",
      "metadata": {
        "id": "OFPH_0gJ4pIC",
        "colab_type": "code",
        "colab": {}
      },
      "source": [
        ""
      ],
      "execution_count": 0,
      "outputs": []
    }
  ]
}