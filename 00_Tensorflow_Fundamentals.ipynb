{
  "cells": [
    {
      "cell_type": "markdown",
      "metadata": {},
      "source": [
        "<a href=\"https://colab.research.google.com/github/ZohebAbai/Deep-Learning-Projects/blob/master/Tensorflow_Keras/00_Tensorflow_Fundamentals.ipynb\" target=\"_parent\"><img src=\"https://colab.research.google.com/assets/colab-badge.svg\" alt=\"Open In Colab\"/></a>"
      ]
    },
    {
      "cell_type": "markdown",
      "metadata": {
        "id": "3SFInjp_PlaJ"
      },
      "source": [
        "# Tensorflow Fundaments"
      ]
    },
    {
      "cell_type": "code",
      "execution_count": 1,
      "metadata": {
        "colab": {
          "base_uri": "https://localhost:8080/"
        },
        "id": "jWsEQjSlPlaL",
        "outputId": "f7297dca-0d2c-407b-f7bd-80a663a0a48b"
      },
      "outputs": [
        {
          "name": "stdout",
          "output_type": "stream",
          "text": [
            "2.7.0\n"
          ]
        }
      ],
      "source": [
        "import numpy as np\n",
        "import tensorflow as tf\n",
        "print(tf.__version__)"
      ]
    },
    {
      "cell_type": "markdown",
      "metadata": {
        "id": "YGXKRiGOPlaM"
      },
      "source": [
        "## Tensors\n",
        "\n",
        "TensorFlow, as the name indicates, is a framework to define and run computations involving tensors. A tensor is a generalization of vectors and matrices to potentially higher dimensions. Internally, TensorFlow represents tensors as n-dimensional arrays of base datatypes. TensorFlow programs work by first building a graph of tf.Tensor objects, detailing how each tensor is computed based on the other available tensors and then by running parts of this graph to achieve the desired results. "
      ]
    },
    {
      "cell_type": "markdown",
      "metadata": {
        "id": "uEiPH1RwPlaM"
      },
      "source": [
        "### tf.constant (immutable)\n"
      ]
    },
    {
      "cell_type": "code",
      "execution_count": 2,
      "metadata": {
        "colab": {
          "base_uri": "https://localhost:8080/"
        },
        "id": "vAvT70lQPlaM",
        "outputId": "44de5f83-5ed1-4486-8e9f-533f627f5dc8"
      },
      "outputs": [
        {
          "name": "stdout",
          "output_type": "stream",
          "text": [
            "Tensor value: 9 of rank 0\n"
          ]
        }
      ],
      "source": [
        "scalar = tf.constant(9)\n",
        "print(f\"Tensor value: {scalar} of rank {scalar.ndim}\")"
      ]
    },
    {
      "cell_type": "code",
      "execution_count": 3,
      "metadata": {
        "colab": {
          "base_uri": "https://localhost:8080/"
        },
        "id": "Wt0OFVT4PlaN",
        "outputId": "6078821b-2e64-4e0f-a703-4358352aab7a"
      },
      "outputs": [
        {
          "name": "stdout",
          "output_type": "stream",
          "text": [
            "Tensor value: [10  7] of rank 1\n"
          ]
        }
      ],
      "source": [
        "vector = tf.constant([10,7])\n",
        "print(f\"Tensor value: {vector} of rank {vector.ndim}\")"
      ]
    },
    {
      "cell_type": "code",
      "execution_count": 4,
      "metadata": {
        "colab": {
          "base_uri": "https://localhost:8080/"
        },
        "id": "1YK_RiQqPlaN",
        "outputId": "cc9fb89d-79de-48fa-d34e-564c3872cf0e"
      },
      "outputs": [
        {
          "name": "stdout",
          "output_type": "stream",
          "text": [
            "Tensor value:\n",
            " [[10  7]\n",
            " [ 7 10]] of rank 2\n"
          ]
        }
      ],
      "source": [
        "matrix = tf.constant([[10,7],\n",
        "                      [7,10]])\n",
        "print(f\"Tensor value:\\n {matrix} of rank {matrix.ndim}\")"
      ]
    },
    {
      "cell_type": "code",
      "execution_count": 5,
      "metadata": {
        "colab": {
          "base_uri": "https://localhost:8080/"
        },
        "id": "LkiRAR_WPlaN",
        "outputId": "2982363f-deae-4988-aba0-cf9defc88142"
      },
      "outputs": [
        {
          "name": "stdout",
          "output_type": "stream",
          "text": [
            "Tensor value:\n",
            " [[[ 1.  2.  3.]\n",
            "  [ 4.  5.  6.]]\n",
            "\n",
            " [[ 7.  8.  9.]\n",
            "  [10. 11. 12.]]\n",
            "\n",
            " [[13. 14. 15.]\n",
            "  [16. 17. 18.]]] of rank 3\n"
          ]
        }
      ],
      "source": [
        "tensor = tf.constant([[[1,2,3],\n",
        "                       [4,5,6]],\n",
        "                      [[7,8,9],\n",
        "                       [10,11,12]],\n",
        "                      [[13,14,15],\n",
        "                       [16,17,18]]], dtype=tf.float16)\n",
        "print(f\"Tensor value:\\n {tensor} of rank {tensor.ndim}\")"
      ]
    },
    {
      "cell_type": "markdown",
      "metadata": {
        "id": "ntAKXiUGVz_k"
      },
      "source": [
        "### tf.Variable (mutable)"
      ]
    },
    {
      "cell_type": "code",
      "execution_count": 6,
      "metadata": {
        "colab": {
          "base_uri": "https://localhost:8080/"
        },
        "id": "C6YqFyH0VzsW",
        "outputId": "0e4e936c-ed24-4881-85a9-1583a44616ee"
      },
      "outputs": [
        {
          "name": "stdout",
          "output_type": "stream",
          "text": [
            "Tensor value:\n",
            " <tf.Variable 'Variable:0' shape=(2,) dtype=int32, numpy=array([7, 7], dtype=int32)>\n"
          ]
        }
      ],
      "source": [
        "mutable_tensor = tf.Variable([10,7])\n",
        "mutable_tensor[0].assign(7)\n",
        "print(f\"Tensor value:\\n {mutable_tensor}\")"
      ]
    },
    {
      "cell_type": "code",
      "execution_count": 7,
      "metadata": {
        "colab": {
          "base_uri": "https://localhost:8080/"
        },
        "id": "WeU8h0HUbJPd",
        "outputId": "2d5f2890-e1f2-419b-9188-be69483f5470"
      },
      "outputs": [
        {
          "name": "stdout",
          "output_type": "stream",
          "text": [
            "Changed the type from <dtype: 'int32'> to <dtype: 'float16'>\n"
          ]
        }
      ],
      "source": [
        "D = tf.cast(mutable_tensor, tf.float16)\n",
        "print(f\"Changed the type from {mutable_tensor.dtype} to {D.dtype}\")"
      ]
    },
    {
      "cell_type": "markdown",
      "metadata": {
        "id": "9OXHZEfKW_Lr"
      },
      "source": [
        "## Compatibility with Numpy"
      ]
    },
    {
      "cell_type": "code",
      "execution_count": 8,
      "metadata": {
        "colab": {
          "base_uri": "https://localhost:8080/"
        },
        "id": "ftrxUF2SXQTT",
        "outputId": "39a30714-4386-48b8-ba06-0cf7b201f27c"
      },
      "outputs": [
        {
          "name": "stdout",
          "output_type": "stream",
          "text": [
            "tf.Tensor(\n",
            "[[[ 1  2  3  4]\n",
            "  [ 5  6  7  8]\n",
            "  [ 9 10 11 12]]\n",
            "\n",
            " [[13 14 15 16]\n",
            "  [17 18 19 20]\n",
            "  [21 22 23 24]]], shape=(2, 3, 4), dtype=int32)\n"
          ]
        }
      ],
      "source": [
        "arr = np.arange(1,25, dtype=np.int32)\n",
        "a = tf.constant(arr, shape=(2,3,4))\n",
        "print(a)"
      ]
    },
    {
      "cell_type": "code",
      "execution_count": 9,
      "metadata": {
        "colab": {
          "base_uri": "https://localhost:8080/"
        },
        "id": "6QmpcxnQWC3J",
        "outputId": "470f79ad-e657-4555-8756-485467629a1d"
      },
      "outputs": [
        {
          "name": "stdout",
          "output_type": "stream",
          "text": [
            "Datatype of every element: <dtype: 'int32'>\n",
            "Number of dimensions (rank): 3\n",
            "Shape of tensor: (2, 3, 4)\n",
            "Total number of elements: 24\n"
          ]
        }
      ],
      "source": [
        "# Get various attributes of tensor\n",
        "print(\"Datatype of every element:\", a.dtype)\n",
        "print(\"Number of dimensions (rank):\", a.ndim)\n",
        "print(\"Shape of tensor:\", a.shape)\n",
        "print(\"Total number of elements:\", tf.size(a).numpy())"
      ]
    },
    {
      "cell_type": "code",
      "execution_count": 10,
      "metadata": {
        "colab": {
          "base_uri": "https://localhost:8080/"
        },
        "id": "bu5hQbyHXn5K",
        "outputId": "01ab5a9e-01fc-431c-97f0-82398c9ed276"
      },
      "outputs": [
        {
          "name": "stdout",
          "output_type": "stream",
          "text": [
            "Elements along last axis of tensor:\n",
            " [[ 4  8 12]\n",
            " [16 20 24]]\n"
          ]
        }
      ],
      "source": [
        "print(f\"Elements along last axis of tensor:\\n {a[:,:,-1]}\")"
      ]
    },
    {
      "cell_type": "code",
      "execution_count": 11,
      "metadata": {
        "colab": {
          "base_uri": "https://localhost:8080/"
        },
        "id": "gbiZlLX-aSga",
        "outputId": "b213055e-7b67-42a6-d16c-e081d6a42c06"
      },
      "outputs": [
        {
          "data": {
            "text/plain": [
              "<tf.Tensor: shape=(2, 3, 4, 1), dtype=int32, numpy=\n",
              "array([[[[ 1],\n",
              "         [ 2],\n",
              "         [ 3],\n",
              "         [ 4]],\n",
              "\n",
              "        [[ 5],\n",
              "         [ 6],\n",
              "         [ 7],\n",
              "         [ 8]],\n",
              "\n",
              "        [[ 9],\n",
              "         [10],\n",
              "         [11],\n",
              "         [12]]],\n",
              "\n",
              "\n",
              "       [[[13],\n",
              "         [14],\n",
              "         [15],\n",
              "         [16]],\n",
              "\n",
              "        [[17],\n",
              "         [18],\n",
              "         [19],\n",
              "         [20]],\n",
              "\n",
              "        [[21],\n",
              "         [22],\n",
              "         [23],\n",
              "         [24]]]], dtype=int32)>"
            ]
          },
          "execution_count": 11,
          "metadata": {},
          "output_type": "execute_result"
        }
      ],
      "source": [
        "tf.expand_dims(a, axis=-1)"
      ]
    },
    {
      "cell_type": "code",
      "execution_count": 12,
      "metadata": {
        "colab": {
          "base_uri": "https://localhost:8080/"
        },
        "id": "QfzWPPx_aWQz",
        "outputId": "d3ce3049-1fa5-4eee-ce8f-e7f84d332fa4"
      },
      "outputs": [
        {
          "data": {
            "text/plain": [
              "<tf.Tensor: shape=(2, 3, 4), dtype=int32, numpy=\n",
              "array([[[ 1,  2,  3,  4],\n",
              "        [ 5,  6,  7,  8],\n",
              "        [ 9, 10, 11, 12]],\n",
              "\n",
              "       [[13, 14, 15, 16],\n",
              "        [17, 18, 19, 20],\n",
              "        [21, 22, 23, 24]]], dtype=int32)>"
            ]
          },
          "execution_count": 12,
          "metadata": {},
          "output_type": "execute_result"
        }
      ],
      "source": [
        "tf.squeeze(a)"
      ]
    },
    {
      "cell_type": "markdown",
      "metadata": {
        "id": "GVS-JFhVZHx5"
      },
      "source": [
        "## Random Tensor Generators"
      ]
    },
    {
      "cell_type": "code",
      "execution_count": 13,
      "metadata": {
        "colab": {
          "base_uri": "https://localhost:8080/"
        },
        "id": "oh3QDOVdX_Uo",
        "outputId": "315ac57e-a010-489d-878e-d8749a2fe78d"
      },
      "outputs": [
        {
          "data": {
            "text/plain": [
              "<tf.Tensor: shape=(3, 2), dtype=bool, numpy=\n",
              "array([[False, False],\n",
              "       [False, False],\n",
              "       [False, False]])>"
            ]
          },
          "execution_count": 13,
          "metadata": {},
          "output_type": "execute_result"
        }
      ],
      "source": [
        "rand1 = tf.random.normal((3,2), seed=101)\n",
        "rand2 = tf.random.normal((3,2), seed=202)\n",
        "rand1 == rand2"
      ]
    },
    {
      "cell_type": "code",
      "execution_count": 14,
      "metadata": {
        "colab": {
          "base_uri": "https://localhost:8080/"
        },
        "id": "bvE25eR0ZX-Y",
        "outputId": "a46486be-a226-4d0b-8a06-ca127e6b5c15"
      },
      "outputs": [
        {
          "name": "stdout",
          "output_type": "stream",
          "text": [
            "tf.Tensor(\n",
            "[[0.06821764 0.7445649  0.63443744 0.8038496 ]\n",
            " [0.203704   0.8928938  0.30328155 0.44761705]\n",
            " [0.70831895 0.66599715 0.02255964 0.85973096]], shape=(3, 4), dtype=float32) tf.Tensor(\n",
            "[[0.70831895 0.66599715 0.02255964 0.85973096]\n",
            " [0.06821764 0.7445649  0.63443744 0.8038496 ]\n",
            " [0.203704   0.8928938  0.30328155 0.44761705]], shape=(3, 4), dtype=float32)\n"
          ]
        }
      ],
      "source": [
        "rand3 = tf.random.uniform((3,4), seed=101)\n",
        "rand3_s = tf.random.shuffle(rand3, seed=101)\n",
        "print(rand3, rand3_s)"
      ]
    },
    {
      "cell_type": "code",
      "execution_count": 15,
      "metadata": {
        "colab": {
          "base_uri": "https://localhost:8080/"
        },
        "id": "gVbkTG5UaKdh",
        "outputId": "db49e79e-922a-47bd-a234-740327c2d043"
      },
      "outputs": [
        {
          "data": {
            "text/plain": [
              "<tf.Tensor: shape=(3, 2), dtype=float32, numpy=\n",
              "array([[1., 1.],\n",
              "       [1., 1.],\n",
              "       [1., 1.]], dtype=float32)>"
            ]
          },
          "execution_count": 15,
          "metadata": {},
          "output_type": "execute_result"
        }
      ],
      "source": [
        "tf.ones(shape=(3,2))"
      ]
    },
    {
      "cell_type": "code",
      "execution_count": 16,
      "metadata": {
        "colab": {
          "base_uri": "https://localhost:8080/"
        },
        "id": "yYN1viLCaLJ1",
        "outputId": "07290dae-f056-4ec3-e3e0-ad07bf2caa2d"
      },
      "outputs": [
        {
          "data": {
            "text/plain": [
              "<tf.Tensor: shape=(2, 3), dtype=float32, numpy=\n",
              "array([[0., 0., 0.],\n",
              "       [0., 0., 0.]], dtype=float32)>"
            ]
          },
          "execution_count": 16,
          "metadata": {},
          "output_type": "execute_result"
        }
      ],
      "source": [
        "tf.zeros(shape=(2,3))"
      ]
    },
    {
      "cell_type": "markdown",
      "metadata": {
        "id": "B9XNS9Q8ahDi"
      },
      "source": [
        "## Basic Operations"
      ]
    },
    {
      "cell_type": "code",
      "execution_count": 17,
      "metadata": {
        "colab": {
          "base_uri": "https://localhost:8080/"
        },
        "id": "PRgwLixra4W_",
        "outputId": "ea2bbbd2-9f5b-482d-fc35-d37236c0088c"
      },
      "outputs": [
        {
          "data": {
            "text/plain": [
              "<tf.Tensor: shape=(3, 2), dtype=float32, numpy=\n",
              "array([[22.684002, 24.92088 ],\n",
              "       [24.100128, 25.316645],\n",
              "       [23.8881  , 26.394938]], dtype=float32)>"
            ]
          },
          "execution_count": 17,
          "metadata": {},
          "output_type": "execute_result"
        }
      ],
      "source": [
        "rand1 + 25"
      ]
    },
    {
      "cell_type": "code",
      "execution_count": 18,
      "metadata": {
        "colab": {
          "base_uri": "https://localhost:8080/"
        },
        "id": "osR0JLp4a77o",
        "outputId": "bba6a89b-9bd5-451f-92ee-c6c11675b3b3"
      },
      "outputs": [
        {
          "data": {
            "text/plain": [
              "<tf.Tensor: shape=(3, 2), dtype=float32, numpy=\n",
              "array([[-12.315997 , -10.079122 ],\n",
              "       [-10.899872 ,  -9.683355 ],\n",
              "       [-11.1119   ,  -8.6050625]], dtype=float32)>"
            ]
          },
          "execution_count": 18,
          "metadata": {},
          "output_type": "execute_result"
        }
      ],
      "source": [
        "rand1 -10"
      ]
    },
    {
      "cell_type": "code",
      "execution_count": 19,
      "metadata": {
        "colab": {
          "base_uri": "https://localhost:8080/"
        },
        "id": "rZ1Lm4BXZnBf",
        "outputId": "cfa73013-c377-48e5-d9b0-9f4e891505e0"
      },
      "outputs": [
        {
          "data": {
            "text/plain": [
              "<tf.Tensor: shape=(3, 3), dtype=float32, numpy=\n",
              "array([[ 2.405108  ,  0.63510007, -0.7041137 ],\n",
              "       [ 1.4321251 ,  0.41159612, -0.6258149 ],\n",
              "       [ 3.207335  ,  0.9848113 , -1.7909584 ]], dtype=float32)>"
            ]
          },
          "execution_count": 19,
          "metadata": {},
          "output_type": "execute_result"
        }
      ],
      "source": [
        "tf.matmul(rand1, tf.transpose(rand2))"
      ]
    },
    {
      "cell_type": "code",
      "execution_count": 20,
      "metadata": {
        "colab": {
          "base_uri": "https://localhost:8080/"
        },
        "id": "DJ64MXq1avWr",
        "outputId": "35461d89-7185-438f-9da9-257bbb5f4a35"
      },
      "outputs": [
        {
          "data": {
            "text/plain": [
              "<tf.Tensor: shape=(3, 3), dtype=float32, numpy=\n",
              "array([[ 2.405108  ,  0.63510007, -0.7041137 ],\n",
              "       [ 1.4321251 ,  0.41159612, -0.6258149 ],\n",
              "       [ 3.207335  ,  0.9848113 , -1.7909584 ]], dtype=float32)>"
            ]
          },
          "execution_count": 20,
          "metadata": {},
          "output_type": "execute_result"
        }
      ],
      "source": [
        "tf.tensordot(rand1, tf.transpose(rand2), axes=1)"
      ]
    },
    {
      "cell_type": "code",
      "execution_count": 21,
      "metadata": {
        "colab": {
          "base_uri": "https://localhost:8080/"
        },
        "id": "6Jf_yIokbAor",
        "outputId": "822bf69a-d1b7-4ab5-a50d-ebbd23c5cbc8"
      },
      "outputs": [
        {
          "data": {
            "text/plain": [
              "-0.024359882"
            ]
          },
          "execution_count": 21,
          "metadata": {},
          "output_type": "execute_result"
        }
      ],
      "source": [
        "tf.reduce_mean(rand2).numpy()"
      ]
    },
    {
      "cell_type": "code",
      "execution_count": 22,
      "metadata": {
        "colab": {
          "base_uri": "https://localhost:8080/"
        },
        "id": "x4Dw1DjpbiY7",
        "outputId": "b062b9d5-cd79-453a-9490-561194734ec8"
      },
      "outputs": [
        {
          "data": {
            "text/plain": [
              "0.88348025"
            ]
          },
          "execution_count": 22,
          "metadata": {},
          "output_type": "execute_result"
        }
      ],
      "source": [
        "tf.math.reduce_std(rand2).numpy()"
      ]
    },
    {
      "cell_type": "code",
      "execution_count": 23,
      "metadata": {
        "colab": {
          "base_uri": "https://localhost:8080/"
        },
        "id": "80WXugpgbpTA",
        "outputId": "99de487f-ec96-4560-bc33-baa153110987"
      },
      "outputs": [
        {
          "data": {
            "text/plain": [
              "<tf.Tensor: shape=(4,), dtype=int32, numpy=array([ 1,  4,  9, 16], dtype=int32)>"
            ]
          },
          "execution_count": 23,
          "metadata": {},
          "output_type": "execute_result"
        }
      ],
      "source": [
        "tf.square(tf.range(1,5))"
      ]
    },
    {
      "cell_type": "code",
      "execution_count": 24,
      "metadata": {
        "colab": {
          "base_uri": "https://localhost:8080/"
        },
        "id": "wR_9QSo-bv0G",
        "outputId": "de2a2aef-be79-4e89-b56b-167b90a505ce"
      },
      "outputs": [
        {
          "data": {
            "text/plain": [
              "<tf.Tensor: shape=(3, 3), dtype=float32, numpy=\n",
              "array([[1., 0., 0.],\n",
              "       [0., 1., 0.],\n",
              "       [0., 0., 1.]], dtype=float32)>"
            ]
          },
          "execution_count": 24,
          "metadata": {},
          "output_type": "execute_result"
        }
      ],
      "source": [
        "tf.one_hot([0,1,2], depth=3)"
      ]
    },
    {
      "cell_type": "code",
      "execution_count": 24,
      "metadata": {
        "id": "dHt_K4GubzRT"
      },
      "outputs": [],
      "source": []
    }
  ],
  "metadata": {
    "colab": {
      "collapsed_sections": [],
      "name": "00_Tensorflow Fundamentals.ipynb",
      "provenance": []
    },
    "kernelspec": {
      "display_name": "Python 3",
      "language": "python",
      "name": "python3"
    },
    "language_info": {
      "codemirror_mode": {
        "name": "ipython",
        "version": 3
      },
      "file_extension": ".py",
      "mimetype": "text/x-python",
      "name": "python",
      "nbconvert_exporter": "python",
      "pygments_lexer": "ipython3",
      "version": "3.6.9"
    }
  },
  "nbformat": 4,
  "nbformat_minor": 0
}
