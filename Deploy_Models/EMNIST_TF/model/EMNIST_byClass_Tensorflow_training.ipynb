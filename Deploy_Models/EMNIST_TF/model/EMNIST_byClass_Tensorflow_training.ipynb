{
  "nbformat": 4,
  "nbformat_minor": 0,
  "metadata": {
    "colab": {
      "name": "EMNIST_byClass_Tensorflow_training.ipynb",
      "provenance": [],
      "collapsed_sections": []
    },
    "kernelspec": {
      "name": "python3",
      "display_name": "Python 3"
    },
    "accelerator": "GPU"
  },
  "cells": [
    {
      "cell_type": "markdown",
      "metadata": {
        "id": "jONSN35XKwCt",
        "colab_type": "text"
      },
      "source": [
        "# EMNIST character classification by class\n"
      ]
    },
    {
      "cell_type": "markdown",
      "metadata": {
        "id": "fo0bCU7EDQHL",
        "colab_type": "text"
      },
      "source": [
        "## Download dataset and inflate"
      ]
    },
    {
      "cell_type": "code",
      "metadata": {
        "id": "7HpNzvrfZ2Xi",
        "colab_type": "code",
        "outputId": "623ffaf8-296e-4246-dae2-cbe223390d44",
        "colab": {
          "base_uri": "https://localhost:8080/",
          "height": 323
        }
      },
      "source": [
        "# Check if already downloaded\n",
        "check = !if [ -d 'dataset/' ]; then echo \"1\" ; else echo \"0\"; fi\n",
        "if (check[0] is '0' ):\n",
        "  !mkdir dataset\n",
        "  !wget 'https://www.itl.nist.gov/iaui/vip/cs_links/EMNIST/matlab.zip'\n",
        "  !unzip matlab.zip -d /content/dataset"
      ],
      "execution_count": 1,
      "outputs": [
        {
          "output_type": "stream",
          "text": [
            "--2020-04-13 04:24:28--  https://www.itl.nist.gov/iaui/vip/cs_links/EMNIST/matlab.zip\n",
            "Resolving www.itl.nist.gov (www.itl.nist.gov)... 129.6.13.51, 2610:20:6b01:4::36\n",
            "Connecting to www.itl.nist.gov (www.itl.nist.gov)|129.6.13.51|:443... connected.\n",
            "HTTP request sent, awaiting response... 200 OK\n",
            "Length: 743900280 (709M) [application/zip]\n",
            "Saving to: ‘matlab.zip’\n",
            "\n",
            "matlab.zip          100%[===================>] 709.44M  33.2MB/s    in 22s     \n",
            "\n",
            "2020-04-13 04:24:51 (32.0 MB/s) - ‘matlab.zip’ saved [743900280/743900280]\n",
            "\n",
            "Archive:  matlab.zip\n",
            "  inflating: /content/dataset/matlab/emnist-balanced.mat  \n",
            "  inflating: /content/dataset/matlab/emnist-byclass.mat  \n",
            "  inflating: /content/dataset/matlab/emnist-bymerge.mat  \n",
            "  inflating: /content/dataset/matlab/emnist-digits.mat  \n",
            "  inflating: /content/dataset/matlab/emnist-letters.mat  \n",
            "  inflating: /content/dataset/matlab/emnist-mnist.mat  \n"
          ],
          "name": "stdout"
        }
      ]
    },
    {
      "cell_type": "markdown",
      "metadata": {
        "id": "LLNOGDy6KwDL",
        "colab_type": "text"
      },
      "source": [
        "## Importing libraries"
      ]
    },
    {
      "cell_type": "code",
      "metadata": {
        "id": "QeWnXMacKwDk",
        "colab_type": "code",
        "colab": {}
      },
      "source": [
        "import numpy as np\n",
        "import matplotlib.pyplot as plt\n",
        "%matplotlib inline\n",
        "import tensorflow as tf"
      ],
      "execution_count": 0,
      "outputs": []
    },
    {
      "cell_type": "code",
      "metadata": {
        "id": "8d_Zztq6E1zl",
        "colab_type": "code",
        "outputId": "6f787275-c75a-4503-d8a1-e88435c52488",
        "colab": {
          "base_uri": "https://localhost:8080/",
          "height": 306
        }
      },
      "source": [
        "# Check if GPU is available\n",
        "!nvidia-smi"
      ],
      "execution_count": 2,
      "outputs": [
        {
          "output_type": "stream",
          "text": [
            "Mon Apr 13 05:45:59 2020       \n",
            "+-----------------------------------------------------------------------------+\n",
            "| NVIDIA-SMI 440.64.00    Driver Version: 418.67       CUDA Version: 10.1     |\n",
            "|-------------------------------+----------------------+----------------------+\n",
            "| GPU  Name        Persistence-M| Bus-Id        Disp.A | Volatile Uncorr. ECC |\n",
            "| Fan  Temp  Perf  Pwr:Usage/Cap|         Memory-Usage | GPU-Util  Compute M. |\n",
            "|===============================+======================+======================|\n",
            "|   0  Tesla P100-PCIE...  Off  | 00000000:00:04.0 Off |                    0 |\n",
            "| N/A   34C    P0    24W / 250W |      0MiB / 16280MiB |      0%      Default |\n",
            "+-------------------------------+----------------------+----------------------+\n",
            "                                                                               \n",
            "+-----------------------------------------------------------------------------+\n",
            "| Processes:                                                       GPU Memory |\n",
            "|  GPU       PID   Type   Process name                             Usage      |\n",
            "|=============================================================================|\n",
            "|  No running processes found                                                 |\n",
            "+-----------------------------------------------------------------------------+\n"
          ],
          "name": "stdout"
        }
      ]
    },
    {
      "cell_type": "markdown",
      "metadata": {
        "id": "LeHMNj5jKwHA",
        "colab_type": "text"
      },
      "source": [
        "# Load EMNIST Characters dataset by Class\n",
        "Introduced by https://arxiv.org/abs/1702.05373v1 downloaded from https://www.nist.gov/itl/iad/image-group/emnist-dataset (Matlab format dataset). The matlab format dataset can be conveniently imported with scipy.io.loadmat."
      ]
    },
    {
      "cell_type": "code",
      "metadata": {
        "id": "kKCYBNu-aW67",
        "colab_type": "code",
        "colab": {}
      },
      "source": [
        "from scipy import io as spio\n",
        "emnist = spio.loadmat(\"/content/dataset/matlab/emnist-byclass.mat\")"
      ],
      "execution_count": 0,
      "outputs": []
    },
    {
      "cell_type": "code",
      "metadata": {
        "id": "aWN-q6ntKwIX",
        "colab_type": "code",
        "colab": {}
      },
      "source": [
        "# load training dataset\n",
        "x_train = emnist[\"dataset\"][0][0][0][0][0][0]\n",
        "x_train = x_train.astype(np.float32)\n",
        "\n",
        "# load training labels\n",
        "y_train = emnist[\"dataset\"][0][0][0][0][0][1]"
      ],
      "execution_count": 0,
      "outputs": []
    },
    {
      "cell_type": "code",
      "metadata": {
        "id": "w0hyN09iKwJO",
        "colab_type": "code",
        "colab": {}
      },
      "source": [
        "# load test dataset\n",
        "x_test = emnist[\"dataset\"][0][0][1][0][0][0]\n",
        "x_test = x_test.astype(np.float32)\n",
        "\n",
        "# load test labels\n",
        "y_test = emnist[\"dataset\"][0][0][1][0][0][1]"
      ],
      "execution_count": 0,
      "outputs": []
    },
    {
      "cell_type": "code",
      "metadata": {
        "id": "8PNUgYCSKwJ_",
        "colab_type": "code",
        "outputId": "f48513f4-a58a-4d30-bfc0-66e9da319997",
        "colab": {
          "base_uri": "https://localhost:8080/",
          "height": 51
        }
      },
      "source": [
        "# store labels for visualization\n",
        "train_labels = y_train\n",
        "test_labels = y_test\n",
        "\n",
        "print (x_train.shape)\n",
        "print (y_train.shape)"
      ],
      "execution_count": 6,
      "outputs": [
        {
          "output_type": "stream",
          "text": [
            "(697932, 784)\n",
            "(697932, 1)\n"
          ],
          "name": "stdout"
        }
      ]
    },
    {
      "cell_type": "code",
      "metadata": {
        "id": "P477eyC1KwOf",
        "colab_type": "code",
        "outputId": "50016b36-1d0f-45af-b628-6be11dbaeedd",
        "colab": {
          "base_uri": "https://localhost:8080/",
          "height": 34
        }
      },
      "source": [
        "# Preprocess input data, reshape using matlab order\n",
        "x_train = x_train.reshape(x_train.shape[0], 28, 28, 1, order=\"A\")\n",
        "x_test = x_test.reshape(x_test.shape[0], 28, 28, 1, order=\"A\")\n",
        "\n",
        "# normalized by 255\n",
        "x_train /= 255\n",
        "x_test /= 255\n",
        "\n",
        "x_train.shape"
      ],
      "execution_count": 7,
      "outputs": [
        {
          "output_type": "execute_result",
          "data": {
            "text/plain": [
              "(697932, 28, 28, 1)"
            ]
          },
          "metadata": {
            "tags": []
          },
          "execution_count": 7
        }
      ]
    },
    {
      "cell_type": "code",
      "metadata": {
        "id": "BcUFOIvUKwQz",
        "colab_type": "code",
        "outputId": "4dc1864b-291b-412b-d0a9-166f3a1f00d0",
        "colab": {
          "base_uri": "https://localhost:8080/",
          "height": 51
        }
      },
      "source": [
        "from tensorflow.keras.utils import to_categorical\n",
        "\n",
        "# Preprocess class labels\n",
        "## EMNIST ByClass: 814,255 characters. 62 unbalanced classes.\n",
        "## Convert 1-dimensional class arrays to 62-dimensional class matrices\n",
        "\n",
        "number_classes = 62\n",
        "\n",
        "y_train = to_categorical(y_train, number_classes)\n",
        "y_test = to_categorical(y_test,  number_classes)\n",
        "\n",
        "print (y_train.shape)\n",
        "print (y_test.shape)"
      ],
      "execution_count": 8,
      "outputs": [
        {
          "output_type": "stream",
          "text": [
            "(697932, 62)\n",
            "(116323, 62)\n"
          ],
          "name": "stdout"
        }
      ]
    },
    {
      "cell_type": "markdown",
      "metadata": {
        "id": "BRWrGVIzKwRs",
        "colab_type": "text"
      },
      "source": [
        "## EDA"
      ]
    },
    {
      "cell_type": "code",
      "metadata": {
        "id": "MQ3ixO_QUT_6",
        "colab_type": "code",
        "colab": {}
      },
      "source": [
        "class_idx = ['0','1','2','3','4','5','6','7','8','9',\n",
        "             'A','B','C','D','E','F','G','H','I','J','K','L','M','N','O','P','Q','R','S','T','U','V','W','X','Y','Z',\n",
        "             'a','b','c','d','e','f','g','h','i','j','k','l','m','n','o','p','q','r','s','t','u','v','w','x','y','z']"
      ],
      "execution_count": 0,
      "outputs": []
    },
    {
      "cell_type": "code",
      "metadata": {
        "scrolled": true,
        "id": "9CJa7hUaKwTV",
        "colab_type": "code",
        "outputId": "b4f288b5-2d93-4abb-efa3-d5fd239cfbd1",
        "colab": {
          "base_uri": "https://localhost:8080/",
          "height": 282
        }
      },
      "source": [
        "# which sample to look at\n",
        "samplenum = 11500\n",
        "img = x_train[samplenum]\n",
        "\n",
        "# visualize image\n",
        "plt.imshow(img[:,:,0], cmap='gray')"
      ],
      "execution_count": 10,
      "outputs": [
        {
          "output_type": "execute_result",
          "data": {
            "text/plain": [
              "<matplotlib.image.AxesImage at 0x7faaa136cac8>"
            ]
          },
          "metadata": {
            "tags": []
          },
          "execution_count": 10
        },
        {
          "output_type": "display_data",
          "data": {
            "image/png": "[encoded data removed]",
            "text/plain": [
              "<Figure size 432x288 with 1 Axes>"
            ]
          },
          "metadata": {
            "tags": [],
            "needs_background": "light"
          }
        }
      ]
    },
    {
      "cell_type": "code",
      "metadata": {
        "id": "hueA-3mwKwU4",
        "colab_type": "code",
        "outputId": "ce9a4b47-e8de-4656-8433-dcd9118d97c0",
        "colab": {
          "base_uri": "https://localhost:8080/",
          "height": 34
        }
      },
      "source": [
        "# show label for sample image\n",
        "index = train_labels[samplenum][0]\n",
        "class_idx[index]"
      ],
      "execution_count": 11,
      "outputs": [
        {
          "output_type": "execute_result",
          "data": {
            "text/plain": [
              "'E'"
            ]
          },
          "metadata": {
            "tags": []
          },
          "execution_count": 11
        }
      ]
    },
    {
      "cell_type": "code",
      "metadata": {
        "id": "3j34ohR0Ducm",
        "colab_type": "code",
        "outputId": "1d363573-3a2f-4b5e-fc78-5d2d32e390d2",
        "colab": {
          "base_uri": "https://localhost:8080/",
          "height": 94
        }
      },
      "source": [
        "# visualize train samples\n",
        "fig = plt.figure(figsize=(12,6))\n",
        "for i in range(12):\n",
        "  rows = 2\n",
        "  columns = 12\n",
        "  sp = fig.add_subplot( rows, columns , i+1)                 # plot a matrix with 2 rows and 12 columns\n",
        "  sp.axis('Off')                                             # removes background grill\n",
        "  img = x_train[i]                                        \n",
        "  plt.imshow(img[:,:,0], cmap='gray', interpolation='none')  # prints image\n",
        "  index = train_labels[i][0]\n",
        "  plt.title(\"Letter: \" + str( class_idx[ index ] ))          # adds title to the letter or number"
      ],
      "execution_count": 12,
      "outputs": [
        {
          "output_type": "display_data",
          "data": {
            "image/png": "[encoded data removed]",
            "text/plain": [
              "<Figure size 864x432 with 12 Axes>"
            ]
          },
          "metadata": {
            "tags": [],
            "needs_background": "light"
          }
        }
      ]
    },
    {
      "cell_type": "markdown",
      "metadata": {
        "id": "BxKt62uvKwZn",
        "colab_type": "text"
      },
      "source": [
        "## Data augmentation"
      ]
    },
    {
      "cell_type": "code",
      "metadata": {
        "id": "Ywjx6EWRKwau",
        "colab_type": "code",
        "colab": {}
      },
      "source": [
        "from tensorflow.keras.preprocessing.image import ImageDataGenerator\n",
        "batch_size = 512\n",
        "gen = ImageDataGenerator(rotation_range=12, width_shift_range=0.1, shear_range=0.3,\n",
        "                        height_shift_range=0.1, zoom_range=0.1, data_format='channels_last')\n",
        "batches = gen.flow(x_train, y_train, batch_size=batch_size)\n",
        "test_batches = gen.flow(x_test, y_test, batch_size=batch_size)\n",
        "steps_per_epoch = int(np.ceil(batches.n/batch_size))\n",
        "validation_steps = int(np.ceil(test_batches.n/batch_size))"
      ],
      "execution_count": 0,
      "outputs": []
    },
    {
      "cell_type": "code",
      "metadata": {
        "id": "-FDpnFlyKwbQ",
        "colab_type": "code",
        "outputId": "08c193cc-dd39-4152-a864-db0bd6aedd3f",
        "colab": {
          "base_uri": "https://localhost:8080/",
          "height": 282
        }
      },
      "source": [
        "# load ONE image from training set to display on screen\n",
        "img = x_train[1]\n",
        "\n",
        "# visualize original image\n",
        "plt.imshow(img[:,:,0], cmap='gray')"
      ],
      "execution_count": 15,
      "outputs": [
        {
          "output_type": "execute_result",
          "data": {
            "text/plain": [
              "<matplotlib.image.AxesImage at 0x7faaa0a308d0>"
            ]
          },
          "metadata": {
            "tags": []
          },
          "execution_count": 15
        },
        {
          "output_type": "display_data",
          "data": {
            "image/png": "[encoded data removed]",
            "text/plain": [
              "<Figure size 432x288 with 1 Axes>"
            ]
          },
          "metadata": {
            "tags": [],
            "needs_background": "light"
          }
        }
      ]
    },
    {
      "cell_type": "code",
      "metadata": {
        "id": "ePhRmhflKwb1",
        "colab_type": "code",
        "colab": {
          "base_uri": "https://localhost:8080/",
          "height": 34
        },
        "outputId": "e873e5de-9491-4c3f-fc95-4d00d3afd6b6"
      },
      "source": [
        "# trick our generator into believing img has enough dimensions\n",
        "# and get some augmented images for our single test image\n",
        "img = np.expand_dims(img, axis=0)\n",
        "aug_iter = gen.flow(img)\n",
        "aug_img = next(aug_iter)[0].astype(np.float32)\n",
        "aug_img.shape"
      ],
      "execution_count": 16,
      "outputs": [
        {
          "output_type": "execute_result",
          "data": {
            "text/plain": [
              "(28, 28, 1)"
            ]
          },
          "metadata": {
            "tags": []
          },
          "execution_count": 16
        }
      ]
    },
    {
      "cell_type": "code",
      "metadata": {
        "id": "wsKl8FrSKwck",
        "colab_type": "code",
        "outputId": "2571a1d1-b385-4737-8ee6-9fc74d6b9de1",
        "colab": {
          "base_uri": "https://localhost:8080/",
          "height": 102
        }
      },
      "source": [
        "# show augmented images\n",
        "f = plt.figure(figsize=(12,6))\n",
        "for i in range(8):\n",
        "    sp = f.add_subplot(2, 26//3, i+1)\n",
        "    sp.axis('Off')\n",
        "    aug_img = next(aug_iter)[0].astype(np.float32)\n",
        "    plt.imshow(aug_img[:,:,0], cmap='gray') # images are stored as (img_size, image_size, channel)  to print it we should call it img [;,;,0]"
      ],
      "execution_count": 17,
      "outputs": [
        {
          "output_type": "display_data",
          "data": {
            "image/png": "[encoded data removed]",
            "text/plain": [
              "<Figure size 864x432 with 8 Axes>"
            ]
          },
          "metadata": {
            "tags": [],
            "needs_background": "light"
          }
        }
      ]
    },
    {
      "cell_type": "markdown",
      "metadata": {
        "id": "d18YSeUD9mrZ",
        "colab_type": "text"
      },
      "source": [
        "## Build the network"
      ]
    },
    {
      "cell_type": "code",
      "metadata": {
        "id": "XxDl-hYAbdS-",
        "colab_type": "code",
        "colab": {}
      },
      "source": [
        "import os                   \n",
        "from tensorflow.keras.models import Sequential\n",
        "from tensorflow.keras.layers import Dense, Dropout, Activation, Flatten, Conv2D, MaxPool2D, BatchNormalization"
      ],
      "execution_count": 0,
      "outputs": []
    },
    {
      "cell_type": "code",
      "metadata": {
        "id": "Ujbqs7B7f3jT",
        "colab_type": "code",
        "outputId": "6e56ffaf-1f07-4d95-9e0f-6421f84b74e8",
        "colab": {
          "base_uri": "https://localhost:8080/",
          "height": 51
        }
      },
      "source": [
        "print(x_train.shape)\n",
        "print(len(y_train))"
      ],
      "execution_count": 19,
      "outputs": [
        {
          "output_type": "stream",
          "text": [
            "(697932, 28, 28, 1)\n",
            "697932\n"
          ],
          "name": "stdout"
        }
      ]
    },
    {
      "cell_type": "code",
      "metadata": {
        "id": "GD3Cu6zbbt8H",
        "colab_type": "code",
        "colab": {
          "base_uri": "https://localhost:8080/",
          "height": 799
        },
        "outputId": "2fde86d0-596b-4c43-bfd8-2928c95ec825"
      },
      "source": [
        "#Define the Model\n",
        "model = Sequential()\n",
        "\n",
        "#Layer 1\n",
        "model.add(Conv2D(32, (3, 3), use_bias = False, input_shape=(28, 28, 1)))\n",
        "model.add(BatchNormalization())\n",
        "model.add(Activation('relu'))\n",
        "\n",
        "#Layer 2\n",
        "model.add(Conv2D(64, (3, 3), use_bias = False))\n",
        "model.add(BatchNormalization())\n",
        "model.add(Activation('relu'))\n",
        "model.add(MaxPool2D((2,2)))\n",
        "\n",
        "#Layer 3\n",
        "model.add(Conv2D(64, (3, 3), use_bias = False))\n",
        "model.add(BatchNormalization())\n",
        "model.add(Activation('relu'))\n",
        "model.add(MaxPool2D((2,2)))\n",
        "\n",
        "#Dropout layer\n",
        "model.add(Dropout(0.2))\n",
        "\n",
        "#Layer 4\n",
        "model.add(Conv2D(128, (3, 3), use_bias = False))\n",
        "model.add(BatchNormalization())\n",
        "model.add(Activation('relu'))\n",
        "\n",
        "#Dropout layer\n",
        "model.add(Dropout(0.4))\n",
        "\n",
        "#Output Layer\n",
        "model.add(Conv2D(62, (3,3), use_bias = False))\n",
        "model.add(Flatten())\n",
        "model.add(Activation('softmax'))\n",
        "\n",
        "#Model Summary\n",
        "model.summary()"
      ],
      "execution_count": 20,
      "outputs": [
        {
          "output_type": "stream",
          "text": [
            "Model: \"sequential\"\n",
            "_________________________________________________________________\n",
            "Layer (type)                 Output Shape              Param #   \n",
            "=================================================================\n",
            "conv2d (Conv2D)              (None, 26, 26, 32)        288       \n",
            "_________________________________________________________________\n",
            "batch_normalization (BatchNo (None, 26, 26, 32)        128       \n",
            "_________________________________________________________________\n",
            "activation (Activation)      (None, 26, 26, 32)        0         \n",
            "_________________________________________________________________\n",
            "conv2d_1 (Conv2D)            (None, 24, 24, 64)        18432     \n",
            "_________________________________________________________________\n",
            "batch_normalization_1 (Batch (None, 24, 24, 64)        256       \n",
            "_________________________________________________________________\n",
            "activation_1 (Activation)    (None, 24, 24, 64)        0         \n",
            "_________________________________________________________________\n",
            "max_pooling2d (MaxPooling2D) (None, 12, 12, 64)        0         \n",
            "_________________________________________________________________\n",
            "conv2d_2 (Conv2D)            (None, 10, 10, 64)        36864     \n",
            "_________________________________________________________________\n",
            "batch_normalization_2 (Batch (None, 10, 10, 64)        256       \n",
            "_________________________________________________________________\n",
            "activation_2 (Activation)    (None, 10, 10, 64)        0         \n",
            "_________________________________________________________________\n",
            "max_pooling2d_1 (MaxPooling2 (None, 5, 5, 64)          0         \n",
            "_________________________________________________________________\n",
            "dropout (Dropout)            (None, 5, 5, 64)          0         \n",
            "_________________________________________________________________\n",
            "conv2d_3 (Conv2D)            (None, 3, 3, 128)         73728     \n",
            "_________________________________________________________________\n",
            "batch_normalization_3 (Batch (None, 3, 3, 128)         512       \n",
            "_________________________________________________________________\n",
            "activation_3 (Activation)    (None, 3, 3, 128)         0         \n",
            "_________________________________________________________________\n",
            "dropout_1 (Dropout)          (None, 3, 3, 128)         0         \n",
            "_________________________________________________________________\n",
            "conv2d_4 (Conv2D)            (None, 1, 1, 62)          71424     \n",
            "_________________________________________________________________\n",
            "flatten (Flatten)            (None, 62)                0         \n",
            "_________________________________________________________________\n",
            "activation_4 (Activation)    (None, 62)                0         \n",
            "=================================================================\n",
            "Total params: 201,888\n",
            "Trainable params: 201,312\n",
            "Non-trainable params: 576\n",
            "_________________________________________________________________\n"
          ],
          "name": "stdout"
        }
      ]
    },
    {
      "cell_type": "markdown",
      "metadata": {
        "id": "MqgjRECMPvtw",
        "colab_type": "text"
      },
      "source": [
        "## Compile the network"
      ]
    },
    {
      "cell_type": "code",
      "metadata": {
        "id": "L28A5LcrSgCy",
        "colab_type": "code",
        "colab": {}
      },
      "source": [
        "# Compile model\n",
        "model.compile(loss='categorical_crossentropy',\n",
        "            optimizer='adam',\n",
        "            metrics=['accuracy'])"
      ],
      "execution_count": 0,
      "outputs": []
    },
    {
      "cell_type": "markdown",
      "metadata": {
        "id": "0XFuLpxQXNa6",
        "colab_type": "text"
      },
      "source": [
        "## Train the model"
      ]
    },
    {
      "cell_type": "code",
      "metadata": {
        "id": "mmnEI7wubtq1",
        "colab_type": "code",
        "outputId": "e9f88564-5bf3-4780-b6cb-39d21ff22feb",
        "colab": {
          "base_uri": "https://localhost:8080/",
          "height": 1000
        }
      },
      "source": [
        "from tensorflow.keras.callbacks import ModelCheckpoint\n",
        "batch_size = 128\n",
        "epochs = 30\n",
        "checkpointer = ModelCheckpoint(filepath=\"model.h5\", verbose=1, save_best_only=True, \n",
        "                               monitor=\"val_accuracy\")\n",
        "\n",
        "# Fit model on training data\n",
        "history = model.fit(x_train, y_train,\n",
        "                    batch_size, \n",
        "                    epochs, \n",
        "                    verbose=1, \n",
        "                    callbacks = [checkpointer], \n",
        "                    validation_data=(x_test, y_test))"
      ],
      "execution_count": 22,
      "outputs": [
        {
          "output_type": "stream",
          "text": [
            "Epoch 1/30\n",
            "5453/5453 [==============================] - ETA: 0s - loss: 0.5098 - accuracy: 0.8261\n",
            "Epoch 00001: val_accuracy improved from -inf to 0.85899, saving model to model.h5\n",
            "5453/5453 [==============================] - 41s 8ms/step - loss: 0.5098 - accuracy: 0.8261 - val_loss: 0.3859 - val_accuracy: 0.8590\n",
            "Epoch 2/30\n",
            "5451/5453 [============================>.] - ETA: 0s - loss: 0.4037 - accuracy: 0.8534\n",
            "Epoch 00002: val_accuracy improved from 0.85899 to 0.86713, saving model to model.h5\n",
            "5453/5453 [==============================] - 42s 8ms/step - loss: 0.4037 - accuracy: 0.8534 - val_loss: 0.3637 - val_accuracy: 0.8671\n",
            "Epoch 3/30\n",
            "5448/5453 [============================>.] - ETA: 0s - loss: 0.3832 - accuracy: 0.8596\n",
            "Epoch 00003: val_accuracy improved from 0.86713 to 0.87133, saving model to model.h5\n",
            "5453/5453 [==============================] - 41s 8ms/step - loss: 0.3832 - accuracy: 0.8596 - val_loss: 0.3475 - val_accuracy: 0.8713\n",
            "Epoch 4/30\n",
            "5451/5453 [============================>.] - ETA: 0s - loss: 0.3712 - accuracy: 0.8634\n",
            "Epoch 00004: val_accuracy did not improve from 0.87133\n",
            "5453/5453 [==============================] - 41s 8ms/step - loss: 0.3711 - accuracy: 0.8634 - val_loss: 0.3456 - val_accuracy: 0.8711\n",
            "Epoch 5/30\n",
            "5452/5453 [============================>.] - ETA: 0s - loss: 0.3627 - accuracy: 0.8660\n",
            "Epoch 00005: val_accuracy did not improve from 0.87133\n",
            "5453/5453 [==============================] - 41s 8ms/step - loss: 0.3627 - accuracy: 0.8659 - val_loss: 0.3440 - val_accuracy: 0.8708\n",
            "Epoch 6/30\n",
            "5451/5453 [============================>.] - ETA: 0s - loss: 0.3572 - accuracy: 0.8675\n",
            "Epoch 00006: val_accuracy improved from 0.87133 to 0.87456, saving model to model.h5\n",
            "5453/5453 [==============================] - 41s 8ms/step - loss: 0.3572 - accuracy: 0.8675 - val_loss: 0.3345 - val_accuracy: 0.8746\n",
            "Epoch 7/30\n",
            "5446/5453 [============================>.] - ETA: 0s - loss: 0.3526 - accuracy: 0.8689\n",
            "Epoch 00007: val_accuracy did not improve from 0.87456\n",
            "5453/5453 [==============================] - 41s 7ms/step - loss: 0.3526 - accuracy: 0.8689 - val_loss: 0.3339 - val_accuracy: 0.8737\n",
            "Epoch 8/30\n",
            "5447/5453 [============================>.] - ETA: 0s - loss: 0.3494 - accuracy: 0.8693\n",
            "Epoch 00008: val_accuracy did not improve from 0.87456\n",
            "5453/5453 [==============================] - 41s 8ms/step - loss: 0.3494 - accuracy: 0.8693 - val_loss: 0.3318 - val_accuracy: 0.8742\n",
            "Epoch 9/30\n",
            "5451/5453 [============================>.] - ETA: 0s - loss: 0.3456 - accuracy: 0.8709\n",
            "Epoch 00009: val_accuracy improved from 0.87456 to 0.87481, saving model to model.h5\n",
            "5453/5453 [==============================] - 41s 8ms/step - loss: 0.3456 - accuracy: 0.8709 - val_loss: 0.3321 - val_accuracy: 0.8748\n",
            "Epoch 10/30\n",
            "5449/5453 [============================>.] - ETA: 0s - loss: 0.3424 - accuracy: 0.8720\n",
            "Epoch 00010: val_accuracy improved from 0.87481 to 0.87518, saving model to model.h5\n",
            "5453/5453 [==============================] - 41s 8ms/step - loss: 0.3424 - accuracy: 0.8720 - val_loss: 0.3301 - val_accuracy: 0.8752\n",
            "Epoch 11/30\n",
            "5451/5453 [============================>.] - ETA: 0s - loss: 0.3405 - accuracy: 0.8724\n",
            "Epoch 00011: val_accuracy improved from 0.87518 to 0.87642, saving model to model.h5\n",
            "5453/5453 [==============================] - 41s 8ms/step - loss: 0.3405 - accuracy: 0.8724 - val_loss: 0.3299 - val_accuracy: 0.8764\n",
            "Epoch 12/30\n",
            "5452/5453 [============================>.] - ETA: 0s - loss: 0.3382 - accuracy: 0.8733\n",
            "Epoch 00012: val_accuracy did not improve from 0.87642\n",
            "5453/5453 [==============================] - 41s 8ms/step - loss: 0.3382 - accuracy: 0.8733 - val_loss: 0.3281 - val_accuracy: 0.8761\n",
            "Epoch 13/30\n",
            "5450/5453 [============================>.] - ETA: 0s - loss: 0.3365 - accuracy: 0.8735\n",
            "Epoch 00013: val_accuracy improved from 0.87642 to 0.87753, saving model to model.h5\n",
            "5453/5453 [==============================] - 41s 8ms/step - loss: 0.3365 - accuracy: 0.8736 - val_loss: 0.3269 - val_accuracy: 0.8775\n",
            "Epoch 14/30\n",
            "5453/5453 [==============================] - ETA: 0s - loss: 0.3348 - accuracy: 0.8740\n",
            "Epoch 00014: val_accuracy did not improve from 0.87753\n",
            "5453/5453 [==============================] - 42s 8ms/step - loss: 0.3348 - accuracy: 0.8740 - val_loss: 0.3260 - val_accuracy: 0.8772\n",
            "Epoch 15/30\n",
            "5452/5453 [============================>.] - ETA: 0s - loss: 0.3329 - accuracy: 0.8747\n",
            "Epoch 00015: val_accuracy did not improve from 0.87753\n",
            "5453/5453 [==============================] - 41s 8ms/step - loss: 0.3329 - accuracy: 0.8747 - val_loss: 0.3252 - val_accuracy: 0.8775\n",
            "Epoch 16/30\n",
            "5453/5453 [==============================] - ETA: 0s - loss: 0.3311 - accuracy: 0.8748\n",
            "Epoch 00016: val_accuracy improved from 0.87753 to 0.87797, saving model to model.h5\n",
            "5453/5453 [==============================] - 41s 8ms/step - loss: 0.3311 - accuracy: 0.8748 - val_loss: 0.3239 - val_accuracy: 0.8780\n",
            "Epoch 17/30\n",
            "5451/5453 [============================>.] - ETA: 0s - loss: 0.3294 - accuracy: 0.8754\n",
            "Epoch 00017: val_accuracy did not improve from 0.87797\n",
            "5453/5453 [==============================] - 41s 8ms/step - loss: 0.3294 - accuracy: 0.8754 - val_loss: 0.3235 - val_accuracy: 0.8777\n",
            "Epoch 18/30\n",
            "5447/5453 [============================>.] - ETA: 0s - loss: 0.3285 - accuracy: 0.8757\n",
            "Epoch 00018: val_accuracy did not improve from 0.87797\n",
            "5453/5453 [==============================] - 41s 7ms/step - loss: 0.3286 - accuracy: 0.8757 - val_loss: 0.3260 - val_accuracy: 0.8774\n",
            "Epoch 19/30\n",
            "5452/5453 [============================>.] - ETA: 0s - loss: 0.3268 - accuracy: 0.8766\n",
            "Epoch 00019: val_accuracy did not improve from 0.87797\n",
            "5453/5453 [==============================] - 41s 8ms/step - loss: 0.3268 - accuracy: 0.8766 - val_loss: 0.3270 - val_accuracy: 0.8778\n",
            "Epoch 20/30\n",
            "5449/5453 [============================>.] - ETA: 0s - loss: 0.3260 - accuracy: 0.8767\n",
            "Epoch 00020: val_accuracy improved from 0.87797 to 0.87895, saving model to model.h5\n",
            "5453/5453 [==============================] - 41s 8ms/step - loss: 0.3261 - accuracy: 0.8766 - val_loss: 0.3227 - val_accuracy: 0.8789\n",
            "Epoch 21/30\n",
            "5453/5453 [==============================] - ETA: 0s - loss: 0.3246 - accuracy: 0.8768\n",
            "Epoch 00021: val_accuracy did not improve from 0.87895\n",
            "5453/5453 [==============================] - 41s 8ms/step - loss: 0.3246 - accuracy: 0.8768 - val_loss: 0.3226 - val_accuracy: 0.8785\n",
            "Epoch 22/30\n",
            "5450/5453 [============================>.] - ETA: 0s - loss: 0.3238 - accuracy: 0.8775\n",
            "Epoch 00022: val_accuracy did not improve from 0.87895\n",
            "5453/5453 [==============================] - 41s 8ms/step - loss: 0.3238 - accuracy: 0.8775 - val_loss: 0.3226 - val_accuracy: 0.8787\n",
            "Epoch 23/30\n",
            "5448/5453 [============================>.] - ETA: 0s - loss: 0.3231 - accuracy: 0.8775\n",
            "Epoch 00023: val_accuracy did not improve from 0.87895\n",
            "5453/5453 [==============================] - 42s 8ms/step - loss: 0.3231 - accuracy: 0.8775 - val_loss: 0.3233 - val_accuracy: 0.8787\n",
            "Epoch 24/30\n",
            "5446/5453 [============================>.] - ETA: 0s - loss: 0.3215 - accuracy: 0.8780\n",
            "Epoch 00024: val_accuracy did not improve from 0.87895\n",
            "5453/5453 [==============================] - 41s 8ms/step - loss: 0.3215 - accuracy: 0.8780 - val_loss: 0.3240 - val_accuracy: 0.8776\n",
            "Epoch 25/30\n",
            "5452/5453 [============================>.] - ETA: 0s - loss: 0.3206 - accuracy: 0.8785\n",
            "Epoch 00025: val_accuracy did not improve from 0.87895\n",
            "5453/5453 [==============================] - 41s 8ms/step - loss: 0.3206 - accuracy: 0.8785 - val_loss: 0.3219 - val_accuracy: 0.8789\n",
            "Epoch 26/30\n",
            "5453/5453 [==============================] - ETA: 0s - loss: 0.3198 - accuracy: 0.8785\n",
            "Epoch 00026: val_accuracy improved from 0.87895 to 0.87987, saving model to model.h5\n",
            "5453/5453 [==============================] - 41s 8ms/step - loss: 0.3198 - accuracy: 0.8785 - val_loss: 0.3207 - val_accuracy: 0.8799\n",
            "Epoch 27/30\n",
            "5453/5453 [==============================] - ETA: 0s - loss: 0.3188 - accuracy: 0.8789\n",
            "Epoch 00027: val_accuracy did not improve from 0.87987\n",
            "5453/5453 [==============================] - 41s 8ms/step - loss: 0.3188 - accuracy: 0.8789 - val_loss: 0.3233 - val_accuracy: 0.8795\n",
            "Epoch 28/30\n",
            "5449/5453 [============================>.] - ETA: 0s - loss: 0.3186 - accuracy: 0.8786\n",
            "Epoch 00028: val_accuracy did not improve from 0.87987\n",
            "5453/5453 [==============================] - 41s 7ms/step - loss: 0.3187 - accuracy: 0.8785 - val_loss: 0.3223 - val_accuracy: 0.8784\n",
            "Epoch 29/30\n",
            "5447/5453 [============================>.] - ETA: 0s - loss: 0.3174 - accuracy: 0.8792\n",
            "Epoch 00029: val_accuracy did not improve from 0.87987\n",
            "5453/5453 [==============================] - 41s 8ms/step - loss: 0.3175 - accuracy: 0.8792 - val_loss: 0.3212 - val_accuracy: 0.8797\n",
            "Epoch 30/30\n",
            "5448/5453 [============================>.] - ETA: 0s - loss: 0.3171 - accuracy: 0.8792\n",
            "Epoch 00030: val_accuracy did not improve from 0.87987\n",
            "5453/5453 [==============================] - 41s 8ms/step - loss: 0.3171 - accuracy: 0.8792 - val_loss: 0.3226 - val_accuracy: 0.8786\n"
          ],
          "name": "stdout"
        }
      ]
    },
    {
      "cell_type": "markdown",
      "metadata": {
        "id": "Ev6wx9AZg6S3",
        "colab_type": "text"
      },
      "source": [
        "## Plot training history"
      ]
    },
    {
      "cell_type": "code",
      "metadata": {
        "id": "QOgyrrBThsry",
        "colab_type": "code",
        "outputId": "e0479db9-b2d5-4ab3-8bd5-211c597bfb8f",
        "colab": {
          "base_uri": "https://localhost:8080/",
          "height": 297
        }
      },
      "source": [
        "# plotting the metrics\n",
        "fig = plt.figure()\n",
        "plt.subplot(2,1,1)\n",
        "plt.plot(history.history['accuracy'])\n",
        "plt.plot(history.history['val_accuracy'])\n",
        "plt.title('model accuracy')\n",
        "plt.ylabel('accuracy')\n",
        "plt.xlabel('epoch')\n",
        "plt.legend(['train', 'test'], loc='lower right')\n",
        "\n",
        "plt.subplot(2,1,2)\n",
        "plt.plot(history.history['loss'])\n",
        "plt.plot(history.history['val_loss'])\n",
        "plt.title('model loss')\n",
        "plt.ylabel('loss')\n",
        "plt.xlabel('epoch')\n",
        "plt.legend(['train', 'test'], loc='upper right')\n",
        "\n",
        "plt.tight_layout()"
      ],
      "execution_count": 23,
      "outputs": [
        {
          "output_type": "display_data",
          "data": {
            "image/png": "[encoded data removed]",
            "text/plain": [
              "<Figure size 432x288 with 2 Axes>"
            ]
          },
          "metadata": {
            "tags": [],
            "needs_background": "light"
          }
        }
      ]
    },
    {
      "cell_type": "markdown",
      "metadata": {
        "id": "R8t9saoOISiF",
        "colab_type": "text"
      },
      "source": [
        "## Evaluate final accuracy"
      ]
    },
    {
      "cell_type": "code",
      "metadata": {
        "id": "SATtLUdE6kUN",
        "colab_type": "code",
        "outputId": "3dddfa80-f7ad-441c-ea4c-dec3570cb088",
        "colab": {
          "base_uri": "https://localhost:8080/",
          "height": 51
        }
      },
      "source": [
        "# Evaluate model on test data\n",
        "loss, accuracy = model.evaluate(x_test, y_test, verbose=0)\n",
        "print ('Test loss ', loss )\n",
        "print ('Test accuracy ', accuracy )"
      ],
      "execution_count": 25,
      "outputs": [
        {
          "output_type": "stream",
          "text": [
            "Test loss  0.3225385844707489\n",
            "Test accuracy  0.8786482214927673\n"
          ],
          "name": "stdout"
        }
      ]
    },
    {
      "cell_type": "markdown",
      "metadata": {
        "id": "FDBsjAUtnwFQ",
        "colab_type": "text"
      },
      "source": [
        "## Evaluate model performance"
      ]
    },
    {
      "cell_type": "code",
      "metadata": {
        "id": "KjKAN0KSnvo1",
        "colab_type": "code",
        "colab": {}
      },
      "source": [
        "# create predictions on the test set\n",
        "predicted_classes = np.argmax(model.predict(x_test), axis=-1)"
      ],
      "execution_count": 0,
      "outputs": []
    },
    {
      "cell_type": "code",
      "metadata": {
        "id": "q2rZ7ArPFQlD",
        "colab_type": "code",
        "colab": {
          "base_uri": "https://localhost:8080/",
          "height": 51
        },
        "outputId": "4f0befab-d2ec-497c-8892-516014d45436"
      },
      "source": [
        "# Reshape test labels\n",
        "print (test_labels.shape )\n",
        "reshape = str(test_labels.shape).split(',')\n",
        "reshape = int(reshape[0][1:])\n",
        "test_labels = test_labels.reshape(reshape)\n",
        "test_labels.shape"
      ],
      "execution_count": 27,
      "outputs": [
        {
          "output_type": "stream",
          "text": [
            "(116323, 1)\n"
          ],
          "name": "stdout"
        },
        {
          "output_type": "execute_result",
          "data": {
            "text/plain": [
              "(116323,)"
            ]
          },
          "metadata": {
            "tags": []
          },
          "execution_count": 27
        }
      ]
    },
    {
      "cell_type": "code",
      "metadata": {
        "id": "yuDJiRpFv3wX",
        "colab_type": "code",
        "outputId": "080f67f1-6bb4-4239-fbc4-6b15a910194d",
        "colab": {
          "base_uri": "https://localhost:8080/",
          "height": 68
        }
      },
      "source": [
        "# see which we predicted correctly and which not\n",
        "correct_indices = np.nonzero(predicted_classes == test_labels)[0]\n",
        "incorrect_indices = np.nonzero(predicted_classes != test_labels)[0]\n",
        "print()\n",
        "print(len(correct_indices),\" classified correctly\")\n",
        "print(len(incorrect_indices),\" classified incorrectly\")"
      ],
      "execution_count": 28,
      "outputs": [
        {
          "output_type": "stream",
          "text": [
            "\n",
            "102207  classified correctly\n",
            "14116  classified incorrectly\n"
          ],
          "name": "stdout"
        }
      ]
    },
    {
      "cell_type": "markdown",
      "metadata": {
        "id": "FgA75pjXwlY7",
        "colab_type": "text"
      },
      "source": [
        "### Visualize 12 correct prediction"
      ]
    },
    {
      "cell_type": "code",
      "metadata": {
        "id": "Wtfh3Ediv_70",
        "colab_type": "code",
        "outputId": "54ef5bca-fee8-4e3f-a846-cdb453d151d8",
        "colab": {
          "base_uri": "https://localhost:8080/",
          "height": 109
        }
      },
      "source": [
        "fig = plt.figure(figsize=(12,6))\n",
        "for i, correct in enumerate(correct_indices[:12]):\n",
        "  rows = 2\n",
        "  columns = 12\n",
        "  sp = fig.add_subplot( rows, columns , i+1)                 # plot a matrix with 2 rows and 12 columns\n",
        "  sp.axis('Off')                                             # removes background grill\n",
        "  img = x_train[i]                                        \n",
        "  plt.imshow(x_test[correct].reshape(28,28), cmap='gray', interpolation='none')  # prints image\n",
        "  plt.title(\n",
        "      'Predict: ' + str(class_idx[predicted_classes[correct]]) +\n",
        "      '\\nTruth: ' + str(class_idx[test_labels[correct]])\n",
        "  )"
      ],
      "execution_count": 29,
      "outputs": [
        {
          "output_type": "display_data",
          "data": {
            "image/png": "[encoded data removed]",
            "text/plain": [
              "<Figure size 864x432 with 12 Axes>"
            ]
          },
          "metadata": {
            "tags": [],
            "needs_background": "light"
          }
        }
      ]
    },
    {
      "cell_type": "markdown",
      "metadata": {
        "id": "A29-89RcwsHp",
        "colab_type": "text"
      },
      "source": [
        "### Visualize 12 incorrect prediction"
      ]
    },
    {
      "cell_type": "code",
      "metadata": {
        "id": "IXTkk8sTwyw_",
        "colab_type": "code",
        "outputId": "a0d1e545-0e1f-433b-d633-16782f516ae2",
        "colab": {
          "base_uri": "https://localhost:8080/",
          "height": 109
        }
      },
      "source": [
        "fig = plt.figure(figsize=(12,6))\n",
        "for i, correct in enumerate(incorrect_indices[:12]):\n",
        "  rows = 2\n",
        "  columns = 12\n",
        "  sp = fig.add_subplot( rows, columns , i+1)                 # plot a matrix with 2 rows and 12 columns\n",
        "  sp.axis('Off')                                             # removes background grill\n",
        "  img = x_train[i]                                        \n",
        "  plt.imshow(x_test[correct].reshape(28,28), cmap='gray', interpolation='none')  # prints image\n",
        "  plt.title(\n",
        "      'Predict: ' + str(class_idx[predicted_classes[correct]]) +\n",
        "      '\\nTruth: ' + str(class_idx[test_labels[correct]])\n",
        "  )"
      ],
      "execution_count": 30,
      "outputs": [
        {
          "output_type": "display_data",
          "data": {
            "image/png": "[encoded data removed]",
            "text/plain": [
              "<Figure size 864x432 with 12 Axes>"
            ]
          },
          "metadata": {
            "tags": [],
            "needs_background": "light"
          }
        }
      ]
    },
    {
      "cell_type": "markdown",
      "metadata": {
        "id": "tVHxIwfccMxW",
        "colab_type": "text"
      },
      "source": [
        "##Predict image"
      ]
    },
    {
      "cell_type": "code",
      "metadata": {
        "colab_type": "code",
        "outputId": "8488a8ec-9281-467b-eb29-505a6caaeb40",
        "id": "PvuHXEHRcwzO",
        "colab": {
          "base_uri": "https://localhost:8080/",
          "height": 298
        }
      },
      "source": [
        "import random\n",
        "image_index = random.randint(1,len(x_test))\n",
        "\n",
        "image = x_test[image_index] # show label for sample image\n",
        "plt.imshow(image[:,:,0], cmap='gray', interpolation='none')\n",
        "image = np.expand_dims(image, axis=0)\n",
        "scores = model.predict(image)\n",
        "\n",
        "index = np.argmax(scores)\n",
        "plt.title(\"Letter: \" + str( class_idx[ index ] ))"
      ],
      "execution_count": 33,
      "outputs": [
        {
          "output_type": "execute_result",
          "data": {
            "text/plain": [
              "Text(0.5, 1.0, 'Letter: 5')"
            ]
          },
          "metadata": {
            "tags": []
          },
          "execution_count": 33
        },
        {
          "output_type": "display_data",
          "data": {
            "image/png": "[encoded data removed]",
            "text/plain": [
              "<Figure size 432x288 with 1 Axes>"
            ]
          },
          "metadata": {
            "tags": [],
            "needs_background": "light"
          }
        }
      ]
    }
  ]
}