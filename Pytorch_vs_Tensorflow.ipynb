{
  "nbformat": 4,
  "nbformat_minor": 0,
  "metadata": {
    "colab": {
      "name": "Pytorch_vs_Tensorflow.ipynb",
      "provenance": [],
      "collapsed_sections": [],
      "include_colab_link": true
    },
    "kernelspec": {
      "name": "python3",
      "display_name": "Python 3"
    },
    "accelerator": "GPU",
    "widgets": {
      "application/vnd.jupyter.widget-state+json": {
        "a2a349f517884259b159b699b3086f15": {
          "model_module": "@jupyter-widgets/controls",
          "model_name": "HBoxModel",
          "model_module_version": "1.5.0",
          "state": {
            "_view_name": "HBoxView",
            "_dom_classes": [],
            "_model_name": "HBoxModel",
            "_view_module": "@jupyter-widgets/controls",
            "_model_module_version": "1.5.0",
            "_view_count": null,
            "_view_module_version": "1.5.0",
            "box_style": "",
            "layout": "IPY_MODEL_1f748a96a8d342298c4a418740ba5d95",
            "_model_module": "@jupyter-widgets/controls",
            "children": [
              "IPY_MODEL_fe034d86d62245739916674e071112ad",
              "IPY_MODEL_f1e2ae2a2a444f7fac0426f259763406",
              "IPY_MODEL_c6a1c07031ed469f994ce15a29895c06"
            ]
          }
        },
        "1f748a96a8d342298c4a418740ba5d95": {
          "model_module": "@jupyter-widgets/base",
          "model_name": "LayoutModel",
          "model_module_version": "1.2.0",
          "state": {
            "_view_name": "LayoutView",
            "grid_template_rows": null,
            "right": null,
            "justify_content": null,
            "_view_module": "@jupyter-widgets/base",
            "overflow": null,
            "_model_module_version": "1.2.0",
            "_view_count": null,
            "flex_flow": null,
            "width": null,
            "min_width": null,
            "border": null,
            "align_items": null,
            "bottom": null,
            "_model_module": "@jupyter-widgets/base",
            "top": null,
            "grid_column": null,
            "overflow_y": null,
            "overflow_x": null,
            "grid_auto_flow": null,
            "grid_area": null,
            "grid_template_columns": null,
            "flex": null,
            "_model_name": "LayoutModel",
            "justify_items": null,
            "grid_row": null,
            "max_height": null,
            "align_content": null,
            "visibility": null,
            "align_self": null,
            "height": null,
            "min_height": null,
            "padding": null,
            "grid_auto_rows": null,
            "grid_gap": null,
            "max_width": null,
            "order": null,
            "_view_module_version": "1.2.0",
            "grid_template_areas": null,
            "object_position": null,
            "object_fit": null,
            "grid_auto_columns": null,
            "margin": null,
            "display": null,
            "left": null
          }
        },
        "fe034d86d62245739916674e071112ad": {
          "model_module": "@jupyter-widgets/controls",
          "model_name": "HTMLModel",
          "model_module_version": "1.5.0",
          "state": {
            "_view_name": "HTMLView",
            "style": "IPY_MODEL_a63b3157bc7a45af9467bc7b7f4ef179",
            "_dom_classes": [],
            "description": "",
            "_model_name": "HTMLModel",
            "placeholder": "​",
            "_view_module": "@jupyter-widgets/controls",
            "_model_module_version": "1.5.0",
            "value": "",
            "_view_count": null,
            "_view_module_version": "1.5.0",
            "description_tooltip": null,
            "_model_module": "@jupyter-widgets/controls",
            "layout": "IPY_MODEL_90a586457b374eca961426750649cf73"
          }
        },
        "f1e2ae2a2a444f7fac0426f259763406": {
          "model_module": "@jupyter-widgets/controls",
          "model_name": "FloatProgressModel",
          "model_module_version": "1.5.0",
          "state": {
            "_view_name": "ProgressView",
            "style": "IPY_MODEL_2fbea0d775084d3a8fb5142a97085083",
            "_dom_classes": [],
            "description": "",
            "_model_name": "FloatProgressModel",
            "bar_style": "success",
            "max": 9912422,
            "_view_module": "@jupyter-widgets/controls",
            "_model_module_version": "1.5.0",
            "value": 9912422,
            "_view_count": null,
            "_view_module_version": "1.5.0",
            "orientation": "horizontal",
            "min": 0,
            "description_tooltip": null,
            "_model_module": "@jupyter-widgets/controls",
            "layout": "IPY_MODEL_d6e4c1f31a004d9da3f56110349da3a7"
          }
        },
        "c6a1c07031ed469f994ce15a29895c06": {
          "model_module": "@jupyter-widgets/controls",
          "model_name": "HTMLModel",
          "model_module_version": "1.5.0",
          "state": {
            "_view_name": "HTMLView",
            "style": "IPY_MODEL_f9d72ad7112440c5834851b6534ee0ab",
            "_dom_classes": [],
            "description": "",
            "_model_name": "HTMLModel",
            "placeholder": "​",
            "_view_module": "@jupyter-widgets/controls",
            "_model_module_version": "1.5.0",
            "value": " 9913344/? [00:00&lt;00:00, 54626112.09it/s]",
            "_view_count": null,
            "_view_module_version": "1.5.0",
            "description_tooltip": null,
            "_model_module": "@jupyter-widgets/controls",
            "layout": "IPY_MODEL_af998f78353143779028c1a540c0fda7"
          }
        },
        "a63b3157bc7a45af9467bc7b7f4ef179": {
          "model_module": "@jupyter-widgets/controls",
          "model_name": "DescriptionStyleModel",
          "model_module_version": "1.5.0",
          "state": {
            "_view_name": "StyleView",
            "_model_name": "DescriptionStyleModel",
            "description_width": "",
            "_view_module": "@jupyter-widgets/base",
            "_model_module_version": "1.5.0",
            "_view_count": null,
            "_view_module_version": "1.2.0",
            "_model_module": "@jupyter-widgets/controls"
          }
        },
        "90a586457b374eca961426750649cf73": {
          "model_module": "@jupyter-widgets/base",
          "model_name": "LayoutModel",
          "model_module_version": "1.2.0",
          "state": {
            "_view_name": "LayoutView",
            "grid_template_rows": null,
            "right": null,
            "justify_content": null,
            "_view_module": "@jupyter-widgets/base",
            "overflow": null,
            "_model_module_version": "1.2.0",
            "_view_count": null,
            "flex_flow": null,
            "width": null,
            "min_width": null,
            "border": null,
            "align_items": null,
            "bottom": null,
            "_model_module": "@jupyter-widgets/base",
            "top": null,
            "grid_column": null,
            "overflow_y": null,
            "overflow_x": null,
            "grid_auto_flow": null,
            "grid_area": null,
            "grid_template_columns": null,
            "flex": null,
            "_model_name": "LayoutModel",
            "justify_items": null,
            "grid_row": null,
            "max_height": null,
            "align_content": null,
            "visibility": null,
            "align_self": null,
            "height": null,
            "min_height": null,
            "padding": null,
            "grid_auto_rows": null,
            "grid_gap": null,
            "max_width": null,
            "order": null,
            "_view_module_version": "1.2.0",
            "grid_template_areas": null,
            "object_position": null,
            "object_fit": null,
            "grid_auto_columns": null,
            "margin": null,
            "display": null,
            "left": null
          }
        },
        "2fbea0d775084d3a8fb5142a97085083": {
          "model_module": "@jupyter-widgets/controls",
          "model_name": "ProgressStyleModel",
          "model_module_version": "1.5.0",
          "state": {
            "_view_name": "StyleView",
            "_model_name": "ProgressStyleModel",
            "description_width": "",
            "_view_module": "@jupyter-widgets/base",
            "_model_module_version": "1.5.0",
            "_view_count": null,
            "_view_module_version": "1.2.0",
            "bar_color": null,
            "_model_module": "@jupyter-widgets/controls"
          }
        },
        "d6e4c1f31a004d9da3f56110349da3a7": {
          "model_module": "@jupyter-widgets/base",
          "model_name": "LayoutModel",
          "model_module_version": "1.2.0",
          "state": {
            "_view_name": "LayoutView",
            "grid_template_rows": null,
            "right": null,
            "justify_content": null,
            "_view_module": "@jupyter-widgets/base",
            "overflow": null,
            "_model_module_version": "1.2.0",
            "_view_count": null,
            "flex_flow": null,
            "width": null,
            "min_width": null,
            "border": null,
            "align_items": null,
            "bottom": null,
            "_model_module": "@jupyter-widgets/base",
            "top": null,
            "grid_column": null,
            "overflow_y": null,
            "overflow_x": null,
            "grid_auto_flow": null,
            "grid_area": null,
            "grid_template_columns": null,
            "flex": null,
            "_model_name": "LayoutModel",
            "justify_items": null,
            "grid_row": null,
            "max_height": null,
            "align_content": null,
            "visibility": null,
            "align_self": null,
            "height": null,
            "min_height": null,
            "padding": null,
            "grid_auto_rows": null,
            "grid_gap": null,
            "max_width": null,
            "order": null,
            "_view_module_version": "1.2.0",
            "grid_template_areas": null,
            "object_position": null,
            "object_fit": null,
            "grid_auto_columns": null,
            "margin": null,
            "display": null,
            "left": null
          }
        },
        "f9d72ad7112440c5834851b6534ee0ab": {
          "model_module": "@jupyter-widgets/controls",
          "model_name": "DescriptionStyleModel",
          "model_module_version": "1.5.0",
          "state": {
            "_view_name": "StyleView",
            "_model_name": "DescriptionStyleModel",
            "description_width": "",
            "_view_module": "@jupyter-widgets/base",
            "_model_module_version": "1.5.0",
            "_view_count": null,
            "_view_module_version": "1.2.0",
            "_model_module": "@jupyter-widgets/controls"
          }
        },
        "af998f78353143779028c1a540c0fda7": {
          "model_module": "@jupyter-widgets/base",
          "model_name": "LayoutModel",
          "model_module_version": "1.2.0",
          "state": {
            "_view_name": "LayoutView",
            "grid_template_rows": null,
            "right": null,
            "justify_content": null,
            "_view_module": "@jupyter-widgets/base",
            "overflow": null,
            "_model_module_version": "1.2.0",
            "_view_count": null,
            "flex_flow": null,
            "width": null,
            "min_width": null,
            "border": null,
            "align_items": null,
            "bottom": null,
            "_model_module": "@jupyter-widgets/base",
            "top": null,
            "grid_column": null,
            "overflow_y": null,
            "overflow_x": null,
            "grid_auto_flow": null,
            "grid_area": null,
            "grid_template_columns": null,
            "flex": null,
            "_model_name": "LayoutModel",
            "justify_items": null,
            "grid_row": null,
            "max_height": null,
            "align_content": null,
            "visibility": null,
            "align_self": null,
            "height": null,
            "min_height": null,
            "padding": null,
            "grid_auto_rows": null,
            "grid_gap": null,
            "max_width": null,
            "order": null,
            "_view_module_version": "1.2.0",
            "grid_template_areas": null,
            "object_position": null,
            "object_fit": null,
            "grid_auto_columns": null,
            "margin": null,
            "display": null,
            "left": null
          }
        },
        "6fe8c3c530744c61865a9b33b502af45": {
          "model_module": "@jupyter-widgets/controls",
          "model_name": "HBoxModel",
          "model_module_version": "1.5.0",
          "state": {
            "_view_name": "HBoxView",
            "_dom_classes": [],
            "_model_name": "HBoxModel",
            "_view_module": "@jupyter-widgets/controls",
            "_model_module_version": "1.5.0",
            "_view_count": null,
            "_view_module_version": "1.5.0",
            "box_style": "",
            "layout": "IPY_MODEL_064305eba4364fbd8a70f62ab943a98e",
            "_model_module": "@jupyter-widgets/controls",
            "children": [
              "IPY_MODEL_33dfa5d7f72242e7a712983b37d3bf75",
              "IPY_MODEL_704089f0588b4d16ab47c2e07d47e3a1",
              "IPY_MODEL_b1b20a7e8288467c9f27376e78a7344e"
            ]
          }
        },
        "064305eba4364fbd8a70f62ab943a98e": {
          "model_module": "@jupyter-widgets/base",
          "model_name": "LayoutModel",
          "model_module_version": "1.2.0",
          "state": {
            "_view_name": "LayoutView",
            "grid_template_rows": null,
            "right": null,
            "justify_content": null,
            "_view_module": "@jupyter-widgets/base",
            "overflow": null,
            "_model_module_version": "1.2.0",
            "_view_count": null,
            "flex_flow": null,
            "width": null,
            "min_width": null,
            "border": null,
            "align_items": null,
            "bottom": null,
            "_model_module": "@jupyter-widgets/base",
            "top": null,
            "grid_column": null,
            "overflow_y": null,
            "overflow_x": null,
            "grid_auto_flow": null,
            "grid_area": null,
            "grid_template_columns": null,
            "flex": null,
            "_model_name": "LayoutModel",
            "justify_items": null,
            "grid_row": null,
            "max_height": null,
            "align_content": null,
            "visibility": null,
            "align_self": null,
            "height": null,
            "min_height": null,
            "padding": null,
            "grid_auto_rows": null,
            "grid_gap": null,
            "max_width": null,
            "order": null,
            "_view_module_version": "1.2.0",
            "grid_template_areas": null,
            "object_position": null,
            "object_fit": null,
            "grid_auto_columns": null,
            "margin": null,
            "display": null,
            "left": null
          }
        },
        "33dfa5d7f72242e7a712983b37d3bf75": {
          "model_module": "@jupyter-widgets/controls",
          "model_name": "HTMLModel",
          "model_module_version": "1.5.0",
          "state": {
            "_view_name": "HTMLView",
            "style": "IPY_MODEL_1463857d22844bcd9b89194a5afa6471",
            "_dom_classes": [],
            "description": "",
            "_model_name": "HTMLModel",
            "placeholder": "​",
            "_view_module": "@jupyter-widgets/controls",
            "_model_module_version": "1.5.0",
            "value": "",
            "_view_count": null,
            "_view_module_version": "1.5.0",
            "description_tooltip": null,
            "_model_module": "@jupyter-widgets/controls",
            "layout": "IPY_MODEL_f015e066ba3245108350a2af905357f2"
          }
        },
        "704089f0588b4d16ab47c2e07d47e3a1": {
          "model_module": "@jupyter-widgets/controls",
          "model_name": "FloatProgressModel",
          "model_module_version": "1.5.0",
          "state": {
            "_view_name": "ProgressView",
            "style": "IPY_MODEL_4ab092cc3eca4f848eca4c1ba7cb5785",
            "_dom_classes": [],
            "description": "",
            "_model_name": "FloatProgressModel",
            "bar_style": "success",
            "max": 28881,
            "_view_module": "@jupyter-widgets/controls",
            "_model_module_version": "1.5.0",
            "value": 28881,
            "_view_count": null,
            "_view_module_version": "1.5.0",
            "orientation": "horizontal",
            "min": 0,
            "description_tooltip": null,
            "_model_module": "@jupyter-widgets/controls",
            "layout": "IPY_MODEL_a4ae8d2eec5a4af7bdf60b007b49bf05"
          }
        },
        "b1b20a7e8288467c9f27376e78a7344e": {
          "model_module": "@jupyter-widgets/controls",
          "model_name": "HTMLModel",
          "model_module_version": "1.5.0",
          "state": {
            "_view_name": "HTMLView",
            "style": "IPY_MODEL_d88503ad3e514288a5e9e96b215b518d",
            "_dom_classes": [],
            "description": "",
            "_model_name": "HTMLModel",
            "placeholder": "​",
            "_view_module": "@jupyter-widgets/controls",
            "_model_module_version": "1.5.0",
            "value": " 29696/? [00:00&lt;00:00, 800496.49it/s]",
            "_view_count": null,
            "_view_module_version": "1.5.0",
            "description_tooltip": null,
            "_model_module": "@jupyter-widgets/controls",
            "layout": "IPY_MODEL_9ea98184d90d440fb60781a5e140ff9e"
          }
        },
        "1463857d22844bcd9b89194a5afa6471": {
          "model_module": "@jupyter-widgets/controls",
          "model_name": "DescriptionStyleModel",
          "model_module_version": "1.5.0",
          "state": {
            "_view_name": "StyleView",
            "_model_name": "DescriptionStyleModel",
            "description_width": "",
            "_view_module": "@jupyter-widgets/base",
            "_model_module_version": "1.5.0",
            "_view_count": null,
            "_view_module_version": "1.2.0",
            "_model_module": "@jupyter-widgets/controls"
          }
        },
        "f015e066ba3245108350a2af905357f2": {
          "model_module": "@jupyter-widgets/base",
          "model_name": "LayoutModel",
          "model_module_version": "1.2.0",
          "state": {
            "_view_name": "LayoutView",
            "grid_template_rows": null,
            "right": null,
            "justify_content": null,
            "_view_module": "@jupyter-widgets/base",
            "overflow": null,
            "_model_module_version": "1.2.0",
            "_view_count": null,
            "flex_flow": null,
            "width": null,
            "min_width": null,
            "border": null,
            "align_items": null,
            "bottom": null,
            "_model_module": "@jupyter-widgets/base",
            "top": null,
            "grid_column": null,
            "overflow_y": null,
            "overflow_x": null,
            "grid_auto_flow": null,
            "grid_area": null,
            "grid_template_columns": null,
            "flex": null,
            "_model_name": "LayoutModel",
            "justify_items": null,
            "grid_row": null,
            "max_height": null,
            "align_content": null,
            "visibility": null,
            "align_self": null,
            "height": null,
            "min_height": null,
            "padding": null,
            "grid_auto_rows": null,
            "grid_gap": null,
            "max_width": null,
            "order": null,
            "_view_module_version": "1.2.0",
            "grid_template_areas": null,
            "object_position": null,
            "object_fit": null,
            "grid_auto_columns": null,
            "margin": null,
            "display": null,
            "left": null
          }
        },
        "4ab092cc3eca4f848eca4c1ba7cb5785": {
          "model_module": "@jupyter-widgets/controls",
          "model_name": "ProgressStyleModel",
          "model_module_version": "1.5.0",
          "state": {
            "_view_name": "StyleView",
            "_model_name": "ProgressStyleModel",
            "description_width": "",
            "_view_module": "@jupyter-widgets/base",
            "_model_module_version": "1.5.0",
            "_view_count": null,
            "_view_module_version": "1.2.0",
            "bar_color": null,
            "_model_module": "@jupyter-widgets/controls"
          }
        },
        "a4ae8d2eec5a4af7bdf60b007b49bf05": {
          "model_module": "@jupyter-widgets/base",
          "model_name": "LayoutModel",
          "model_module_version": "1.2.0",
          "state": {
            "_view_name": "LayoutView",
            "grid_template_rows": null,
            "right": null,
            "justify_content": null,
            "_view_module": "@jupyter-widgets/base",
            "overflow": null,
            "_model_module_version": "1.2.0",
            "_view_count": null,
            "flex_flow": null,
            "width": null,
            "min_width": null,
            "border": null,
            "align_items": null,
            "bottom": null,
            "_model_module": "@jupyter-widgets/base",
            "top": null,
            "grid_column": null,
            "overflow_y": null,
            "overflow_x": null,
            "grid_auto_flow": null,
            "grid_area": null,
            "grid_template_columns": null,
            "flex": null,
            "_model_name": "LayoutModel",
            "justify_items": null,
            "grid_row": null,
            "max_height": null,
            "align_content": null,
            "visibility": null,
            "align_self": null,
            "height": null,
            "min_height": null,
            "padding": null,
            "grid_auto_rows": null,
            "grid_gap": null,
            "max_width": null,
            "order": null,
            "_view_module_version": "1.2.0",
            "grid_template_areas": null,
            "object_position": null,
            "object_fit": null,
            "grid_auto_columns": null,
            "margin": null,
            "display": null,
            "left": null
          }
        },
        "d88503ad3e514288a5e9e96b215b518d": {
          "model_module": "@jupyter-widgets/controls",
          "model_name": "DescriptionStyleModel",
          "model_module_version": "1.5.0",
          "state": {
            "_view_name": "StyleView",
            "_model_name": "DescriptionStyleModel",
            "description_width": "",
            "_view_module": "@jupyter-widgets/base",
            "_model_module_version": "1.5.0",
            "_view_count": null,
            "_view_module_version": "1.2.0",
            "_model_module": "@jupyter-widgets/controls"
          }
        },
        "9ea98184d90d440fb60781a5e140ff9e": {
          "model_module": "@jupyter-widgets/base",
          "model_name": "LayoutModel",
          "model_module_version": "1.2.0",
          "state": {
            "_view_name": "LayoutView",
            "grid_template_rows": null,
            "right": null,
            "justify_content": null,
            "_view_module": "@jupyter-widgets/base",
            "overflow": null,
            "_model_module_version": "1.2.0",
            "_view_count": null,
            "flex_flow": null,
            "width": null,
            "min_width": null,
            "border": null,
            "align_items": null,
            "bottom": null,
            "_model_module": "@jupyter-widgets/base",
            "top": null,
            "grid_column": null,
            "overflow_y": null,
            "overflow_x": null,
            "grid_auto_flow": null,
            "grid_area": null,
            "grid_template_columns": null,
            "flex": null,
            "_model_name": "LayoutModel",
            "justify_items": null,
            "grid_row": null,
            "max_height": null,
            "align_content": null,
            "visibility": null,
            "align_self": null,
            "height": null,
            "min_height": null,
            "padding": null,
            "grid_auto_rows": null,
            "grid_gap": null,
            "max_width": null,
            "order": null,
            "_view_module_version": "1.2.0",
            "grid_template_areas": null,
            "object_position": null,
            "object_fit": null,
            "grid_auto_columns": null,
            "margin": null,
            "display": null,
            "left": null
          }
        },
        "8748a06823704e35b9ee94f82b649335": {
          "model_module": "@jupyter-widgets/controls",
          "model_name": "HBoxModel",
          "model_module_version": "1.5.0",
          "state": {
            "_view_name": "HBoxView",
            "_dom_classes": [],
            "_model_name": "HBoxModel",
            "_view_module": "@jupyter-widgets/controls",
            "_model_module_version": "1.5.0",
            "_view_count": null,
            "_view_module_version": "1.5.0",
            "box_style": "",
            "layout": "IPY_MODEL_3899470458cd4b64a72ba80dda0442cb",
            "_model_module": "@jupyter-widgets/controls",
            "children": [
              "IPY_MODEL_8e2c6cb677544be3918c7ca59733a412",
              "IPY_MODEL_755117207d0147f98a71bcbe94efd533",
              "IPY_MODEL_b32b417a97854353bd704a26a96d0020"
            ]
          }
        },
        "3899470458cd4b64a72ba80dda0442cb": {
          "model_module": "@jupyter-widgets/base",
          "model_name": "LayoutModel",
          "model_module_version": "1.2.0",
          "state": {
            "_view_name": "LayoutView",
            "grid_template_rows": null,
            "right": null,
            "justify_content": null,
            "_view_module": "@jupyter-widgets/base",
            "overflow": null,
            "_model_module_version": "1.2.0",
            "_view_count": null,
            "flex_flow": null,
            "width": null,
            "min_width": null,
            "border": null,
            "align_items": null,
            "bottom": null,
            "_model_module": "@jupyter-widgets/base",
            "top": null,
            "grid_column": null,
            "overflow_y": null,
            "overflow_x": null,
            "grid_auto_flow": null,
            "grid_area": null,
            "grid_template_columns": null,
            "flex": null,
            "_model_name": "LayoutModel",
            "justify_items": null,
            "grid_row": null,
            "max_height": null,
            "align_content": null,
            "visibility": null,
            "align_self": null,
            "height": null,
            "min_height": null,
            "padding": null,
            "grid_auto_rows": null,
            "grid_gap": null,
            "max_width": null,
            "order": null,
            "_view_module_version": "1.2.0",
            "grid_template_areas": null,
            "object_position": null,
            "object_fit": null,
            "grid_auto_columns": null,
            "margin": null,
            "display": null,
            "left": null
          }
        },
        "8e2c6cb677544be3918c7ca59733a412": {
          "model_module": "@jupyter-widgets/controls",
          "model_name": "HTMLModel",
          "model_module_version": "1.5.0",
          "state": {
            "_view_name": "HTMLView",
            "style": "IPY_MODEL_afe778de02134de69358fc94992751cb",
            "_dom_classes": [],
            "description": "",
            "_model_name": "HTMLModel",
            "placeholder": "​",
            "_view_module": "@jupyter-widgets/controls",
            "_model_module_version": "1.5.0",
            "value": "",
            "_view_count": null,
            "_view_module_version": "1.5.0",
            "description_tooltip": null,
            "_model_module": "@jupyter-widgets/controls",
            "layout": "IPY_MODEL_455939e1445e450491cffa2c452c875e"
          }
        },
        "755117207d0147f98a71bcbe94efd533": {
          "model_module": "@jupyter-widgets/controls",
          "model_name": "FloatProgressModel",
          "model_module_version": "1.5.0",
          "state": {
            "_view_name": "ProgressView",
            "style": "IPY_MODEL_5bde0a162b4c4fb4a919b13065dc1c1b",
            "_dom_classes": [],
            "description": "",
            "_model_name": "FloatProgressModel",
            "bar_style": "success",
            "max": 1648877,
            "_view_module": "@jupyter-widgets/controls",
            "_model_module_version": "1.5.0",
            "value": 1648877,
            "_view_count": null,
            "_view_module_version": "1.5.0",
            "orientation": "horizontal",
            "min": 0,
            "description_tooltip": null,
            "_model_module": "@jupyter-widgets/controls",
            "layout": "IPY_MODEL_d4521ba9dcf44d7b95e3f06d9ed69509"
          }
        },
        "b32b417a97854353bd704a26a96d0020": {
          "model_module": "@jupyter-widgets/controls",
          "model_name": "HTMLModel",
          "model_module_version": "1.5.0",
          "state": {
            "_view_name": "HTMLView",
            "style": "IPY_MODEL_c09b9f68cb384335ae691878e6ced436",
            "_dom_classes": [],
            "description": "",
            "_model_name": "HTMLModel",
            "placeholder": "​",
            "_view_module": "@jupyter-widgets/controls",
            "_model_module_version": "1.5.0",
            "value": " 1649664/? [00:00&lt;00:00, 14188695.60it/s]",
            "_view_count": null,
            "_view_module_version": "1.5.0",
            "description_tooltip": null,
            "_model_module": "@jupyter-widgets/controls",
            "layout": "IPY_MODEL_290757b08a774fdbb7c23bb241be25e9"
          }
        },
        "afe778de02134de69358fc94992751cb": {
          "model_module": "@jupyter-widgets/controls",
          "model_name": "DescriptionStyleModel",
          "model_module_version": "1.5.0",
          "state": {
            "_view_name": "StyleView",
            "_model_name": "DescriptionStyleModel",
            "description_width": "",
            "_view_module": "@jupyter-widgets/base",
            "_model_module_version": "1.5.0",
            "_view_count": null,
            "_view_module_version": "1.2.0",
            "_model_module": "@jupyter-widgets/controls"
          }
        },
        "455939e1445e450491cffa2c452c875e": {
          "model_module": "@jupyter-widgets/base",
          "model_name": "LayoutModel",
          "model_module_version": "1.2.0",
          "state": {
            "_view_name": "LayoutView",
            "grid_template_rows": null,
            "right": null,
            "justify_content": null,
            "_view_module": "@jupyter-widgets/base",
            "overflow": null,
            "_model_module_version": "1.2.0",
            "_view_count": null,
            "flex_flow": null,
            "width": null,
            "min_width": null,
            "border": null,
            "align_items": null,
            "bottom": null,
            "_model_module": "@jupyter-widgets/base",
            "top": null,
            "grid_column": null,
            "overflow_y": null,
            "overflow_x": null,
            "grid_auto_flow": null,
            "grid_area": null,
            "grid_template_columns": null,
            "flex": null,
            "_model_name": "LayoutModel",
            "justify_items": null,
            "grid_row": null,
            "max_height": null,
            "align_content": null,
            "visibility": null,
            "align_self": null,
            "height": null,
            "min_height": null,
            "padding": null,
            "grid_auto_rows": null,
            "grid_gap": null,
            "max_width": null,
            "order": null,
            "_view_module_version": "1.2.0",
            "grid_template_areas": null,
            "object_position": null,
            "object_fit": null,
            "grid_auto_columns": null,
            "margin": null,
            "display": null,
            "left": null
          }
        },
        "5bde0a162b4c4fb4a919b13065dc1c1b": {
          "model_module": "@jupyter-widgets/controls",
          "model_name": "ProgressStyleModel",
          "model_module_version": "1.5.0",
          "state": {
            "_view_name": "StyleView",
            "_model_name": "ProgressStyleModel",
            "description_width": "",
            "_view_module": "@jupyter-widgets/base",
            "_model_module_version": "1.5.0",
            "_view_count": null,
            "_view_module_version": "1.2.0",
            "bar_color": null,
            "_model_module": "@jupyter-widgets/controls"
          }
        },
        "d4521ba9dcf44d7b95e3f06d9ed69509": {
          "model_module": "@jupyter-widgets/base",
          "model_name": "LayoutModel",
          "model_module_version": "1.2.0",
          "state": {
            "_view_name": "LayoutView",
            "grid_template_rows": null,
            "right": null,
            "justify_content": null,
            "_view_module": "@jupyter-widgets/base",
            "overflow": null,
            "_model_module_version": "1.2.0",
            "_view_count": null,
            "flex_flow": null,
            "width": null,
            "min_width": null,
            "border": null,
            "align_items": null,
            "bottom": null,
            "_model_module": "@jupyter-widgets/base",
            "top": null,
            "grid_column": null,
            "overflow_y": null,
            "overflow_x": null,
            "grid_auto_flow": null,
            "grid_area": null,
            "grid_template_columns": null,
            "flex": null,
            "_model_name": "LayoutModel",
            "justify_items": null,
            "grid_row": null,
            "max_height": null,
            "align_content": null,
            "visibility": null,
            "align_self": null,
            "height": null,
            "min_height": null,
            "padding": null,
            "grid_auto_rows": null,
            "grid_gap": null,
            "max_width": null,
            "order": null,
            "_view_module_version": "1.2.0",
            "grid_template_areas": null,
            "object_position": null,
            "object_fit": null,
            "grid_auto_columns": null,
            "margin": null,
            "display": null,
            "left": null
          }
        },
        "c09b9f68cb384335ae691878e6ced436": {
          "model_module": "@jupyter-widgets/controls",
          "model_name": "DescriptionStyleModel",
          "model_module_version": "1.5.0",
          "state": {
            "_view_name": "StyleView",
            "_model_name": "DescriptionStyleModel",
            "description_width": "",
            "_view_module": "@jupyter-widgets/base",
            "_model_module_version": "1.5.0",
            "_view_count": null,
            "_view_module_version": "1.2.0",
            "_model_module": "@jupyter-widgets/controls"
          }
        },
        "290757b08a774fdbb7c23bb241be25e9": {
          "model_module": "@jupyter-widgets/base",
          "model_name": "LayoutModel",
          "model_module_version": "1.2.0",
          "state": {
            "_view_name": "LayoutView",
            "grid_template_rows": null,
            "right": null,
            "justify_content": null,
            "_view_module": "@jupyter-widgets/base",
            "overflow": null,
            "_model_module_version": "1.2.0",
            "_view_count": null,
            "flex_flow": null,
            "width": null,
            "min_width": null,
            "border": null,
            "align_items": null,
            "bottom": null,
            "_model_module": "@jupyter-widgets/base",
            "top": null,
            "grid_column": null,
            "overflow_y": null,
            "overflow_x": null,
            "grid_auto_flow": null,
            "grid_area": null,
            "grid_template_columns": null,
            "flex": null,
            "_model_name": "LayoutModel",
            "justify_items": null,
            "grid_row": null,
            "max_height": null,
            "align_content": null,
            "visibility": null,
            "align_self": null,
            "height": null,
            "min_height": null,
            "padding": null,
            "grid_auto_rows": null,
            "grid_gap": null,
            "max_width": null,
            "order": null,
            "_view_module_version": "1.2.0",
            "grid_template_areas": null,
            "object_position": null,
            "object_fit": null,
            "grid_auto_columns": null,
            "margin": null,
            "display": null,
            "left": null
          }
        },
        "828d5acee3394d21a82792772226b0d9": {
          "model_module": "@jupyter-widgets/controls",
          "model_name": "HBoxModel",
          "model_module_version": "1.5.0",
          "state": {
            "_view_name": "HBoxView",
            "_dom_classes": [],
            "_model_name": "HBoxModel",
            "_view_module": "@jupyter-widgets/controls",
            "_model_module_version": "1.5.0",
            "_view_count": null,
            "_view_module_version": "1.5.0",
            "box_style": "",
            "layout": "IPY_MODEL_7b5d345db7c24d8c8caba00f59ea7e97",
            "_model_module": "@jupyter-widgets/controls",
            "children": [
              "IPY_MODEL_ae641f0e5a3a485994d748dc94ee6e66",
              "IPY_MODEL_826cab74aaa247aeaf739d4dbbe16bc2",
              "IPY_MODEL_6e8b2c098854437dae67e6a2c93d4f51"
            ]
          }
        },
        "7b5d345db7c24d8c8caba00f59ea7e97": {
          "model_module": "@jupyter-widgets/base",
          "model_name": "LayoutModel",
          "model_module_version": "1.2.0",
          "state": {
            "_view_name": "LayoutView",
            "grid_template_rows": null,
            "right": null,
            "justify_content": null,
            "_view_module": "@jupyter-widgets/base",
            "overflow": null,
            "_model_module_version": "1.2.0",
            "_view_count": null,
            "flex_flow": null,
            "width": null,
            "min_width": null,
            "border": null,
            "align_items": null,
            "bottom": null,
            "_model_module": "@jupyter-widgets/base",
            "top": null,
            "grid_column": null,
            "overflow_y": null,
            "overflow_x": null,
            "grid_auto_flow": null,
            "grid_area": null,
            "grid_template_columns": null,
            "flex": null,
            "_model_name": "LayoutModel",
            "justify_items": null,
            "grid_row": null,
            "max_height": null,
            "align_content": null,
            "visibility": null,
            "align_self": null,
            "height": null,
            "min_height": null,
            "padding": null,
            "grid_auto_rows": null,
            "grid_gap": null,
            "max_width": null,
            "order": null,
            "_view_module_version": "1.2.0",
            "grid_template_areas": null,
            "object_position": null,
            "object_fit": null,
            "grid_auto_columns": null,
            "margin": null,
            "display": null,
            "left": null
          }
        },
        "ae641f0e5a3a485994d748dc94ee6e66": {
          "model_module": "@jupyter-widgets/controls",
          "model_name": "HTMLModel",
          "model_module_version": "1.5.0",
          "state": {
            "_view_name": "HTMLView",
            "style": "IPY_MODEL_d104cd85dc0a4228ad0fde43fc41423b",
            "_dom_classes": [],
            "description": "",
            "_model_name": "HTMLModel",
            "placeholder": "​",
            "_view_module": "@jupyter-widgets/controls",
            "_model_module_version": "1.5.0",
            "value": "",
            "_view_count": null,
            "_view_module_version": "1.5.0",
            "description_tooltip": null,
            "_model_module": "@jupyter-widgets/controls",
            "layout": "IPY_MODEL_c6058ac2835d441ebfdf3da524704058"
          }
        },
        "826cab74aaa247aeaf739d4dbbe16bc2": {
          "model_module": "@jupyter-widgets/controls",
          "model_name": "FloatProgressModel",
          "model_module_version": "1.5.0",
          "state": {
            "_view_name": "ProgressView",
            "style": "IPY_MODEL_a87ee9f10a974258b3df185b2a958f58",
            "_dom_classes": [],
            "description": "",
            "_model_name": "FloatProgressModel",
            "bar_style": "success",
            "max": 4542,
            "_view_module": "@jupyter-widgets/controls",
            "_model_module_version": "1.5.0",
            "value": 4542,
            "_view_count": null,
            "_view_module_version": "1.5.0",
            "orientation": "horizontal",
            "min": 0,
            "description_tooltip": null,
            "_model_module": "@jupyter-widgets/controls",
            "layout": "IPY_MODEL_696d7b9ef9744858941ee0df41d16e11"
          }
        },
        "6e8b2c098854437dae67e6a2c93d4f51": {
          "model_module": "@jupyter-widgets/controls",
          "model_name": "HTMLModel",
          "model_module_version": "1.5.0",
          "state": {
            "_view_name": "HTMLView",
            "style": "IPY_MODEL_c6f7317607564d72b8f418f2f6ac6919",
            "_dom_classes": [],
            "description": "",
            "_model_name": "HTMLModel",
            "placeholder": "​",
            "_view_module": "@jupyter-widgets/controls",
            "_model_module_version": "1.5.0",
            "value": " 5120/? [00:00&lt;00:00, 136291.92it/s]",
            "_view_count": null,
            "_view_module_version": "1.5.0",
            "description_tooltip": null,
            "_model_module": "@jupyter-widgets/controls",
            "layout": "IPY_MODEL_17382f430beb4ebda8716e990cceeab6"
          }
        },
        "d104cd85dc0a4228ad0fde43fc41423b": {
          "model_module": "@jupyter-widgets/controls",
          "model_name": "DescriptionStyleModel",
          "model_module_version": "1.5.0",
          "state": {
            "_view_name": "StyleView",
            "_model_name": "DescriptionStyleModel",
            "description_width": "",
            "_view_module": "@jupyter-widgets/base",
            "_model_module_version": "1.5.0",
            "_view_count": null,
            "_view_module_version": "1.2.0",
            "_model_module": "@jupyter-widgets/controls"
          }
        },
        "c6058ac2835d441ebfdf3da524704058": {
          "model_module": "@jupyter-widgets/base",
          "model_name": "LayoutModel",
          "model_module_version": "1.2.0",
          "state": {
            "_view_name": "LayoutView",
            "grid_template_rows": null,
            "right": null,
            "justify_content": null,
            "_view_module": "@jupyter-widgets/base",
            "overflow": null,
            "_model_module_version": "1.2.0",
            "_view_count": null,
            "flex_flow": null,
            "width": null,
            "min_width": null,
            "border": null,
            "align_items": null,
            "bottom": null,
            "_model_module": "@jupyter-widgets/base",
            "top": null,
            "grid_column": null,
            "overflow_y": null,
            "overflow_x": null,
            "grid_auto_flow": null,
            "grid_area": null,
            "grid_template_columns": null,
            "flex": null,
            "_model_name": "LayoutModel",
            "justify_items": null,
            "grid_row": null,
            "max_height": null,
            "align_content": null,
            "visibility": null,
            "align_self": null,
            "height": null,
            "min_height": null,
            "padding": null,
            "grid_auto_rows": null,
            "grid_gap": null,
            "max_width": null,
            "order": null,
            "_view_module_version": "1.2.0",
            "grid_template_areas": null,
            "object_position": null,
            "object_fit": null,
            "grid_auto_columns": null,
            "margin": null,
            "display": null,
            "left": null
          }
        },
        "a87ee9f10a974258b3df185b2a958f58": {
          "model_module": "@jupyter-widgets/controls",
          "model_name": "ProgressStyleModel",
          "model_module_version": "1.5.0",
          "state": {
            "_view_name": "StyleView",
            "_model_name": "ProgressStyleModel",
            "description_width": "",
            "_view_module": "@jupyter-widgets/base",
            "_model_module_version": "1.5.0",
            "_view_count": null,
            "_view_module_version": "1.2.0",
            "bar_color": null,
            "_model_module": "@jupyter-widgets/controls"
          }
        },
        "696d7b9ef9744858941ee0df41d16e11": {
          "model_module": "@jupyter-widgets/base",
          "model_name": "LayoutModel",
          "model_module_version": "1.2.0",
          "state": {
            "_view_name": "LayoutView",
            "grid_template_rows": null,
            "right": null,
            "justify_content": null,
            "_view_module": "@jupyter-widgets/base",
            "overflow": null,
            "_model_module_version": "1.2.0",
            "_view_count": null,
            "flex_flow": null,
            "width": null,
            "min_width": null,
            "border": null,
            "align_items": null,
            "bottom": null,
            "_model_module": "@jupyter-widgets/base",
            "top": null,
            "grid_column": null,
            "overflow_y": null,
            "overflow_x": null,
            "grid_auto_flow": null,
            "grid_area": null,
            "grid_template_columns": null,
            "flex": null,
            "_model_name": "LayoutModel",
            "justify_items": null,
            "grid_row": null,
            "max_height": null,
            "align_content": null,
            "visibility": null,
            "align_self": null,
            "height": null,
            "min_height": null,
            "padding": null,
            "grid_auto_rows": null,
            "grid_gap": null,
            "max_width": null,
            "order": null,
            "_view_module_version": "1.2.0",
            "grid_template_areas": null,
            "object_position": null,
            "object_fit": null,
            "grid_auto_columns": null,
            "margin": null,
            "display": null,
            "left": null
          }
        },
        "c6f7317607564d72b8f418f2f6ac6919": {
          "model_module": "@jupyter-widgets/controls",
          "model_name": "DescriptionStyleModel",
          "model_module_version": "1.5.0",
          "state": {
            "_view_name": "StyleView",
            "_model_name": "DescriptionStyleModel",
            "description_width": "",
            "_view_module": "@jupyter-widgets/base",
            "_model_module_version": "1.5.0",
            "_view_count": null,
            "_view_module_version": "1.2.0",
            "_model_module": "@jupyter-widgets/controls"
          }
        },
        "17382f430beb4ebda8716e990cceeab6": {
          "model_module": "@jupyter-widgets/base",
          "model_name": "LayoutModel",
          "model_module_version": "1.2.0",
          "state": {
            "_view_name": "LayoutView",
            "grid_template_rows": null,
            "right": null,
            "justify_content": null,
            "_view_module": "@jupyter-widgets/base",
            "overflow": null,
            "_model_module_version": "1.2.0",
            "_view_count": null,
            "flex_flow": null,
            "width": null,
            "min_width": null,
            "border": null,
            "align_items": null,
            "bottom": null,
            "_model_module": "@jupyter-widgets/base",
            "top": null,
            "grid_column": null,
            "overflow_y": null,
            "overflow_x": null,
            "grid_auto_flow": null,
            "grid_area": null,
            "grid_template_columns": null,
            "flex": null,
            "_model_name": "LayoutModel",
            "justify_items": null,
            "grid_row": null,
            "max_height": null,
            "align_content": null,
            "visibility": null,
            "align_self": null,
            "height": null,
            "min_height": null,
            "padding": null,
            "grid_auto_rows": null,
            "grid_gap": null,
            "max_width": null,
            "order": null,
            "_view_module_version": "1.2.0",
            "grid_template_areas": null,
            "object_position": null,
            "object_fit": null,
            "grid_auto_columns": null,
            "margin": null,
            "display": null,
            "left": null
          }
        }
      }
    }
  },
  "cells": [
    {
      "cell_type": "markdown",
      "metadata": {
        "id": "view-in-github",
        "colab_type": "text"
      },
      "source": [
        "<a href=\"https://colab.research.google.com/github/ZohebAbai/Deep-Learning-Projects/blob/master/Pytorch_vs_Tensorflow.ipynb\" target=\"_parent\"><img src=\"https://colab.research.google.com/assets/colab-badge.svg\" alt=\"Open In Colab\"/></a>"
      ]
    },
    {
      "cell_type": "markdown",
      "metadata": {
        "id": "RoYLdCFToLRM"
      },
      "source": [
        "# Import Libraries"
      ]
    },
    {
      "cell_type": "markdown",
      "metadata": {
        "id": "ieQzPnUdob8V"
      },
      "source": [
        "## Pytorch"
      ]
    },
    {
      "cell_type": "code",
      "metadata": {
        "id": "P8SE_PLFnNM8",
        "colab": {
          "base_uri": "https://localhost:8080/"
        },
        "outputId": "c8b3d119-d509-416c-f530-2337241b2a28"
      },
      "source": [
        "import torch\n",
        "import torchvision\n",
        "print(torch.__version__)"
      ],
      "execution_count": 1,
      "outputs": [
        {
          "output_type": "stream",
          "name": "stdout",
          "text": [
            "1.10.0+cu111\n"
          ]
        }
      ]
    },
    {
      "cell_type": "markdown",
      "metadata": {
        "id": "N3vKzhiyofXw"
      },
      "source": [
        "## Tensorflow"
      ]
    },
    {
      "cell_type": "code",
      "metadata": {
        "id": "WfYMN7iAoh7B",
        "colab": {
          "base_uri": "https://localhost:8080/"
        },
        "outputId": "f8c718ac-e4cf-48b6-e2ca-d2d3193f49d1"
      },
      "source": [
        "import tensorflow as tf\n",
        "print(tf.__version__)"
      ],
      "execution_count": 2,
      "outputs": [
        {
          "output_type": "stream",
          "name": "stdout",
          "text": [
            "2.7.0\n"
          ]
        }
      ]
    },
    {
      "cell_type": "markdown",
      "metadata": {
        "id": "4cNO1xVaoqsP"
      },
      "source": [
        "## Other useful python libraries"
      ]
    },
    {
      "cell_type": "code",
      "metadata": {
        "id": "3GaosCD0otaz"
      },
      "source": [
        "import numpy as np\n",
        "import matplotlib.pyplot as plt\n",
        "%matplotlib inline"
      ],
      "execution_count": 3,
      "outputs": []
    },
    {
      "cell_type": "markdown",
      "metadata": {
        "id": "wDMNr6lnqfV0"
      },
      "source": [
        "# Dataset Handling"
      ]
    },
    {
      "cell_type": "markdown",
      "metadata": {
        "id": "Ao3mVE0DqKIN"
      },
      "source": [
        "**[MNIST](http://yann.lecun.com/exdb/mnist/) dataset consists of a training set of 60,000 examples and a test set of 10,000 examples, where each example is a 28x28 grayscale image of handwritten digits, associated with a label from 0 to 9.**\n",
        "\n",
        "**In Pytorch:** \n",
        "* Using transform while downloading the pixel values are both normalized to values between 0 and 1 and transformed as a tensor. \n",
        "*  Manually sample the validation dataset and load it as dataloader. \n",
        "* Mention batch size in Dataloader \n",
        "* One hot encoding of labels and final softmax activation is taken care by loss function\n",
        "\n",
        "**In Tensorflow:**\n",
        "* We normalize and transform to tensor separately after downloading the datasets.\n",
        "* Splitting can be done automatically while fitting the model.\n",
        "* Mention batch size while fitting\n",
        "* One hot encoding of labels and final softmax activation needs to be performed separately.\n"
      ]
    },
    {
      "cell_type": "markdown",
      "metadata": {
        "id": "J3fJDFOEqjhy"
      },
      "source": [
        "## Pytorch"
      ]
    },
    {
      "cell_type": "code",
      "metadata": {
        "id": "xKyDngQYo7Xu",
        "colab": {
          "base_uri": "https://localhost:8080/",
          "height": 417,
          "referenced_widgets": [
            "a2a349f517884259b159b699b3086f15",
            "1f748a96a8d342298c4a418740ba5d95",
            "fe034d86d62245739916674e071112ad",
            "f1e2ae2a2a444f7fac0426f259763406",
            "c6a1c07031ed469f994ce15a29895c06",
            "a63b3157bc7a45af9467bc7b7f4ef179",
            "90a586457b374eca961426750649cf73",
            "2fbea0d775084d3a8fb5142a97085083",
            "d6e4c1f31a004d9da3f56110349da3a7",
            "f9d72ad7112440c5834851b6534ee0ab",
            "af998f78353143779028c1a540c0fda7",
            "6fe8c3c530744c61865a9b33b502af45",
            "064305eba4364fbd8a70f62ab943a98e",
            "33dfa5d7f72242e7a712983b37d3bf75",
            "704089f0588b4d16ab47c2e07d47e3a1",
            "b1b20a7e8288467c9f27376e78a7344e",
            "1463857d22844bcd9b89194a5afa6471",
            "f015e066ba3245108350a2af905357f2",
            "4ab092cc3eca4f848eca4c1ba7cb5785",
            "a4ae8d2eec5a4af7bdf60b007b49bf05",
            "d88503ad3e514288a5e9e96b215b518d",
            "9ea98184d90d440fb60781a5e140ff9e",
            "8748a06823704e35b9ee94f82b649335",
            "3899470458cd4b64a72ba80dda0442cb",
            "8e2c6cb677544be3918c7ca59733a412",
            "755117207d0147f98a71bcbe94efd533",
            "b32b417a97854353bd704a26a96d0020",
            "afe778de02134de69358fc94992751cb",
            "455939e1445e450491cffa2c452c875e",
            "5bde0a162b4c4fb4a919b13065dc1c1b",
            "d4521ba9dcf44d7b95e3f06d9ed69509",
            "c09b9f68cb384335ae691878e6ced436",
            "290757b08a774fdbb7c23bb241be25e9",
            "828d5acee3394d21a82792772226b0d9",
            "7b5d345db7c24d8c8caba00f59ea7e97",
            "ae641f0e5a3a485994d748dc94ee6e66",
            "826cab74aaa247aeaf739d4dbbe16bc2",
            "6e8b2c098854437dae67e6a2c93d4f51",
            "d104cd85dc0a4228ad0fde43fc41423b",
            "c6058ac2835d441ebfdf3da524704058",
            "a87ee9f10a974258b3df185b2a958f58",
            "696d7b9ef9744858941ee0df41d16e11",
            "c6f7317607564d72b8f418f2f6ac6919",
            "17382f430beb4ebda8716e990cceeab6"
          ]
        },
        "outputId": "a39c6ed4-743c-42d8-d299-ad80526105d8"
      },
      "source": [
        "#create the transformer to transform the data as a tensor and normalize\n",
        "transforms = torchvision.transforms.Compose([torchvision.transforms.ToTensor()])\n",
        "\n",
        "#Create the train data\n",
        "train_dataset_py = torchvision.datasets.MNIST(root = 'data/',\n",
        "                                             download = True,\n",
        "                                             train = True,\n",
        "                                             transform = transforms)\n",
        "#Create the test data\n",
        "test_dataset_py = torchvision.datasets.MNIST(root = 'data/',\n",
        "                                             download = True,\n",
        "                                             train = False,\n",
        "                                             transform = transforms)"
      ],
      "execution_count": 4,
      "outputs": [
        {
          "output_type": "stream",
          "name": "stdout",
          "text": [
            "Downloading http://yann.lecun.com/exdb/mnist/train-images-idx3-ubyte.gz\n",
            "Downloading http://yann.lecun.com/exdb/mnist/train-images-idx3-ubyte.gz to data/MNIST/raw/train-images-idx3-ubyte.gz\n"
          ]
        },
        {
          "output_type": "display_data",
          "data": {
            "application/vnd.jupyter.widget-view+json": {
              "model_id": "a2a349f517884259b159b699b3086f15",
              "version_minor": 0,
              "version_major": 2
            },
            "text/plain": [
              "  0%|          | 0/9912422 [00:00<?, ?it/s]"
            ]
          },
          "metadata": {}
        },
        {
          "output_type": "stream",
          "name": "stdout",
          "text": [
            "Extracting data/MNIST/raw/train-images-idx3-ubyte.gz to data/MNIST/raw\n",
            "\n",
            "Downloading http://yann.lecun.com/exdb/mnist/train-labels-idx1-ubyte.gz\n",
            "Downloading http://yann.lecun.com/exdb/mnist/train-labels-idx1-ubyte.gz to data/MNIST/raw/train-labels-idx1-ubyte.gz\n"
          ]
        },
        {
          "output_type": "display_data",
          "data": {
            "application/vnd.jupyter.widget-view+json": {
              "model_id": "6fe8c3c530744c61865a9b33b502af45",
              "version_minor": 0,
              "version_major": 2
            },
            "text/plain": [
              "  0%|          | 0/28881 [00:00<?, ?it/s]"
            ]
          },
          "metadata": {}
        },
        {
          "output_type": "stream",
          "name": "stdout",
          "text": [
            "Extracting data/MNIST/raw/train-labels-idx1-ubyte.gz to data/MNIST/raw\n",
            "\n",
            "Downloading http://yann.lecun.com/exdb/mnist/t10k-images-idx3-ubyte.gz\n",
            "Downloading http://yann.lecun.com/exdb/mnist/t10k-images-idx3-ubyte.gz to data/MNIST/raw/t10k-images-idx3-ubyte.gz\n"
          ]
        },
        {
          "output_type": "display_data",
          "data": {
            "application/vnd.jupyter.widget-view+json": {
              "model_id": "8748a06823704e35b9ee94f82b649335",
              "version_minor": 0,
              "version_major": 2
            },
            "text/plain": [
              "  0%|          | 0/1648877 [00:00<?, ?it/s]"
            ]
          },
          "metadata": {}
        },
        {
          "output_type": "stream",
          "name": "stdout",
          "text": [
            "Extracting data/MNIST/raw/t10k-images-idx3-ubyte.gz to data/MNIST/raw\n",
            "\n",
            "Downloading http://yann.lecun.com/exdb/mnist/t10k-labels-idx1-ubyte.gz\n",
            "Downloading http://yann.lecun.com/exdb/mnist/t10k-labels-idx1-ubyte.gz to data/MNIST/raw/t10k-labels-idx1-ubyte.gz\n"
          ]
        },
        {
          "output_type": "display_data",
          "data": {
            "application/vnd.jupyter.widget-view+json": {
              "model_id": "828d5acee3394d21a82792772226b0d9",
              "version_minor": 0,
              "version_major": 2
            },
            "text/plain": [
              "  0%|          | 0/4542 [00:00<?, ?it/s]"
            ]
          },
          "metadata": {}
        },
        {
          "output_type": "stream",
          "name": "stdout",
          "text": [
            "Extracting data/MNIST/raw/t10k-labels-idx1-ubyte.gz to data/MNIST/raw\n",
            "\n"
          ]
        }
      ]
    },
    {
      "cell_type": "code",
      "metadata": {
        "id": "dHD40-lkr-DI",
        "colab": {
          "base_uri": "https://localhost:8080/",
          "height": 282
        },
        "outputId": "bf8ad16e-23c2-4432-bb45-8b3360ef29e8"
      },
      "source": [
        "#Visualize an image from dataset\n",
        "def imshowPytorch(img):\n",
        "  npimg = img.numpy() #tensor to numpy\n",
        "  plt.imshow(np.transpose(npimg, (1,2,0)))\n",
        "\n",
        "image, label = train_dataset_py[0]\n",
        "imshowPytorch(torchvision.utils.make_grid(image))\n",
        "print(label)"
      ],
      "execution_count": 5,
      "outputs": [
        {
          "output_type": "stream",
          "name": "stdout",
          "text": [
            "5\n"
          ]
        },
        {
          "output_type": "display_data",
          "data": {
            "image/png": "[encoded data removed]",
            "text/plain": [
              "<Figure size 432x288 with 1 Axes>"
            ]
          },
          "metadata": {
            "needs_background": "light"
          }
        }
      ]
    },
    {
      "cell_type": "code",
      "metadata": {
        "id": "MtmKyijmm464"
      },
      "source": [
        "#randomly shuffling and separating out a desired portion as validation\n",
        "def split_indices(n, val_pct):\n",
        "  \n",
        "  #determine the size of validation set\n",
        "  n_val = int(val_pct*n)\n",
        "  \n",
        "  #create random permutation of 0 to n-1\n",
        "  idxs = np.random.permutation(n)\n",
        "  \n",
        "  #pick first n_val indices for validation set\n",
        "  return idxs[n_val:], idxs[:n_val]\n",
        "\n",
        "train_indices, val_indices = split_indices(len(train_dataset_py), val_pct=0.20)"
      ],
      "execution_count": 6,
      "outputs": []
    },
    {
      "cell_type": "code",
      "metadata": {
        "id": "5WEGbxKanszT"
      },
      "source": [
        "#create data loader\n",
        "from torch.utils.data.sampler import SubsetRandomSampler\n",
        "from torch.utils.data.dataloader import DataLoader\n",
        "\n",
        "batch_size=64\n",
        "\n",
        "#Training sampler and dataloader\n",
        "train_sampler = SubsetRandomSampler(train_indices)\n",
        "train_loader = DataLoader(train_dataset_py, batch_size,sampler= train_sampler)\n",
        "\n",
        "#Validation sampler and data loader\n",
        "val_sampler = SubsetRandomSampler(val_indices)\n",
        "val_loader = DataLoader(train_dataset_py, batch_size, sampler= val_sampler)\n",
        "\n",
        "#Test data loader\n",
        "test_loader = DataLoader(test_dataset_py, batch_size, shuffle = False)"
      ],
      "execution_count": 7,
      "outputs": []
    },
    {
      "cell_type": "markdown",
      "metadata": {
        "id": "j8GA5q_qzlFg"
      },
      "source": [
        "## Tensorflow"
      ]
    },
    {
      "cell_type": "code",
      "metadata": {
        "id": "rrny-i7Azo1V",
        "colab": {
          "base_uri": "https://localhost:8080/"
        },
        "outputId": "83a7b910-1efd-4cf3-95d8-fd3342c8397a"
      },
      "source": [
        "#load the dataset\n",
        "mnist = tf.keras.datasets.mnist\n",
        "\n",
        "#split to test and train\n",
        "(train_images_tf, train_labels_tf), (test_images_tf, test_labels_tf) = mnist.load_data()\n"
      ],
      "execution_count": 8,
      "outputs": [
        {
          "output_type": "stream",
          "name": "stdout",
          "text": [
            "Downloading data from https://storage.googleapis.com/tensorflow/tf-keras-datasets/mnist.npz\n",
            "11493376/11490434 [==============================] - 0s 0us/step\n",
            "11501568/11490434 [==============================] - 0s 0us/step\n"
          ]
        }
      ]
    },
    {
      "cell_type": "code",
      "metadata": {
        "id": "xAK8MN5fNWVs",
        "colab": {
          "base_uri": "https://localhost:8080/",
          "height": 282
        },
        "outputId": "ea1d3a3c-d0ec-46c3-98a7-a7dd4daab7a6"
      },
      "source": [
        "#Visualize an image from dataset\n",
        "def imshowTensorFlow(img):\n",
        "  plt.imshow(img,  cmap='gray')\n",
        "  \n",
        "imshowTensorFlow(train_images_tf[0])\n",
        "print(train_labels_tf[0])"
      ],
      "execution_count": 9,
      "outputs": [
        {
          "output_type": "stream",
          "name": "stdout",
          "text": [
            "5\n"
          ]
        },
        {
          "output_type": "display_data",
          "data": {
            "image/png": "[encoded data removed]",
            "text/plain": [
              "<Figure size 432x288 with 1 Axes>"
            ]
          },
          "metadata": {
            "needs_background": "light"
          }
        }
      ]
    },
    {
      "cell_type": "code",
      "metadata": {
        "id": "_TXFXemS8EwV"
      },
      "source": [
        "#Reshape the training dataset to 4D so that last digit can be describes as \n",
        "#channels which is 1 for greyscale images\n",
        "train_images_tf = train_images_tf.reshape(train_images_tf.shape[0], 28, 28,1)\n",
        "test_images_tf = test_images_tf.reshape(test_images_tf.shape[0], 28, 28,1)\n",
        "\n",
        "#Convert the pixel values from int to float values\n",
        "#Normalize the dataset as the pixel values are between 0 and 255\n",
        "train_images_tf = train_images_tf.astype('float32')\n",
        "test_images_tf = test_images_tf.astype('float32')\n",
        "train_images_tf = train_images_tf/ 255.0\n",
        "test_images_tf = test_images_tf/ 255.0\n",
        "\n",
        "# Convert 1-dimensional class arrays to 10-dimensional class matrices\n",
        "train_labels_tf = tf.keras.utils.to_categorical(train_labels_tf, 10, dtype='float32')\n",
        "test_labels_tf = tf.keras.utils.to_categorical(test_labels_tf, 10, dtype='float32')"
      ],
      "execution_count": 10,
      "outputs": []
    },
    {
      "cell_type": "markdown",
      "metadata": {
        "id": "qK94BW7GwaoC"
      },
      "source": [
        "# Model Building"
      ]
    },
    {
      "cell_type": "markdown",
      "metadata": {
        "id": "dDyW8tlsyz4g"
      },
      "source": [
        "**Same Network Architecture**"
      ]
    },
    {
      "cell_type": "markdown",
      "metadata": {
        "id": "xL1LSYDt3Pm_"
      },
      "source": [
        "## Pytorch"
      ]
    },
    {
      "cell_type": "code",
      "metadata": {
        "id": "JWT94SwlwfnK"
      },
      "source": [
        "# Define the model\n",
        "class NeuralNet(torch.nn.Module):\n",
        "    def __init__(self, num_of_class):\n",
        "        super(NeuralNet, self).__init__()\n",
        "        self.layer1 = torch.nn.Sequential(\n",
        "            torch.nn.Conv2d(1, 32, kernel_size=3),\n",
        "            torch.nn.BatchNorm2d(32),\n",
        "            torch.nn.ReLU(),\n",
        "            torch.nn.Conv2d(32, 64, kernel_size=3),\n",
        "            torch.nn.BatchNorm2d(64),\n",
        "            torch.nn.ReLU(),\n",
        "            torch.nn.MaxPool2d(kernel_size=2, stride=2))\n",
        "        self.layer2 = torch.nn.Sequential(\n",
        "            torch.nn.Conv2d(64, 64, kernel_size=3),\n",
        "            torch.nn.BatchNorm2d(64),\n",
        "            torch.nn.ReLU(),\n",
        "            torch.nn.MaxPool2d(kernel_size=2, stride=2),\n",
        "            torch.nn.Conv2d(64, 64, kernel_size=3),\n",
        "            torch.nn.BatchNorm2d(64),\n",
        "            torch.nn.ReLU())\n",
        "        self.layer3 = torch.nn.Sequential(\n",
        "            torch.nn.Conv2d(64, num_of_class, kernel_size=3))\n",
        "\n",
        "    def forward(self, x):\n",
        "        out = self.layer1(x)\n",
        "        out = self.layer2(out)\n",
        "        out = self.layer3(out)\n",
        "        out = out.reshape(out.size(0), -1)\n",
        "        return out"
      ],
      "execution_count": 11,
      "outputs": []
    },
    {
      "cell_type": "markdown",
      "metadata": {
        "id": "IBfSAfWb5PuF"
      },
      "source": [
        "## Tensorflow"
      ]
    },
    {
      "cell_type": "code",
      "metadata": {
        "id": "9WbmEGRK5RWx"
      },
      "source": [
        "# Define the model\n",
        "modeltf = tf.keras.models.Sequential([\n",
        "    tf.keras.layers.Conv2D(32, (3, 3), input_shape=(28, 28, 1)),\n",
        "    tf.keras.layers.BatchNormalization(momentum=0.1,epsilon=1e-5),\n",
        "    tf.keras.layers.Activation('relu'),\n",
        "    tf.keras.layers.Conv2D(64, (3, 3), activation='relu'),\n",
        "    tf.keras.layers.BatchNormalization(momentum=0.1,epsilon=1e-5),\n",
        "    tf.keras.layers.Activation('relu'),\n",
        "    tf.keras.layers.MaxPool2D((2,2)),\n",
        "    tf.keras.layers.Conv2D(64, (3, 3), activation='relu'),\n",
        "    tf.keras.layers.BatchNormalization(momentum=0.1,epsilon=1e-5),\n",
        "    tf.keras.layers.Activation('relu'),\n",
        "    tf.keras.layers.MaxPool2D((2,2)),\n",
        "    tf.keras.layers.Conv2D(64, (3,3), activation='relu'),\n",
        "    tf.keras.layers.BatchNormalization(momentum=0.1,epsilon=1e-5),\n",
        "    tf.keras.layers.Activation('relu'),\n",
        "    tf.keras.layers.Conv2D(10, (3,3)),\n",
        "    tf.keras.layers.Flatten(),\n",
        "    tf.keras.layers.Activation('softmax')\n",
        "    ])"
      ],
      "execution_count": 12,
      "outputs": []
    },
    {
      "cell_type": "markdown",
      "metadata": {
        "id": "QurDq7NWA_k8"
      },
      "source": [
        "# Model Training"
      ]
    },
    {
      "cell_type": "markdown",
      "metadata": {
        "id": "rKEkROfo3vvx"
      },
      "source": [
        "**In Pytorch:**\n",
        "* To train model on GPU you have to implement these steps for dataloader and model.\n",
        "* To fit the model you need to define every steps that goes from training to calculate loss to backpropagation to optimization. Always reset the gradients after every update.\n",
        "\n",
        "**In Tensorflow:**\n",
        "* Tensorflow detects if GPU is on and trains on that automatically\n",
        "* Everything works in the background, you just need to pass the parameters in compile and fit functions."
      ]
    },
    {
      "cell_type": "markdown",
      "metadata": {
        "id": "aWlxJ0HlBDHw"
      },
      "source": [
        "## Pytorch"
      ]
    },
    {
      "cell_type": "markdown",
      "metadata": {
        "id": "rq5q5cOd_m6R"
      },
      "source": [
        "### Using GPU"
      ]
    },
    {
      "cell_type": "code",
      "metadata": {
        "id": "dJM7Pbxw_tmL"
      },
      "source": [
        "def get_default_device():\n",
        "  \"\"\"Pick GPUif available, else CPU\"\"\"\n",
        "  if torch.cuda.is_available():\n",
        "    return torch.device('cuda')\n",
        "  else:\n",
        "    return torch.device('cpu')\n",
        "\n",
        "device = get_default_device()"
      ],
      "execution_count": 13,
      "outputs": []
    },
    {
      "cell_type": "code",
      "metadata": {
        "id": "YEcVNtO5_v4k"
      },
      "source": [
        "def to_device(data, device):\n",
        "  \"\"\"Move tensors to chosen device\"\"\"\n",
        "  if isinstance(data, (list, tuple)):\n",
        "    return [to_device(x, device) for x in data]\n",
        "  return data.to(device, non_blocking=True)"
      ],
      "execution_count": 14,
      "outputs": []
    },
    {
      "cell_type": "code",
      "metadata": {
        "id": "kZl-vYWW_7lX"
      },
      "source": [
        "class DeviceDataLoader():\n",
        "  \"\"\"Wrap a dataloader to move data to a device\"\"\"\n",
        "  def __init__(self, dl, device):\n",
        "    self.dl = dl\n",
        "    self.device = device\n",
        "    \n",
        "  def __iter__(self):\n",
        "    \"\"\"Yield a batch of data after moving it to device\"\"\"\n",
        "    for b in self.dl:\n",
        "      yield to_device(b, self.device)\n",
        "      \n",
        "  def __len__(self):\n",
        "    \"\"\"Number of batches\"\"\"\n",
        "    return len(self.dl)"
      ],
      "execution_count": 15,
      "outputs": []
    },
    {
      "cell_type": "code",
      "metadata": {
        "id": "0xx2fXE4AAtq"
      },
      "source": [
        "#Wrap the data loader using DeviceDataLoader\n",
        "train_dl = DeviceDataLoader(train_loader, device)\n",
        "valid_dl = DeviceDataLoader(val_loader, device)\n",
        "test_dl = DeviceDataLoader(test_loader, device)"
      ],
      "execution_count": 16,
      "outputs": []
    },
    {
      "cell_type": "markdown",
      "metadata": {
        "id": "C0zbeVkiAKYq"
      },
      "source": [
        "### Training the Model"
      ]
    },
    {
      "cell_type": "code",
      "metadata": {
        "id": "vGnZzc6-Bc8h"
      },
      "source": [
        "# Evaluation Metric\n",
        "def accuracy(outputs, labels):\n",
        "  #determine the predicted label for each image by simply choosing \n",
        "  #the index of the element with the highest probability in each output row.\n",
        "  _,preds = torch.max(outputs, dim=1)\n",
        "  return torch.sum(preds == labels).item() / len(preds)"
      ],
      "execution_count": 17,
      "outputs": []
    },
    {
      "cell_type": "code",
      "metadata": {
        "id": "Z2riuksWBCVE"
      },
      "source": [
        "def loss_batch(model, loss_func, xb, yb, opt=None, metric=None):\n",
        "  \n",
        "  #Calculate loss\n",
        "  preds = model(xb)\n",
        "  loss = loss_func(preds, yb)\n",
        "  \n",
        "  if opt is not None:\n",
        "    #Compute gradients\n",
        "    loss.backward()\n",
        "    #Update parameters\n",
        "    opt.step()\n",
        "    #Reset gradients\n",
        "    opt.zero_grad()\n",
        "    \n",
        "  metric_result = None\n",
        "  if metric is not None:\n",
        "    #compute metric\n",
        "    metric_result = metric(preds, yb)\n",
        "      \n",
        "  return loss.item(), len(xb), metric_result"
      ],
      "execution_count": 18,
      "outputs": []
    },
    {
      "cell_type": "code",
      "metadata": {
        "id": "7PU_Qb3WBPcU"
      },
      "source": [
        "def evaluate(model, loss_fn, dl, metric=None):\n",
        "  with torch.no_grad():\n",
        "    \n",
        "    #Pass each batch through the model\n",
        "    results = [loss_batch(model, loss_fn, xb, yb, metric=metric) for xb, yb in dl]\n",
        "    \n",
        "    #Separate losses, counts and metrics\n",
        "    losses, nums, metrics = zip(*results)\n",
        "    \n",
        "    #Total size of dataset\n",
        "    total = np.sum(nums)\n",
        "    \n",
        "    #Avg. loss across batches\n",
        "    avg_loss = np.sum(np.multiply(losses, nums)) / total\n",
        "    avg_metric = None\n",
        "    if metric is not None:\n",
        "      #avg of metric across batches\n",
        "      avg_metric = np.sum(np.multiply(metrics, nums)) / total\n",
        "  \n",
        "  return avg_loss, total, avg_metric"
      ],
      "execution_count": 19,
      "outputs": []
    },
    {
      "cell_type": "code",
      "metadata": {
        "id": "Zl6FW-y7BjTu"
      },
      "source": [
        "def fit(epochs, lr, model, loss_fn, train_dl, \n",
        "        valid_dl, metric=None, opt_fn=None):\n",
        "  \n",
        "  losses, metrics = [],[]\n",
        "  \n",
        "  #Instantiate the optimizer\n",
        "  if opt_fn is None: opt_fn = torch.optim.Adam\n",
        "  opt = torch.optim.Adam(model.parameters(), lr=lr)\n",
        "  \n",
        "  for epoch in range(epochs):\n",
        "    #Training\n",
        "    for xb, yb in train_dl:\n",
        "      train_loss,_,train_acc = loss_batch(model, loss_fn, xb, yb, opt, metric)\n",
        "    \n",
        "    #Evaluation\n",
        "    val_loss,_, val_acc = evaluate(model, loss_fn, valid_dl, metric)\n",
        "    \n",
        "    #Record the loss and metric\n",
        "    losses.append(val_loss)\n",
        "    metrics.append(val_acc)\n",
        "    \n",
        "    #Print progress\n",
        "    if metric is None:\n",
        "      print('Epoch [{}/{}], Train_Loss: {:.4f}, Val_Loss: {:.4f}'.format\n",
        "           (epoch+1, epochs, train_loss, val_loss))\n",
        "    else:\n",
        "      print('Epoch [{}/{}], Train_Loss: {:.4f}, Train_Acc {:.4f}, Val_Loss: {:.4f}, Val_Acc: {:.4f}'.format\n",
        "           (epoch+1, epochs, train_loss, train_acc, val_loss, val_acc))\n",
        "      \n",
        "  return losses, metrics"
      ],
      "execution_count": 20,
      "outputs": []
    },
    {
      "cell_type": "code",
      "metadata": {
        "id": "sw9hvz5BBnmF",
        "colab": {
          "base_uri": "https://localhost:8080/"
        },
        "outputId": "4474ab20-4cdb-4f57-8899-49f8b46c1a0a"
      },
      "source": [
        "%%time\n",
        "#Lets fit the model\n",
        "modelpy = NeuralNet(num_of_class=10)\n",
        "to_device(modelpy, device)\n",
        "\n",
        "#Fit\n",
        "losses, metrics = fit(10, 0.001, modelpy, torch.nn.CrossEntropyLoss(), train_dl, valid_dl, metric=accuracy)"
      ],
      "execution_count": 21,
      "outputs": [
        {
          "output_type": "stream",
          "name": "stdout",
          "text": [
            "Epoch [1/10], Train_Loss: 0.0093, Train_Acc 1.0000, Val_Loss: 0.0388, Val_Acc: 0.9877\n",
            "Epoch [2/10], Train_Loss: 0.0556, Train_Acc 0.9688, Val_Loss: 0.0358, Val_Acc: 0.9882\n",
            "Epoch [3/10], Train_Loss: 0.0012, Train_Acc 1.0000, Val_Loss: 0.0337, Val_Acc: 0.9892\n",
            "Epoch [4/10], Train_Loss: 0.0559, Train_Acc 0.9844, Val_Loss: 0.0388, Val_Acc: 0.9882\n",
            "Epoch [5/10], Train_Loss: 0.1027, Train_Acc 0.9688, Val_Loss: 0.0311, Val_Acc: 0.9913\n",
            "Epoch [6/10], Train_Loss: 0.0030, Train_Acc 1.0000, Val_Loss: 0.0306, Val_Acc: 0.9908\n",
            "Epoch [7/10], Train_Loss: 0.0033, Train_Acc 1.0000, Val_Loss: 0.0278, Val_Acc: 0.9923\n",
            "Epoch [8/10], Train_Loss: 0.0054, Train_Acc 1.0000, Val_Loss: 0.0370, Val_Acc: 0.9901\n",
            "Epoch [9/10], Train_Loss: 0.0087, Train_Acc 1.0000, Val_Loss: 0.0312, Val_Acc: 0.9923\n",
            "Epoch [10/10], Train_Loss: 0.0017, Train_Acc 1.0000, Val_Loss: 0.0330, Val_Acc: 0.9919\n",
            "CPU times: user 2min 7s, sys: 1.23 s, total: 2min 9s\n",
            "Wall time: 2min 9s\n"
          ]
        }
      ]
    },
    {
      "cell_type": "markdown",
      "metadata": {
        "id": "ik-UtDdWU4dM"
      },
      "source": [
        "### Visualization"
      ]
    },
    {
      "cell_type": "code",
      "metadata": {
        "id": "N-19httEU4JT",
        "colab": {
          "base_uri": "https://localhost:8080/",
          "height": 295
        },
        "outputId": "49f141f7-d59e-4562-93f3-cfeb2e4e4815"
      },
      "source": [
        "plt.plot(metrics, '-x')\n",
        "plt.xlabel('epochs')\n",
        "plt.ylabel('val accuracy')\n",
        "plt.title('Accuracy vs No. of epochs')\n",
        "plt.show()"
      ],
      "execution_count": 22,
      "outputs": [
        {
          "output_type": "display_data",
          "data": {
            "image/png": "[encoded data removed]",
            "text/plain": [
              "<Figure size 432x288 with 1 Axes>"
            ]
          },
          "metadata": {
            "needs_background": "light"
          }
        }
      ]
    },
    {
      "cell_type": "markdown",
      "metadata": {
        "id": "R_utJrHh_EI3"
      },
      "source": [
        "## Tensorflow"
      ]
    },
    {
      "cell_type": "markdown",
      "metadata": {
        "id": "WZGGpt14VH5k"
      },
      "source": [
        "### Training the Model"
      ]
    },
    {
      "cell_type": "code",
      "metadata": {
        "id": "uFaMCkcS_Fwu"
      },
      "source": [
        "#Build the model\n",
        "modeltf.compile(loss='categorical_crossentropy',\n",
        "                optimizer='adam', \n",
        "                metrics=['accuracy'])"
      ],
      "execution_count": 23,
      "outputs": []
    },
    {
      "cell_type": "code",
      "metadata": {
        "id": "t0Si02LmCe35",
        "colab": {
          "base_uri": "https://localhost:8080/"
        },
        "outputId": "09b193a7-68b6-4d86-f1ff-ad7076e012ac"
      },
      "source": [
        "%%time\n",
        "#Lets fit the model\n",
        "history = modeltf.fit(train_images_tf, train_labels_tf, \n",
        "                      batch_size=64, epochs=10, \n",
        "                      validation_split=0.2, \n",
        "                      shuffle=True)"
      ],
      "execution_count": 24,
      "outputs": [
        {
          "output_type": "stream",
          "name": "stdout",
          "text": [
            "Epoch 1/10\n",
            "750/750 [==============================] - 17s 9ms/step - loss: 0.1014 - accuracy: 0.9714 - val_loss: 0.0447 - val_accuracy: 0.9866\n",
            "Epoch 2/10\n",
            "750/750 [==============================] - 6s 8ms/step - loss: 0.0315 - accuracy: 0.9904 - val_loss: 0.0369 - val_accuracy: 0.9898\n",
            "Epoch 3/10\n",
            "750/750 [==============================] - 5s 7ms/step - loss: 0.0211 - accuracy: 0.9937 - val_loss: 0.0307 - val_accuracy: 0.9905\n",
            "Epoch 4/10\n",
            "750/750 [==============================] - 6s 7ms/step - loss: 0.0161 - accuracy: 0.9948 - val_loss: 0.0353 - val_accuracy: 0.9893\n",
            "Epoch 5/10\n",
            "750/750 [==============================] - 6s 7ms/step - loss: 0.0112 - accuracy: 0.9967 - val_loss: 0.0392 - val_accuracy: 0.9893\n",
            "Epoch 6/10\n",
            "750/750 [==============================] - 6s 8ms/step - loss: 0.0086 - accuracy: 0.9972 - val_loss: 0.0320 - val_accuracy: 0.9917\n",
            "Epoch 7/10\n",
            "750/750 [==============================] - 6s 8ms/step - loss: 0.0096 - accuracy: 0.9967 - val_loss: 0.0279 - val_accuracy: 0.9922\n",
            "Epoch 8/10\n",
            "750/750 [==============================] - 6s 8ms/step - loss: 0.0071 - accuracy: 0.9977 - val_loss: 0.0393 - val_accuracy: 0.9907\n",
            "Epoch 9/10\n",
            "750/750 [==============================] - 6s 9ms/step - loss: 0.0057 - accuracy: 0.9981 - val_loss: 0.0322 - val_accuracy: 0.9914\n",
            "Epoch 10/10\n",
            "750/750 [==============================] - 6s 8ms/step - loss: 0.0064 - accuracy: 0.9979 - val_loss: 0.0349 - val_accuracy: 0.9915\n",
            "CPU times: user 1min 2s, sys: 7.54 s, total: 1min 9s\n",
            "Wall time: 1min 23s\n"
          ]
        }
      ]
    },
    {
      "cell_type": "markdown",
      "metadata": {
        "id": "GmvOMUnuVCTy"
      },
      "source": [
        "### Visualization"
      ]
    },
    {
      "cell_type": "code",
      "metadata": {
        "id": "SeqNVIzGVC97",
        "colab": {
          "base_uri": "https://localhost:8080/",
          "height": 295
        },
        "outputId": "daaf3233-683b-4d68-fd41-70f222939068"
      },
      "source": [
        "plt.plot(history.history['val_accuracy'], '-x')\n",
        "plt.xlabel('epochs')\n",
        "plt.ylabel('val accuracy')\n",
        "plt.title('Accuracy vs No. of epochs')\n",
        "plt.show()"
      ],
      "execution_count": 26,
      "outputs": [
        {
          "output_type": "display_data",
          "data": {
            "image/png": "[encoded data removed]",
            "text/plain": [
              "<Figure size 432x288 with 1 Axes>"
            ]
          },
          "metadata": {
            "needs_background": "light"
          }
        }
      ]
    },
    {
      "cell_type": "markdown",
      "metadata": {
        "id": "zwN-3EE_Ul-E"
      },
      "source": [
        "# Model Testing"
      ]
    },
    {
      "cell_type": "markdown",
      "metadata": {
        "id": "tpBaHTHDWDhg"
      },
      "source": [
        "## Pytorch"
      ]
    },
    {
      "cell_type": "code",
      "metadata": {
        "id": "oYXNkbRLOgDZ",
        "colab": {
          "base_uri": "https://localhost:8080/"
        },
        "outputId": "0af781bb-1647-4df6-dd20-4a258e8d5c06"
      },
      "source": [
        "test_loss, _, test_acc = evaluate(modelpy, torch.nn.CrossEntropyLoss(), test_dl, metric=accuracy)\n",
        "print('Test Loss: {:.4f}, Test Accuracy: {:.4f}'.format (test_loss, test_acc))"
      ],
      "execution_count": 27,
      "outputs": [
        {
          "output_type": "stream",
          "name": "stdout",
          "text": [
            "Test Loss: 0.0281, Test Accuracy: 0.9919\n"
          ]
        }
      ]
    },
    {
      "cell_type": "markdown",
      "metadata": {
        "id": "UADbmwDgWHHT"
      },
      "source": [
        "## Tensorflow"
      ]
    },
    {
      "cell_type": "code",
      "metadata": {
        "id": "KJl8Pjm3WIKr",
        "colab": {
          "base_uri": "https://localhost:8080/"
        },
        "outputId": "ed67940d-18b9-4cfa-b32a-497e883a8e81"
      },
      "source": [
        "test_loss, test_acc = modeltf.evaluate(test_images_tf, test_labels_tf)\n",
        "print('Test Loss: {:.4f}, Test Accuracy: {:.4f}'.format(test_loss, test_acc))"
      ],
      "execution_count": 28,
      "outputs": [
        {
          "output_type": "stream",
          "name": "stdout",
          "text": [
            "313/313 [==============================] - 1s 4ms/step - loss: 0.0281 - accuracy: 0.9922\n",
            "Test Loss: 0.0281, Test Accuracy: 0.9922\n"
          ]
        }
      ]
    },
    {
      "cell_type": "markdown",
      "metadata": {
        "id": "QAZBDNezXMho"
      },
      "source": [
        "# Save and Load the Model"
      ]
    },
    {
      "cell_type": "markdown",
      "metadata": {
        "id": "Iem3Vo7iXQTC"
      },
      "source": [
        "## Pytorch"
      ]
    },
    {
      "cell_type": "code",
      "metadata": {
        "id": "Qsiyl170XO3B",
        "colab": {
          "base_uri": "https://localhost:8080/"
        },
        "outputId": "3207e4e9-d3c0-4cc5-eca7-0807b6af1c27"
      },
      "source": [
        "torch.save(modelpy, 'modelpy.pt')\n",
        "model_load_py = torch.load(\"modelpy.pt\")\n",
        "model_load_py"
      ],
      "execution_count": 29,
      "outputs": [
        {
          "output_type": "execute_result",
          "data": {
            "text/plain": [
              "NeuralNet(\n",
              "  (layer1): Sequential(\n",
              "    (0): Conv2d(1, 32, kernel_size=(3, 3), stride=(1, 1))\n",
              "    (1): BatchNorm2d(32, eps=1e-05, momentum=0.1, affine=True, track_running_stats=True)\n",
              "    (2): ReLU()\n",
              "    (3): Conv2d(32, 64, kernel_size=(3, 3), stride=(1, 1))\n",
              "    (4): BatchNorm2d(64, eps=1e-05, momentum=0.1, affine=True, track_running_stats=True)\n",
              "    (5): ReLU()\n",
              "    (6): MaxPool2d(kernel_size=2, stride=2, padding=0, dilation=1, ceil_mode=False)\n",
              "  )\n",
              "  (layer2): Sequential(\n",
              "    (0): Conv2d(64, 64, kernel_size=(3, 3), stride=(1, 1))\n",
              "    (1): BatchNorm2d(64, eps=1e-05, momentum=0.1, affine=True, track_running_stats=True)\n",
              "    (2): ReLU()\n",
              "    (3): MaxPool2d(kernel_size=2, stride=2, padding=0, dilation=1, ceil_mode=False)\n",
              "    (4): Conv2d(64, 64, kernel_size=(3, 3), stride=(1, 1))\n",
              "    (5): BatchNorm2d(64, eps=1e-05, momentum=0.1, affine=True, track_running_stats=True)\n",
              "    (6): ReLU()\n",
              "  )\n",
              "  (layer3): Sequential(\n",
              "    (0): Conv2d(64, 10, kernel_size=(3, 3), stride=(1, 1))\n",
              "  )\n",
              ")"
            ]
          },
          "metadata": {},
          "execution_count": 29
        }
      ]
    },
    {
      "cell_type": "markdown",
      "metadata": {
        "id": "qVcfD6XoXbYt"
      },
      "source": [
        "## Tensorflow"
      ]
    },
    {
      "cell_type": "code",
      "metadata": {
        "id": "GWD8q4FnXcid",
        "colab": {
          "base_uri": "https://localhost:8080/"
        },
        "outputId": "eb21d399-55b5-4ba6-afe4-c9177721634e"
      },
      "source": [
        "modeltf.save('modeltf.h5')\n",
        "model_load_tf = tf.keras.models.load_model('modeltf.h5')\n",
        "model_load_tf.summary()"
      ],
      "execution_count": 30,
      "outputs": [
        {
          "output_type": "stream",
          "name": "stdout",
          "text": [
            "Model: \"sequential\"\n",
            "_________________________________________________________________\n",
            " Layer (type)                Output Shape              Param #   \n",
            "=================================================================\n",
            " conv2d (Conv2D)             (None, 26, 26, 32)        320       \n",
            "                                                                 \n",
            " batch_normalization (BatchN  (None, 26, 26, 32)       128       \n",
            " ormalization)                                                   \n",
            "                                                                 \n",
            " activation (Activation)     (None, 26, 26, 32)        0         \n",
            "                                                                 \n",
            " conv2d_1 (Conv2D)           (None, 24, 24, 64)        18496     \n",
            "                                                                 \n",
            " batch_normalization_1 (Batc  (None, 24, 24, 64)       256       \n",
            " hNormalization)                                                 \n",
            "                                                                 \n",
            " activation_1 (Activation)   (None, 24, 24, 64)        0         \n",
            "                                                                 \n",
            " max_pooling2d (MaxPooling2D  (None, 12, 12, 64)       0         \n",
            " )                                                               \n",
            "                                                                 \n",
            " conv2d_2 (Conv2D)           (None, 10, 10, 64)        36928     \n",
            "                                                                 \n",
            " batch_normalization_2 (Batc  (None, 10, 10, 64)       256       \n",
            " hNormalization)                                                 \n",
            "                                                                 \n",
            " activation_2 (Activation)   (None, 10, 10, 64)        0         \n",
            "                                                                 \n",
            " max_pooling2d_1 (MaxPooling  (None, 5, 5, 64)         0         \n",
            " 2D)                                                             \n",
            "                                                                 \n",
            " conv2d_3 (Conv2D)           (None, 3, 3, 64)          36928     \n",
            "                                                                 \n",
            " batch_normalization_3 (Batc  (None, 3, 3, 64)         256       \n",
            " hNormalization)                                                 \n",
            "                                                                 \n",
            " activation_3 (Activation)   (None, 3, 3, 64)          0         \n",
            "                                                                 \n",
            " conv2d_4 (Conv2D)           (None, 1, 1, 10)          5770      \n",
            "                                                                 \n",
            " flatten (Flatten)           (None, 10)                0         \n",
            "                                                                 \n",
            " activation_4 (Activation)   (None, 10)                0         \n",
            "                                                                 \n",
            "=================================================================\n",
            "Total params: 99,338\n",
            "Trainable params: 98,890\n",
            "Non-trainable params: 448\n",
            "_________________________________________________________________\n"
          ]
        }
      ]
    },
    {
      "cell_type": "markdown",
      "metadata": {
        "id": "hYdJpWAQ5uWc"
      },
      "source": [
        "#Conclusion"
      ]
    },
    {
      "cell_type": "markdown",
      "metadata": {
        "id": "xQSTXqyk5xsQ"
      },
      "source": [
        ":Both Deep Learning libraries have their own advantages and disadvantages. Go through this [Fast.ai article](https://www.fast.ai/2017/09/08/introducing-pytorch-for-fastai/) for having your point-of-view."
      ]
    }
  ]
}