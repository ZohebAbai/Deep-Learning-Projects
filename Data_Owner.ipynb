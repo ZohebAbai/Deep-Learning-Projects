{
 "cells": [
  {
   "cell_type": "markdown",
   "id": "05ba73a3-953e-4126-83fe-612e57094148",
   "metadata": {},
   "source": [
    "# Covid-19 Trends Predictions\n",
    "\n",
    "**As a Data owner you will prepare a dataset, convert the dataset into private tensors and create a login username/password for data scientist.**"
   ]
  },
  {
   "cell_type": "markdown",
   "id": "2c9c84a3-aad8-4778-bc60-128819461905",
   "metadata": {},
   "source": [
    "## Import Libraries"
   ]
  },
  {
   "cell_type": "code",
   "execution_count": 1,
   "id": "e82f116a-0148-45c6-b72a-be9b3163aa3a",
   "metadata": {},
   "outputs": [],
   "source": [
    "import syft as sy\n",
    "from syft.core.adp.entity import Entity\n",
    "\n",
    "import numpy as np\n",
    "import pandas as pd\n",
    "import matplotlib.pyplot as plt"
   ]
  },
  {
   "cell_type": "markdown",
   "id": "5b071b6c-910a-4c17-8f2c-b609356208aa",
   "metadata": {},
   "source": [
    "## Prepare Dataset\n",
    "\n",
    "In this dataset, each column corresponds to a country, each row corresponds to a new month where data was collected, and each value in this DataFrame corresponds to the number of COVID19 cases in the country at the start of that month."
   ]
  },
  {
   "cell_type": "code",
   "execution_count": 3,
   "id": "9acc0474-8442-48f5-9544-0bf93133f5e3",
   "metadata": {},
   "outputs": [
    {
     "data": {
      "text/html": [
       "<div>\n",
       "<style scoped>\n",
       "    .dataframe tbody tr th:only-of-type {\n",
       "        vertical-align: middle;\n",
       "    }\n",
       "\n",
       "    .dataframe tbody tr th {\n",
       "        vertical-align: top;\n",
       "    }\n",
       "\n",
       "    .dataframe thead th {\n",
       "        text-align: right;\n",
       "    }\n",
       "</style>\n",
       "<table border=\"1\" class=\"dataframe\">\n",
       "  <thead>\n",
       "    <tr style=\"text-align: right;\">\n",
       "      <th></th>\n",
       "      <th>0</th>\n",
       "      <th>1</th>\n",
       "      <th>2</th>\n",
       "      <th>3</th>\n",
       "      <th>4</th>\n",
       "      <th>5</th>\n",
       "      <th>6</th>\n",
       "      <th>7</th>\n",
       "      <th>8</th>\n",
       "      <th>9</th>\n",
       "      <th>...</th>\n",
       "      <th>165</th>\n",
       "      <th>166</th>\n",
       "      <th>167</th>\n",
       "      <th>168</th>\n",
       "      <th>169</th>\n",
       "      <th>170</th>\n",
       "      <th>171</th>\n",
       "      <th>172</th>\n",
       "      <th>173</th>\n",
       "      <th>174</th>\n",
       "    </tr>\n",
       "  </thead>\n",
       "  <tbody>\n",
       "    <tr>\n",
       "      <th>0</th>\n",
       "      <td>2280</td>\n",
       "      <td>2226</td>\n",
       "      <td>6198</td>\n",
       "      <td>184</td>\n",
       "      <td>1242</td>\n",
       "      <td>688</td>\n",
       "      <td>566</td>\n",
       "      <td>568</td>\n",
       "      <td>2190</td>\n",
       "      <td>88</td>\n",
       "      <td>...</td>\n",
       "      <td>1030</td>\n",
       "      <td>414</td>\n",
       "      <td>1444</td>\n",
       "      <td>802</td>\n",
       "      <td>468</td>\n",
       "      <td>1042</td>\n",
       "      <td>568</td>\n",
       "      <td>930</td>\n",
       "      <td>1044</td>\n",
       "      <td>2352</td>\n",
       "    </tr>\n",
       "    <tr>\n",
       "      <th>1</th>\n",
       "      <td>1140</td>\n",
       "      <td>1113</td>\n",
       "      <td>3099</td>\n",
       "      <td>92</td>\n",
       "      <td>621</td>\n",
       "      <td>344</td>\n",
       "      <td>283</td>\n",
       "      <td>284</td>\n",
       "      <td>1095</td>\n",
       "      <td>44</td>\n",
       "      <td>...</td>\n",
       "      <td>515</td>\n",
       "      <td>207</td>\n",
       "      <td>722</td>\n",
       "      <td>401</td>\n",
       "      <td>234</td>\n",
       "      <td>521</td>\n",
       "      <td>284</td>\n",
       "      <td>465</td>\n",
       "      <td>522</td>\n",
       "      <td>1176</td>\n",
       "    </tr>\n",
       "    <tr>\n",
       "      <th>2</th>\n",
       "      <td>1211</td>\n",
       "      <td>1378</td>\n",
       "      <td>2821</td>\n",
       "      <td>113</td>\n",
       "      <td>575</td>\n",
       "      <td>319</td>\n",
       "      <td>267</td>\n",
       "      <td>295</td>\n",
       "      <td>1167</td>\n",
       "      <td>52</td>\n",
       "      <td>...</td>\n",
       "      <td>577</td>\n",
       "      <td>231</td>\n",
       "      <td>655</td>\n",
       "      <td>449</td>\n",
       "      <td>224</td>\n",
       "      <td>600</td>\n",
       "      <td>224</td>\n",
       "      <td>577</td>\n",
       "      <td>492</td>\n",
       "      <td>1258</td>\n",
       "    </tr>\n",
       "    <tr>\n",
       "      <th>3</th>\n",
       "      <td>1238</td>\n",
       "      <td>1587</td>\n",
       "      <td>2356</td>\n",
       "      <td>107</td>\n",
       "      <td>520</td>\n",
       "      <td>265</td>\n",
       "      <td>296</td>\n",
       "      <td>316</td>\n",
       "      <td>1186</td>\n",
       "      <td>42</td>\n",
       "      <td>...</td>\n",
       "      <td>473</td>\n",
       "      <td>209</td>\n",
       "      <td>620</td>\n",
       "      <td>473</td>\n",
       "      <td>231</td>\n",
       "      <td>607</td>\n",
       "      <td>275</td>\n",
       "      <td>407</td>\n",
       "      <td>421</td>\n",
       "      <td>1109</td>\n",
       "    </tr>\n",
       "    <tr>\n",
       "      <th>4</th>\n",
       "      <td>1093</td>\n",
       "      <td>2075</td>\n",
       "      <td>2964</td>\n",
       "      <td>117</td>\n",
       "      <td>578</td>\n",
       "      <td>371</td>\n",
       "      <td>359</td>\n",
       "      <td>349</td>\n",
       "      <td>1151</td>\n",
       "      <td>48</td>\n",
       "      <td>...</td>\n",
       "      <td>550</td>\n",
       "      <td>227</td>\n",
       "      <td>648</td>\n",
       "      <td>447</td>\n",
       "      <td>232</td>\n",
       "      <td>563</td>\n",
       "      <td>188</td>\n",
       "      <td>338</td>\n",
       "      <td>432</td>\n",
       "      <td>1148</td>\n",
       "    </tr>\n",
       "  </tbody>\n",
       "</table>\n",
       "<p>5 rows × 175 columns</p>\n",
       "</div>"
      ],
      "text/plain": [
       "      0     1     2    3     4    5    6    7     8   9  ...   165  166   167  \\\n",
       "0  2280  2226  6198  184  1242  688  566  568  2190  88  ...  1030  414  1444   \n",
       "1  1140  1113  3099   92   621  344  283  284  1095  44  ...   515  207   722   \n",
       "2  1211  1378  2821  113   575  319  267  295  1167  52  ...   577  231   655   \n",
       "3  1238  1587  2356  107   520  265  296  316  1186  42  ...   473  209   620   \n",
       "4  1093  2075  2964  117   578  371  359  349  1151  48  ...   550  227   648   \n",
       "\n",
       "   168  169   170  171  172   173   174  \n",
       "0  802  468  1042  568  930  1044  2352  \n",
       "1  401  234   521  284  465   522  1176  \n",
       "2  449  224   600  224  577   492  1258  \n",
       "3  473  231   607  275  407   421  1109  \n",
       "4  447  232   563  188  338   432  1148  \n",
       "\n",
       "[5 rows x 175 columns]"
      ]
     },
     "execution_count": 3,
     "metadata": {},
     "output_type": "execute_result"
    }
   ],
   "source": [
    "covid_data = pd.read_csv(\"L3_raw_data.csv\")\n",
    "covid_data.head()"
   ]
  },
  {
   "cell_type": "code",
   "execution_count": 12,
   "id": "ec07a251-a240-4826-920f-e32f1a4dac04",
   "metadata": {},
   "outputs": [
    {
     "data": {
      "text/plain": [
       "False"
      ]
     },
     "execution_count": 12,
     "metadata": {},
     "output_type": "execute_result"
    }
   ],
   "source": [
    "# Check if Nan values\n",
    "covid_data.isna().values.any()"
   ]
  },
  {
   "cell_type": "markdown",
   "id": "32d91b8f-097f-4a2c-a2c2-5ca0c2840731",
   "metadata": {},
   "source": [
    "Now let's say, for instance, that when we were given the dataset, we were told that a lot of immigration and emmigration happened in the first month of this dataset, and as such a lot of double counting of COVID19 cases happened, and the global numbers of COVID19 were reported as twice of what they really were. \n",
    "\n",
    "Well that's odd — the data from the first month and second month appear to be exactly the same. If this happened to just one or two countries, that might be plausible, but for every country? That seems unlikely.\n",
    "\n",
    "There likely was an error when transferring this data, and a duplication error occurred. We can fix this by simply removing the first month from our dataset, and starting our analysis from the second month (row 1 in the table above), and onwards."
   ]
  },
  {
   "cell_type": "code",
   "execution_count": 13,
   "id": "b6d8839c-544a-4b0a-9d24-0faeac823c4f",
   "metadata": {},
   "outputs": [],
   "source": [
    "# Remove duplicated row\n",
    "covid_data.drop([0], inplace=True)"
   ]
  },
  {
   "cell_type": "markdown",
   "id": "46ed02ec-d60a-460a-83ff-a866afcf1928",
   "metadata": {},
   "source": [
    "At this point, we might decide to visualize our dataset and see if there are any obvious outliers or anomalies. Let's look at the first country!"
   ]
  },
  {
   "cell_type": "code",
   "execution_count": 15,
   "id": "a7cd5490-0755-450c-89b3-40c1980175d3",
   "metadata": {},
   "outputs": [
    {
     "data": {
      "text/plain": [
       "[<matplotlib.lines.Line2D at 0x1b76ea6d0>]"
      ]
     },
     "execution_count": 15,
     "metadata": {},
     "output_type": "execute_result"
    },
    {
     "data": {
      "image/png": "[encoded data removed]",
      "text/plain": [
       "<Figure size 432x288 with 1 Axes>"
      ]
     },
     "metadata": {
      "needs_background": "light"
     },
     "output_type": "display_data"
    }
   ],
   "source": [
    "plt.plot(covid_data[\"0\"], \"r-*\")"
   ]
  },
  {
   "cell_type": "markdown",
   "id": "e17ff7fb-8d4b-4565-9c21-2662ade06449",
   "metadata": {},
   "source": [
    "**Let's extrapolate the data using polynomial fit for 3 more months**"
   ]
  },
  {
   "cell_type": "code",
   "execution_count": 19,
   "id": "14512970-7952-47fb-bdb6-599c2c6ccf46",
   "metadata": {},
   "outputs": [],
   "source": [
    "def plot_extrapolated_country(idx):\n",
    "    x = list(range(53))\n",
    "    y = covid_data[str(idx)]\n",
    "    \n",
    "    plt.plot(y)\n",
    "    \n",
    "    for x1, y1 in zip(x, y):\n",
    "        plt.plot(x1, y1) #, 'ro')\n",
    "\n",
    "    z = np.polyfit(x, y, 2)\n",
    "    f = np.poly1d(z)\n",
    "\n",
    "    new_points = range(12)\n",
    "    for x2 in new_points:\n",
    "        plt.plot(55 + x2, f(55 + x2), 'bo')"
   ]
  },
  {
   "cell_type": "code",
   "execution_count": 20,
   "id": "42a2e2de-1d2a-4315-8b6b-148cb0e78b9a",
   "metadata": {},
   "outputs": [
    {
     "data": {
      "image/png": "[encoded data removed]",
      "text/plain": [
       "<Figure size 432x288 with 1 Axes>"
      ]
     },
     "metadata": {
      "needs_background": "light"
     },
     "output_type": "display_data"
    }
   ],
   "source": [
    "plot_extrapolated_country(0)"
   ]
  },
  {
   "cell_type": "markdown",
   "id": "54e14cdb-0143-44c7-97f5-290ec9fc1560",
   "metadata": {
    "tags": []
   },
   "source": [
    "## Create data into private tensors\n",
    "\n",
    "Convert the data into tensors using sy.Tensor and make the tensor private. (Such data is called metadata which is created using differential privacy which later can be accessed by the data scientist. Each data scientist is assigned with a differential privacy budget, which reduces as the number of times the meta data is accessed.)\n",
    "\n",
    "Entities corresponds to the Data Subjects; i.e. the people whose data is in the dataset, whose privacy we're protecting using Differential Privacy.\n",
    "Entities can be people (such as a medical patient), places (such as a family's address), or\n",
    "even organizations (such as a business, state, or country). If you're not sure what kind of data subject\n",
    "to include, just ask yourself the question, \"who am I trying to protect the privacy of?\". If it's\n",
    "an organization, make one data subject per organization. If it's people, make one data subject per person.\n",
    "If it's a group of people who are somehow similar/linked to each other (such as a family),\n",
    "make each data subject a different group. "
   ]
  },
  {
   "cell_type": "code",
   "execution_count": 30,
   "id": "217b1c80-38bd-432a-bc57-98aeceddc183",
   "metadata": {},
   "outputs": [],
   "source": [
    "dataset = dict()\n",
    "\n",
    "for i in range(covid_data.shape[-1]):\n",
    "    country_name = f\"Country {i}\"\n",
    "    \n",
    "    # Create a new Entity correspoinding to the country and add it to the list\n",
    "    new_entity = Entity(name=country_name)\n",
    "    \n",
    "    # Add it to the Dataset Dictionary\n",
    "    dataset[country_name] = sy.Tensor(covid_data.iloc[:, i].values.astype(np.int32)).private(min_val=0, max_val=150000, entities=new_entity)"
   ]
  },
  {
   "cell_type": "code",
   "execution_count": 35,
   "id": "13f12432-2338-480e-99a0-85591600b038",
   "metadata": {},
   "outputs": [
    {
     "data": {
      "text/plain": [
       "Tensor(child=SingleEntityPhiTensor(entity=Country 0, child=[1140 1211 1238 1093  966  758  858  877  925  629  806  895  818  735\n",
       "  661  629  632  622  589  604  527  498  483  478  519  471  472  482\n",
       "  367  376  336  267  328  416  456  434  363  379  375  322  321  235\n",
       "  275  257  267  255  256  258  233  298  322  390  451]))"
      ]
     },
     "execution_count": 35,
     "metadata": {},
     "output_type": "execute_result"
    }
   ],
   "source": [
    "dataset['Country 0']"
   ]
  },
  {
   "cell_type": "markdown",
   "id": "53050507-9013-43a1-8cb9-938aa445438d",
   "metadata": {
    "tags": []
   },
   "source": [
    "## Log into Domain Node\n",
    "\n",
    "**Local deployment of a domain for Linux, Windows, MacOS :**\n",
    "\n",
    "- [Deploying domain on Linux](https://openmined.github.io/PySyft/install_tutorials/linux.html)\n",
    "- [Deploying domain on Windows](https://openmined.github.io/PySyft/install_tutorials/windows.html)\n",
    "- [Deploying domain on Mac](https://openmined.github.io/PySyft/install_tutorials/osx_11_5_1.html)\n",
    "\n",
    "Create a domain name ‘domain_node’. Login to the domain on Hagrid using default ID & Password."
   ]
  },
  {
   "cell_type": "code",
   "execution_count": 36,
   "id": "602ae46d-0cc6-440e-9599-b3ec72088ba5",
   "metadata": {},
   "outputs": [
    {
     "name": "stdout",
     "output_type": "stream",
     "text": [
      "WARNING: CHANGE YOUR USERNAME AND PASSWORD!!! \n",
      "\n",
      "Anyone can login as an admin to your node right now because your password is still the default PySyft username and password!!!\n",
      "\n",
      "Connecting to None... done! \t Logging into local_node... done!\n"
     ]
    }
   ],
   "source": [
    "domain_node = sy.login(email=\"info@openmined.org\", password=\"changethis\", port=8081)"
   ]
  },
  {
   "cell_type": "markdown",
   "id": "8164c546-03eb-4c3b-b0e4-0bca6a80e3e8",
   "metadata": {},
   "source": [
    "**Check if any previously uploaded dataset**"
   ]
  },
  {
   "cell_type": "code",
   "execution_count": 37,
   "id": "56573168-ec79-4938-bb02-ac655f011bdd",
   "metadata": {},
   "outputs": [
    {
     "data": {
      "text/html": [
       "(no datasets found)"
      ],
      "text/plain": [
       "<syft.core.node.common.client_manager.dataset_api.DatasetRequestAPI at 0x1baf96940>"
      ]
     },
     "execution_count": 37,
     "metadata": {},
     "output_type": "execute_result"
    }
   ],
   "source": [
    "domain_node.datasets"
   ]
  },
  {
   "cell_type": "markdown",
   "id": "6deaf4c3-094b-4f69-a5fa-be9d9b0f44c2",
   "metadata": {},
   "source": [
    "## Upload the dataset to the domain created on HaGrid."
   ]
  },
  {
   "cell_type": "code",
   "execution_count": 38,
   "id": "e9a81f31-f6ce-4357-8e62-74f5ec73f0f4",
   "metadata": {},
   "outputs": [
    {
     "name": "stdout",
     "output_type": "stream",
     "text": [
      "Loading dataset... uploading... SUCCESS!                                                                                                                                      \n",
      "\n",
      "Run <your client variable>.datasets to see your new dataset loaded into your machine!\n"
     ]
    }
   ],
   "source": [
    "domain_node.load_dataset(\n",
    "    assets=dataset, \n",
    "    name=\"COVID19 Cases in 175 countries\", \n",
    "    description=\"Weekly data for an entire year\", \n",
    "    metadata=\"Any metadata you'd like to include goes here\"\n",
    ")"
   ]
  },
  {
   "cell_type": "markdown",
   "id": "a6a8a499-dd72-441b-be33-894b29278030",
   "metadata": {},
   "source": [
    "**Check if the dataset has been created.**"
   ]
  },
  {
   "cell_type": "code",
   "execution_count": 39,
   "id": "d98601d8-154e-433c-b225-6f2ff75340b7",
   "metadata": {},
   "outputs": [
    {
     "data": {
      "text/html": [
       "<style>\n",
       "                #myInput {\n",
       "                  background-position: 10px 12px; /* Position the search icon */\n",
       "                  background-repeat: no-repeat; /* Do not repeat the icon image */\n",
       "                  background-color: #bbb;\n",
       "                  width: 98%; /* Full-width */\n",
       "                  font-size: 14px; /* Increase font-size */\n",
       "                  padding: 12px 20px 12px 40px; /* Add some padding */\n",
       "                  border: 1px solid #ddd; /* Add a grey border */\n",
       "                  margin-bottom: 12px; /* Add some space below the input */\n",
       "                }\n",
       "\n",
       "                #myTable {\n",
       "                  border-collapse: collapse; /* Collapse borders */\n",
       "                  width: 100%; /* Full-width */\n",
       "                  border: 1px solid #ddd; /* Add a grey border */\n",
       "                  font-size: 14px; /* Increase font-size */\n",
       "                }\n",
       "\n",
       "                #myTable th, #myTable td {\n",
       "                  text-align: left; /* Left-align text */\n",
       "                  padding: 10px; /* Add padding */\n",
       "                }\n",
       "\n",
       "                #myTable tr {\n",
       "                  /* Add a bottom border to all table rows */\n",
       "                  border-bottom: 1px solid #ddd;\n",
       "                }\n",
       "\n",
       "                #myTable tr.header, #myTable tr:hover {\n",
       "                  /* Add a grey background color to the table header and on hover */\n",
       "                  background-color: #777;\n",
       "                }\n",
       "                </style>\n",
       "\n",
       "                <table id=\"myTable\" style=\"width:1000px\">\n",
       "                  <tr class=\"header\">\n",
       "                    <th style=\"width:30px\">Idx</th>\n",
       "                    <th style=\"width:20%;\">Name</th>\n",
       "                    <th style=\"width:35%;\">Description</th>\n",
       "                    <th style=\"width:20%;\">Assets</th>\n",
       "                    <th style=\"width:300px;\">Id</th>\n",
       "                  </tr>\n",
       "                \n",
       "\n",
       "          <tr>\n",
       "            <td>[0]</td>\n",
       "            <td>COVID19 Cases in 175 countries</td>\n",
       "            <td>Weekly data for an entire year</td>\n",
       "            <td>[\"Country 0\"] -> Tensor<br /><br />[\"Country 1\"] -> Tensor<br /><br />[\"Country 2\"] -> Tensor<br /><br />...<br /><br /></td>\n",
       "            <td>51da7d0f-7e80-4b82-b5aa-9814a3ee9cef</td>\n",
       "          </tr>\n",
       "        </table>\n",
       "\n",
       "        <script>\n",
       "        function myFunction() {\n",
       "          // Declare variables\n",
       "          var input, filter, table, tr, td, i, txtValue;\n",
       "          input = document.getElementById(\"myInput\");\n",
       "          filter = input.value.toUpperCase();\n",
       "          table = document.getElementById(\"myTable\");\n",
       "          tr = table.getElementsByTagName(\"tr\");\n",
       "\n",
       "          // Loop through all table rows, and hide those who don't match the search query\n",
       "          for (i = 0; i < tr.length; i++) {\n",
       "            name_td = tr[i].getElementsByTagName(\"td\")[1];\n",
       "            desc_td = tr[i].getElementsByTagName(\"td\")[2];\n",
       "            asset_td = tr[i].getElementsByTagName(\"td\")[3];\n",
       "            id_td = tr[i].getElementsByTagName(\"td\")[4];\n",
       "            if (name_td || desc_td || asset_td || id_td) {\n",
       "              name_txtValue = name_td.textContent || name_td.innerText;\n",
       "              desc_txtValue = desc_td.textContent || name_td.innerText;\n",
       "              asset_txtValue = asset_td.textContent || name_td.innerText;\n",
       "              id_txtValue = id_td.textContent || name_td.innerText;\n",
       "              name_bool = name_txtValue.toUpperCase().indexOf(filter) > -1;\n",
       "              desc_bool = desc_txtValue.toUpperCase().indexOf(filter) > -1;\n",
       "              asset_bool = asset_txtValue.toUpperCase().indexOf(filter) > -1;\n",
       "              id_bool = id_txtValue.toUpperCase().indexOf(filter) > -1;\n",
       "              if (name_bool || desc_bool || asset_bool || id_bool) {\n",
       "                tr[i].style.display = \"\";\n",
       "              } else {\n",
       "                tr[i].style.display = \"none\";\n",
       "              }\n",
       "            }\n",
       "          }\n",
       "        }\n",
       "        </script>"
      ],
      "text/plain": [
       "<syft.core.node.common.client_manager.dataset_api.DatasetRequestAPI at 0x1baf96940>"
      ]
     },
     "execution_count": 39,
     "metadata": {},
     "output_type": "execute_result"
    }
   ],
   "source": [
    "domain_node.datasets"
   ]
  },
  {
   "cell_type": "markdown",
   "id": "6493df14-16a5-4566-bf43-57f863d54857",
   "metadata": {},
   "source": [
    "## Create a new user as Data Scientist\n",
    "Give access to perform Remote Data Science on our data."
   ]
  },
  {
   "cell_type": "code",
   "execution_count": 40,
   "id": "bb88adc1-6df5-4def-8122-3acf9b9077eb",
   "metadata": {},
   "outputs": [],
   "source": [
    "domain_node.users.create(\n",
    "    **{\n",
    "        \"name\": \"Zoheb A\", \n",
    "        \"email\": \"zoheb@amat.com\", \n",
    "        \"password\": \"bazinga\", \n",
    "        \"budget\": 500}\n",
    "                        )"
   ]
  },
  {
   "cell_type": "code",
   "execution_count": 41,
   "id": "1fac941c-1c58-4a55-af03-3c5dc8b0b47f",
   "metadata": {},
   "outputs": [
    {
     "data": {
      "text/html": [
       "<div>\n",
       "<style scoped>\n",
       "    .dataframe tbody tr th:only-of-type {\n",
       "        vertical-align: middle;\n",
       "    }\n",
       "\n",
       "    .dataframe tbody tr th {\n",
       "        vertical-align: top;\n",
       "    }\n",
       "\n",
       "    .dataframe thead th {\n",
       "        text-align: right;\n",
       "    }\n",
       "</style>\n",
       "<table border=\"1\" class=\"dataframe\">\n",
       "  <thead>\n",
       "    <tr style=\"text-align: right;\">\n",
       "      <th></th>\n",
       "      <th>id</th>\n",
       "      <th>email</th>\n",
       "      <th>name</th>\n",
       "      <th>budget</th>\n",
       "      <th>verify_key</th>\n",
       "      <th>role</th>\n",
       "      <th>added_by</th>\n",
       "      <th>website</th>\n",
       "      <th>institution</th>\n",
       "      <th>daa_pdf</th>\n",
       "      <th>created_at</th>\n",
       "      <th>budget_spent</th>\n",
       "    </tr>\n",
       "  </thead>\n",
       "  <tbody>\n",
       "    <tr>\n",
       "      <th>0</th>\n",
       "      <td>5</td>\n",
       "      <td>info@openmined.org</td>\n",
       "      <td>Jane Doe</td>\n",
       "      <td>5.55</td>\n",
       "      <td>2058075227f28fc71106a138653e73e533e0323c08845d...</td>\n",
       "      <td>Owner</td>\n",
       "      <td>None</td>\n",
       "      <td>None</td>\n",
       "      <td>None</td>\n",
       "      <td>NaN</td>\n",
       "      <td>2022-08-04 12:33:20.055803</td>\n",
       "      <td>5.55</td>\n",
       "    </tr>\n",
       "    <tr>\n",
       "      <th>1</th>\n",
       "      <td>6</td>\n",
       "      <td>zoheb@amat.com</td>\n",
       "      <td>Zoheb A</td>\n",
       "      <td>500.00</td>\n",
       "      <td>4264dd06a9ff30e7afc002f43f2a0410eec1578816b46f...</td>\n",
       "      <td>Data Scientist</td>\n",
       "      <td>Jane Doe</td>\n",
       "      <td></td>\n",
       "      <td></td>\n",
       "      <td>3.0</td>\n",
       "      <td>2022-08-04 13:34:24.966974</td>\n",
       "      <td>500.00</td>\n",
       "    </tr>\n",
       "  </tbody>\n",
       "</table>\n",
       "</div>"
      ],
      "text/plain": [
       "<syft.core.node.common.client_manager.user_api.UserRequestAPI at 0x1baf96730>"
      ]
     },
     "execution_count": 41,
     "metadata": {},
     "output_type": "execute_result"
    }
   ],
   "source": [
    "domain_node.users"
   ]
  },
  {
   "cell_type": "markdown",
   "id": "3c16e66e-155d-4f95-b88c-e378ebc0b216",
   "metadata": {},
   "source": [
    "**Congratulations! You've successfully deployed a Domain Node, loaded in data, and created a user account for a Data Scientist!**"
   ]
  }
 ],
 "metadata": {
  "kernelspec": {
   "display_name": "Python 3 (ipykernel)",
   "language": "python",
   "name": "python3"
  },
  "language_info": {
   "codemirror_mode": {
    "name": "ipython",
    "version": 3
   },
   "file_extension": ".py",
   "mimetype": "text/x-python",
   "name": "python",
   "nbconvert_exporter": "python",
   "pygments_lexer": "ipython3",
   "version": "3.9.13"
  }
 },
 "nbformat": 4,
 "nbformat_minor": 5
}
